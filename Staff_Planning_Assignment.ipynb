{
  "cells": [
    {
      "cell_type": "markdown",
      "source": [
        "# Staff Planning - Optimization"
      ],
      "metadata": {
        "id": "Bz03mKk7w3i4"
      }
    },
    {
      "cell_type": "markdown",
      "source": [
        "## Problem Statement\n",
        "\n",
        "The insurance approval process, i.e., underwriting is one of the important and time-consuming tasks in an insurance application processing. When an insurance application is submitted, the underwriter of the company evaluates it based on the details provided by the applicant using a rule-based or an ML model and decides whether or not to approve the application.\n",
        "\n",
        "An insurance company InsurePlus operates in three states: A, B and C. The company can either handle an application with the staff that they hire or outsource it to a vendor. The company has been able to forecast the state-wise demand for insurance for each month of the year - 2021.\n",
        "\n",
        "A staff member can handle 40 insurance applications per month when he/she works 100% of the workdays and there is no capacity limitation to outsourcing. A staff member’s availability (in percentage) to work on processing the insurance applications for each month and state has been provided. States A and B have a regulatory restriction that the outsourced insurance applications cannot be more than 30% and 40% of the total number of applications for each month, respectively. \n",
        "\n",
        "We have been provided with the data on the annual salary of staff for each state and the outsourcing cost per application in each state.\n"
      ],
      "metadata": {
        "id": "J-4N-oNWxPOi"
      }
    },
    {
      "cell_type": "markdown",
      "source": [
        "## Business Objective\n",
        "\n",
        "An insurance company InsurePlus requires a solution on the optimal number of staff that they need for their insurance application approval process for the calendar year 2021.  In the industry, the number of staffs is considered as a continuous variable. This is also called a Full-Time Equivalent (FTE) of the staff\n",
        "\n",
        "The objective is to optimise the total cost for the application approval process by distributing the right number of applications between the FTEs and the vendors while meeting the monthly demand for each state at the same time."
      ],
      "metadata": {
        "id": "HwtYlFIv3NBQ"
      }
    },
    {
      "cell_type": "code",
      "source": [
        "# Installing pyomo\n",
        "!pip install -q pyomo\n",
        "!apt-get install -y -qq coinor-cbc\n",
        "!apt-get install -y -qq glpk-utils"
      ],
      "metadata": {
        "colab": {
          "base_uri": "https://localhost:8080/"
        },
        "id": "XERaOXeIww1L",
        "outputId": "1faec369-e4f5-46ff-83dc-2763a30ed0b6"
      },
      "execution_count": 1,
      "outputs": [
        {
          "output_type": "stream",
          "name": "stdout",
          "text": [
            "\u001b[K     |████████████████████████████████| 9.7 MB 1.2 MB/s \n",
            "\u001b[K     |████████████████████████████████| 49 kB 5.5 MB/s \n",
            "\u001b[?25hSelecting previously unselected package coinor-libcoinutils3v5.\n",
            "(Reading database ... 123942 files and directories currently installed.)\n",
            "Preparing to unpack .../0-coinor-libcoinutils3v5_2.10.14+repack1-1_amd64.deb ...\n",
            "Unpacking coinor-libcoinutils3v5 (2.10.14+repack1-1) ...\n",
            "Selecting previously unselected package coinor-libosi1v5.\n",
            "Preparing to unpack .../1-coinor-libosi1v5_0.107.9+repack1-1_amd64.deb ...\n",
            "Unpacking coinor-libosi1v5 (0.107.9+repack1-1) ...\n",
            "Selecting previously unselected package coinor-libclp1.\n",
            "Preparing to unpack .../2-coinor-libclp1_1.16.11+repack1-1_amd64.deb ...\n",
            "Unpacking coinor-libclp1 (1.16.11+repack1-1) ...\n",
            "Selecting previously unselected package coinor-libcgl1.\n",
            "Preparing to unpack .../3-coinor-libcgl1_0.59.10+repack1-1_amd64.deb ...\n",
            "Unpacking coinor-libcgl1 (0.59.10+repack1-1) ...\n",
            "Selecting previously unselected package coinor-libcbc3.\n",
            "Preparing to unpack .../4-coinor-libcbc3_2.9.9+repack1-1_amd64.deb ...\n",
            "Unpacking coinor-libcbc3 (2.9.9+repack1-1) ...\n",
            "Selecting previously unselected package coinor-cbc.\n",
            "Preparing to unpack .../5-coinor-cbc_2.9.9+repack1-1_amd64.deb ...\n",
            "Unpacking coinor-cbc (2.9.9+repack1-1) ...\n",
            "Setting up coinor-libcoinutils3v5 (2.10.14+repack1-1) ...\n",
            "Setting up coinor-libosi1v5 (0.107.9+repack1-1) ...\n",
            "Setting up coinor-libclp1 (1.16.11+repack1-1) ...\n",
            "Setting up coinor-libcgl1 (0.59.10+repack1-1) ...\n",
            "Setting up coinor-libcbc3 (2.9.9+repack1-1) ...\n",
            "Setting up coinor-cbc (2.9.9+repack1-1) ...\n",
            "Processing triggers for man-db (2.8.3-2ubuntu0.1) ...\n",
            "Processing triggers for libc-bin (2.27-3ubuntu1.6) ...\n",
            "Selecting previously unselected package libsuitesparseconfig5:amd64.\n",
            "(Reading database ... 123987 files and directories currently installed.)\n",
            "Preparing to unpack .../libsuitesparseconfig5_1%3a5.1.2-2_amd64.deb ...\n",
            "Unpacking libsuitesparseconfig5:amd64 (1:5.1.2-2) ...\n",
            "Selecting previously unselected package libamd2:amd64.\n",
            "Preparing to unpack .../libamd2_1%3a5.1.2-2_amd64.deb ...\n",
            "Unpacking libamd2:amd64 (1:5.1.2-2) ...\n",
            "Selecting previously unselected package libcolamd2:amd64.\n",
            "Preparing to unpack .../libcolamd2_1%3a5.1.2-2_amd64.deb ...\n",
            "Unpacking libcolamd2:amd64 (1:5.1.2-2) ...\n",
            "Selecting previously unselected package libglpk40:amd64.\n",
            "Preparing to unpack .../libglpk40_4.65-1_amd64.deb ...\n",
            "Unpacking libglpk40:amd64 (4.65-1) ...\n",
            "Selecting previously unselected package glpk-utils.\n",
            "Preparing to unpack .../glpk-utils_4.65-1_amd64.deb ...\n",
            "Unpacking glpk-utils (4.65-1) ...\n",
            "Setting up libsuitesparseconfig5:amd64 (1:5.1.2-2) ...\n",
            "Setting up libcolamd2:amd64 (1:5.1.2-2) ...\n",
            "Setting up libamd2:amd64 (1:5.1.2-2) ...\n",
            "Setting up libglpk40:amd64 (4.65-1) ...\n",
            "Setting up glpk-utils (4.65-1) ...\n",
            "Processing triggers for libc-bin (2.27-3ubuntu1.6) ...\n",
            "Processing triggers for man-db (2.8.3-2ubuntu0.1) ...\n"
          ]
        }
      ]
    },
    {
      "cell_type": "code",
      "execution_count": 2,
      "metadata": {
        "id": "zYsl1jdEuJnM"
      },
      "outputs": [],
      "source": [
        "# Importing Libraries \n",
        "\n",
        "import pandas as pd\n",
        "import numpy as np\n",
        "import math\n",
        "from pyomo.environ import *"
      ]
    },
    {
      "cell_type": "code",
      "execution_count": 3,
      "metadata": {
        "id": "tqmZuIGAuJnZ"
      },
      "outputs": [],
      "source": [
        "from __future__ import division\n",
        "from pyomo.opt import SolverFactory"
      ]
    },
    {
      "cell_type": "code",
      "source": [
        "from google.colab import drive\n",
        "drive.mount('/content.drive')"
      ],
      "metadata": {
        "colab": {
          "base_uri": "https://localhost:8080/"
        },
        "id": "RLeJuOXp4fKf",
        "outputId": "8e81e535-db2f-46bf-83db-0586a36bd755"
      },
      "execution_count": null,
      "outputs": [
        {
          "output_type": "stream",
          "name": "stdout",
          "text": [
            "Mounted at /content.drive\n"
          ]
        }
      ]
    },
    {
      "cell_type": "code",
      "execution_count": 6,
      "metadata": {
        "id": "ktR5s-i8uJnb"
      },
      "outputs": [],
      "source": [
        "# Reading the data from Excel workbook\n",
        "path = \"/content.drive/MyDrive/colab data/Staffing+Data.xlsx\"\n",
        "#staff_data = pd.read_excel(path)\n",
        "\n",
        "Staff_avail = pd.read_excel(path,sheet_name=\"StaffAvailability\")\n",
        "Demand = pd.read_excel(path,sheet_name=\"DemandData\")\n",
        "Cost = pd.read_excel(path,sheet_name=\"Cost\")\n",
        "Data_dict =pd.read_excel(path,sheet_name=\"Data Dictionary\")\n",
        "Rate = pd.read_excel(path,sheet_name=\"ServiceRate\")"
      ]
    },
    {
      "cell_type": "code",
      "source": [
        "Staff_avail.head()"
      ],
      "metadata": {
        "colab": {
          "base_uri": "https://localhost:8080/",
          "height": 206
        },
        "id": "EGMeX6-z6ibQ",
        "outputId": "53619688-9200-4ad7-d1e9-42e55787b842"
      },
      "execution_count": 7,
      "outputs": [
        {
          "output_type": "execute_result",
          "data": {
            "text/plain": [
              "  State Month    LB    UB  StaffAvPer\n",
              "0     A   Jan  0.70  0.90        0.81\n",
              "1     A   Feb  0.65  0.85        0.76\n",
              "2     A   Mar  0.70  0.80        0.75\n",
              "3     A   Apr  0.75  0.85        0.80\n",
              "4     A   May  0.70  0.85        0.78"
            ],
            "text/html": [
              "\n",
              "  <div id=\"df-5d35754f-2cf7-442c-9321-91f4d0425f53\">\n",
              "    <div class=\"colab-df-container\">\n",
              "      <div>\n",
              "<style scoped>\n",
              "    .dataframe tbody tr th:only-of-type {\n",
              "        vertical-align: middle;\n",
              "    }\n",
              "\n",
              "    .dataframe tbody tr th {\n",
              "        vertical-align: top;\n",
              "    }\n",
              "\n",
              "    .dataframe thead th {\n",
              "        text-align: right;\n",
              "    }\n",
              "</style>\n",
              "<table border=\"1\" class=\"dataframe\">\n",
              "  <thead>\n",
              "    <tr style=\"text-align: right;\">\n",
              "      <th></th>\n",
              "      <th>State</th>\n",
              "      <th>Month</th>\n",
              "      <th>LB</th>\n",
              "      <th>UB</th>\n",
              "      <th>StaffAvPer</th>\n",
              "    </tr>\n",
              "  </thead>\n",
              "  <tbody>\n",
              "    <tr>\n",
              "      <th>0</th>\n",
              "      <td>A</td>\n",
              "      <td>Jan</td>\n",
              "      <td>0.70</td>\n",
              "      <td>0.90</td>\n",
              "      <td>0.81</td>\n",
              "    </tr>\n",
              "    <tr>\n",
              "      <th>1</th>\n",
              "      <td>A</td>\n",
              "      <td>Feb</td>\n",
              "      <td>0.65</td>\n",
              "      <td>0.85</td>\n",
              "      <td>0.76</td>\n",
              "    </tr>\n",
              "    <tr>\n",
              "      <th>2</th>\n",
              "      <td>A</td>\n",
              "      <td>Mar</td>\n",
              "      <td>0.70</td>\n",
              "      <td>0.80</td>\n",
              "      <td>0.75</td>\n",
              "    </tr>\n",
              "    <tr>\n",
              "      <th>3</th>\n",
              "      <td>A</td>\n",
              "      <td>Apr</td>\n",
              "      <td>0.75</td>\n",
              "      <td>0.85</td>\n",
              "      <td>0.80</td>\n",
              "    </tr>\n",
              "    <tr>\n",
              "      <th>4</th>\n",
              "      <td>A</td>\n",
              "      <td>May</td>\n",
              "      <td>0.70</td>\n",
              "      <td>0.85</td>\n",
              "      <td>0.78</td>\n",
              "    </tr>\n",
              "  </tbody>\n",
              "</table>\n",
              "</div>\n",
              "      <button class=\"colab-df-convert\" onclick=\"convertToInteractive('df-5d35754f-2cf7-442c-9321-91f4d0425f53')\"\n",
              "              title=\"Convert this dataframe to an interactive table.\"\n",
              "              style=\"display:none;\">\n",
              "        \n",
              "  <svg xmlns=\"http://www.w3.org/2000/svg\" height=\"24px\"viewBox=\"0 0 24 24\"\n",
              "       width=\"24px\">\n",
              "    <path d=\"M0 0h24v24H0V0z\" fill=\"none\"/>\n",
              "    <path d=\"M18.56 5.44l.94 2.06.94-2.06 2.06-.94-2.06-.94-.94-2.06-.94 2.06-2.06.94zm-11 1L8.5 8.5l.94-2.06 2.06-.94-2.06-.94L8.5 2.5l-.94 2.06-2.06.94zm10 10l.94 2.06.94-2.06 2.06-.94-2.06-.94-.94-2.06-.94 2.06-2.06.94z\"/><path d=\"M17.41 7.96l-1.37-1.37c-.4-.4-.92-.59-1.43-.59-.52 0-1.04.2-1.43.59L10.3 9.45l-7.72 7.72c-.78.78-.78 2.05 0 2.83L4 21.41c.39.39.9.59 1.41.59.51 0 1.02-.2 1.41-.59l7.78-7.78 2.81-2.81c.8-.78.8-2.07 0-2.86zM5.41 20L4 18.59l7.72-7.72 1.47 1.35L5.41 20z\"/>\n",
              "  </svg>\n",
              "      </button>\n",
              "      \n",
              "  <style>\n",
              "    .colab-df-container {\n",
              "      display:flex;\n",
              "      flex-wrap:wrap;\n",
              "      gap: 12px;\n",
              "    }\n",
              "\n",
              "    .colab-df-convert {\n",
              "      background-color: #E8F0FE;\n",
              "      border: none;\n",
              "      border-radius: 50%;\n",
              "      cursor: pointer;\n",
              "      display: none;\n",
              "      fill: #1967D2;\n",
              "      height: 32px;\n",
              "      padding: 0 0 0 0;\n",
              "      width: 32px;\n",
              "    }\n",
              "\n",
              "    .colab-df-convert:hover {\n",
              "      background-color: #E2EBFA;\n",
              "      box-shadow: 0px 1px 2px rgba(60, 64, 67, 0.3), 0px 1px 3px 1px rgba(60, 64, 67, 0.15);\n",
              "      fill: #174EA6;\n",
              "    }\n",
              "\n",
              "    [theme=dark] .colab-df-convert {\n",
              "      background-color: #3B4455;\n",
              "      fill: #D2E3FC;\n",
              "    }\n",
              "\n",
              "    [theme=dark] .colab-df-convert:hover {\n",
              "      background-color: #434B5C;\n",
              "      box-shadow: 0px 1px 3px 1px rgba(0, 0, 0, 0.15);\n",
              "      filter: drop-shadow(0px 1px 2px rgba(0, 0, 0, 0.3));\n",
              "      fill: #FFFFFF;\n",
              "    }\n",
              "  </style>\n",
              "\n",
              "      <script>\n",
              "        const buttonEl =\n",
              "          document.querySelector('#df-5d35754f-2cf7-442c-9321-91f4d0425f53 button.colab-df-convert');\n",
              "        buttonEl.style.display =\n",
              "          google.colab.kernel.accessAllowed ? 'block' : 'none';\n",
              "\n",
              "        async function convertToInteractive(key) {\n",
              "          const element = document.querySelector('#df-5d35754f-2cf7-442c-9321-91f4d0425f53');\n",
              "          const dataTable =\n",
              "            await google.colab.kernel.invokeFunction('convertToInteractive',\n",
              "                                                     [key], {});\n",
              "          if (!dataTable) return;\n",
              "\n",
              "          const docLinkHtml = 'Like what you see? Visit the ' +\n",
              "            '<a target=\"_blank\" href=https://colab.research.google.com/notebooks/data_table.ipynb>data table notebook</a>'\n",
              "            + ' to learn more about interactive tables.';\n",
              "          element.innerHTML = '';\n",
              "          dataTable['output_type'] = 'display_data';\n",
              "          await google.colab.output.renderOutput(dataTable, element);\n",
              "          const docLink = document.createElement('div');\n",
              "          docLink.innerHTML = docLinkHtml;\n",
              "          element.appendChild(docLink);\n",
              "        }\n",
              "      </script>\n",
              "    </div>\n",
              "  </div>\n",
              "  "
            ]
          },
          "metadata": {},
          "execution_count": 7
        }
      ]
    },
    {
      "cell_type": "code",
      "source": [
        "Demand.head()"
      ],
      "metadata": {
        "colab": {
          "base_uri": "https://localhost:8080/",
          "height": 206
        },
        "id": "FEILT25Z7U6p",
        "outputId": "a1b5a120-b4eb-40ab-dc76-c65ea7e6d004"
      },
      "execution_count": 8,
      "outputs": [
        {
          "output_type": "execute_result",
          "data": {
            "text/plain": [
              "  State Month  Demand\n",
              "0     A   Jan    5240\n",
              "1     A   Feb    4878\n",
              "2     A   Mar    5942\n",
              "3     A   Apr    2297\n",
              "4     A   May    1992"
            ],
            "text/html": [
              "\n",
              "  <div id=\"df-bd74ad72-de8d-4ce2-b923-2231bf7e4846\">\n",
              "    <div class=\"colab-df-container\">\n",
              "      <div>\n",
              "<style scoped>\n",
              "    .dataframe tbody tr th:only-of-type {\n",
              "        vertical-align: middle;\n",
              "    }\n",
              "\n",
              "    .dataframe tbody tr th {\n",
              "        vertical-align: top;\n",
              "    }\n",
              "\n",
              "    .dataframe thead th {\n",
              "        text-align: right;\n",
              "    }\n",
              "</style>\n",
              "<table border=\"1\" class=\"dataframe\">\n",
              "  <thead>\n",
              "    <tr style=\"text-align: right;\">\n",
              "      <th></th>\n",
              "      <th>State</th>\n",
              "      <th>Month</th>\n",
              "      <th>Demand</th>\n",
              "    </tr>\n",
              "  </thead>\n",
              "  <tbody>\n",
              "    <tr>\n",
              "      <th>0</th>\n",
              "      <td>A</td>\n",
              "      <td>Jan</td>\n",
              "      <td>5240</td>\n",
              "    </tr>\n",
              "    <tr>\n",
              "      <th>1</th>\n",
              "      <td>A</td>\n",
              "      <td>Feb</td>\n",
              "      <td>4878</td>\n",
              "    </tr>\n",
              "    <tr>\n",
              "      <th>2</th>\n",
              "      <td>A</td>\n",
              "      <td>Mar</td>\n",
              "      <td>5942</td>\n",
              "    </tr>\n",
              "    <tr>\n",
              "      <th>3</th>\n",
              "      <td>A</td>\n",
              "      <td>Apr</td>\n",
              "      <td>2297</td>\n",
              "    </tr>\n",
              "    <tr>\n",
              "      <th>4</th>\n",
              "      <td>A</td>\n",
              "      <td>May</td>\n",
              "      <td>1992</td>\n",
              "    </tr>\n",
              "  </tbody>\n",
              "</table>\n",
              "</div>\n",
              "      <button class=\"colab-df-convert\" onclick=\"convertToInteractive('df-bd74ad72-de8d-4ce2-b923-2231bf7e4846')\"\n",
              "              title=\"Convert this dataframe to an interactive table.\"\n",
              "              style=\"display:none;\">\n",
              "        \n",
              "  <svg xmlns=\"http://www.w3.org/2000/svg\" height=\"24px\"viewBox=\"0 0 24 24\"\n",
              "       width=\"24px\">\n",
              "    <path d=\"M0 0h24v24H0V0z\" fill=\"none\"/>\n",
              "    <path d=\"M18.56 5.44l.94 2.06.94-2.06 2.06-.94-2.06-.94-.94-2.06-.94 2.06-2.06.94zm-11 1L8.5 8.5l.94-2.06 2.06-.94-2.06-.94L8.5 2.5l-.94 2.06-2.06.94zm10 10l.94 2.06.94-2.06 2.06-.94-2.06-.94-.94-2.06-.94 2.06-2.06.94z\"/><path d=\"M17.41 7.96l-1.37-1.37c-.4-.4-.92-.59-1.43-.59-.52 0-1.04.2-1.43.59L10.3 9.45l-7.72 7.72c-.78.78-.78 2.05 0 2.83L4 21.41c.39.39.9.59 1.41.59.51 0 1.02-.2 1.41-.59l7.78-7.78 2.81-2.81c.8-.78.8-2.07 0-2.86zM5.41 20L4 18.59l7.72-7.72 1.47 1.35L5.41 20z\"/>\n",
              "  </svg>\n",
              "      </button>\n",
              "      \n",
              "  <style>\n",
              "    .colab-df-container {\n",
              "      display:flex;\n",
              "      flex-wrap:wrap;\n",
              "      gap: 12px;\n",
              "    }\n",
              "\n",
              "    .colab-df-convert {\n",
              "      background-color: #E8F0FE;\n",
              "      border: none;\n",
              "      border-radius: 50%;\n",
              "      cursor: pointer;\n",
              "      display: none;\n",
              "      fill: #1967D2;\n",
              "      height: 32px;\n",
              "      padding: 0 0 0 0;\n",
              "      width: 32px;\n",
              "    }\n",
              "\n",
              "    .colab-df-convert:hover {\n",
              "      background-color: #E2EBFA;\n",
              "      box-shadow: 0px 1px 2px rgba(60, 64, 67, 0.3), 0px 1px 3px 1px rgba(60, 64, 67, 0.15);\n",
              "      fill: #174EA6;\n",
              "    }\n",
              "\n",
              "    [theme=dark] .colab-df-convert {\n",
              "      background-color: #3B4455;\n",
              "      fill: #D2E3FC;\n",
              "    }\n",
              "\n",
              "    [theme=dark] .colab-df-convert:hover {\n",
              "      background-color: #434B5C;\n",
              "      box-shadow: 0px 1px 3px 1px rgba(0, 0, 0, 0.15);\n",
              "      filter: drop-shadow(0px 1px 2px rgba(0, 0, 0, 0.3));\n",
              "      fill: #FFFFFF;\n",
              "    }\n",
              "  </style>\n",
              "\n",
              "      <script>\n",
              "        const buttonEl =\n",
              "          document.querySelector('#df-bd74ad72-de8d-4ce2-b923-2231bf7e4846 button.colab-df-convert');\n",
              "        buttonEl.style.display =\n",
              "          google.colab.kernel.accessAllowed ? 'block' : 'none';\n",
              "\n",
              "        async function convertToInteractive(key) {\n",
              "          const element = document.querySelector('#df-bd74ad72-de8d-4ce2-b923-2231bf7e4846');\n",
              "          const dataTable =\n",
              "            await google.colab.kernel.invokeFunction('convertToInteractive',\n",
              "                                                     [key], {});\n",
              "          if (!dataTable) return;\n",
              "\n",
              "          const docLinkHtml = 'Like what you see? Visit the ' +\n",
              "            '<a target=\"_blank\" href=https://colab.research.google.com/notebooks/data_table.ipynb>data table notebook</a>'\n",
              "            + ' to learn more about interactive tables.';\n",
              "          element.innerHTML = '';\n",
              "          dataTable['output_type'] = 'display_data';\n",
              "          await google.colab.output.renderOutput(dataTable, element);\n",
              "          const docLink = document.createElement('div');\n",
              "          docLink.innerHTML = docLinkHtml;\n",
              "          element.appendChild(docLink);\n",
              "        }\n",
              "      </script>\n",
              "    </div>\n",
              "  </div>\n",
              "  "
            ]
          },
          "metadata": {},
          "execution_count": 8
        }
      ]
    },
    {
      "cell_type": "code",
      "source": [
        "Cost.head()"
      ],
      "metadata": {
        "colab": {
          "base_uri": "https://localhost:8080/",
          "height": 206
        },
        "id": "9u-YUfBV7aSy",
        "outputId": "00fd95b3-21fb-4dc9-a8fc-4c4f683e8bac"
      },
      "execution_count": 9,
      "outputs": [
        {
          "output_type": "execute_result",
          "data": {
            "text/plain": [
              "  State Month  AnnualSalary  MonthlySalary  UnitOutSourceCost\n",
              "0     A   Jan         60000         5000.0                180\n",
              "1     A   Feb         60000         5000.0                180\n",
              "2     A   Mar         60000         5000.0                180\n",
              "3     A   Apr         60000         5000.0                180\n",
              "4     A   May         60000         5000.0                180"
            ],
            "text/html": [
              "\n",
              "  <div id=\"df-1d5cfd96-373a-4f7b-8d22-050501352c18\">\n",
              "    <div class=\"colab-df-container\">\n",
              "      <div>\n",
              "<style scoped>\n",
              "    .dataframe tbody tr th:only-of-type {\n",
              "        vertical-align: middle;\n",
              "    }\n",
              "\n",
              "    .dataframe tbody tr th {\n",
              "        vertical-align: top;\n",
              "    }\n",
              "\n",
              "    .dataframe thead th {\n",
              "        text-align: right;\n",
              "    }\n",
              "</style>\n",
              "<table border=\"1\" class=\"dataframe\">\n",
              "  <thead>\n",
              "    <tr style=\"text-align: right;\">\n",
              "      <th></th>\n",
              "      <th>State</th>\n",
              "      <th>Month</th>\n",
              "      <th>AnnualSalary</th>\n",
              "      <th>MonthlySalary</th>\n",
              "      <th>UnitOutSourceCost</th>\n",
              "    </tr>\n",
              "  </thead>\n",
              "  <tbody>\n",
              "    <tr>\n",
              "      <th>0</th>\n",
              "      <td>A</td>\n",
              "      <td>Jan</td>\n",
              "      <td>60000</td>\n",
              "      <td>5000.0</td>\n",
              "      <td>180</td>\n",
              "    </tr>\n",
              "    <tr>\n",
              "      <th>1</th>\n",
              "      <td>A</td>\n",
              "      <td>Feb</td>\n",
              "      <td>60000</td>\n",
              "      <td>5000.0</td>\n",
              "      <td>180</td>\n",
              "    </tr>\n",
              "    <tr>\n",
              "      <th>2</th>\n",
              "      <td>A</td>\n",
              "      <td>Mar</td>\n",
              "      <td>60000</td>\n",
              "      <td>5000.0</td>\n",
              "      <td>180</td>\n",
              "    </tr>\n",
              "    <tr>\n",
              "      <th>3</th>\n",
              "      <td>A</td>\n",
              "      <td>Apr</td>\n",
              "      <td>60000</td>\n",
              "      <td>5000.0</td>\n",
              "      <td>180</td>\n",
              "    </tr>\n",
              "    <tr>\n",
              "      <th>4</th>\n",
              "      <td>A</td>\n",
              "      <td>May</td>\n",
              "      <td>60000</td>\n",
              "      <td>5000.0</td>\n",
              "      <td>180</td>\n",
              "    </tr>\n",
              "  </tbody>\n",
              "</table>\n",
              "</div>\n",
              "      <button class=\"colab-df-convert\" onclick=\"convertToInteractive('df-1d5cfd96-373a-4f7b-8d22-050501352c18')\"\n",
              "              title=\"Convert this dataframe to an interactive table.\"\n",
              "              style=\"display:none;\">\n",
              "        \n",
              "  <svg xmlns=\"http://www.w3.org/2000/svg\" height=\"24px\"viewBox=\"0 0 24 24\"\n",
              "       width=\"24px\">\n",
              "    <path d=\"M0 0h24v24H0V0z\" fill=\"none\"/>\n",
              "    <path d=\"M18.56 5.44l.94 2.06.94-2.06 2.06-.94-2.06-.94-.94-2.06-.94 2.06-2.06.94zm-11 1L8.5 8.5l.94-2.06 2.06-.94-2.06-.94L8.5 2.5l-.94 2.06-2.06.94zm10 10l.94 2.06.94-2.06 2.06-.94-2.06-.94-.94-2.06-.94 2.06-2.06.94z\"/><path d=\"M17.41 7.96l-1.37-1.37c-.4-.4-.92-.59-1.43-.59-.52 0-1.04.2-1.43.59L10.3 9.45l-7.72 7.72c-.78.78-.78 2.05 0 2.83L4 21.41c.39.39.9.59 1.41.59.51 0 1.02-.2 1.41-.59l7.78-7.78 2.81-2.81c.8-.78.8-2.07 0-2.86zM5.41 20L4 18.59l7.72-7.72 1.47 1.35L5.41 20z\"/>\n",
              "  </svg>\n",
              "      </button>\n",
              "      \n",
              "  <style>\n",
              "    .colab-df-container {\n",
              "      display:flex;\n",
              "      flex-wrap:wrap;\n",
              "      gap: 12px;\n",
              "    }\n",
              "\n",
              "    .colab-df-convert {\n",
              "      background-color: #E8F0FE;\n",
              "      border: none;\n",
              "      border-radius: 50%;\n",
              "      cursor: pointer;\n",
              "      display: none;\n",
              "      fill: #1967D2;\n",
              "      height: 32px;\n",
              "      padding: 0 0 0 0;\n",
              "      width: 32px;\n",
              "    }\n",
              "\n",
              "    .colab-df-convert:hover {\n",
              "      background-color: #E2EBFA;\n",
              "      box-shadow: 0px 1px 2px rgba(60, 64, 67, 0.3), 0px 1px 3px 1px rgba(60, 64, 67, 0.15);\n",
              "      fill: #174EA6;\n",
              "    }\n",
              "\n",
              "    [theme=dark] .colab-df-convert {\n",
              "      background-color: #3B4455;\n",
              "      fill: #D2E3FC;\n",
              "    }\n",
              "\n",
              "    [theme=dark] .colab-df-convert:hover {\n",
              "      background-color: #434B5C;\n",
              "      box-shadow: 0px 1px 3px 1px rgba(0, 0, 0, 0.15);\n",
              "      filter: drop-shadow(0px 1px 2px rgba(0, 0, 0, 0.3));\n",
              "      fill: #FFFFFF;\n",
              "    }\n",
              "  </style>\n",
              "\n",
              "      <script>\n",
              "        const buttonEl =\n",
              "          document.querySelector('#df-1d5cfd96-373a-4f7b-8d22-050501352c18 button.colab-df-convert');\n",
              "        buttonEl.style.display =\n",
              "          google.colab.kernel.accessAllowed ? 'block' : 'none';\n",
              "\n",
              "        async function convertToInteractive(key) {\n",
              "          const element = document.querySelector('#df-1d5cfd96-373a-4f7b-8d22-050501352c18');\n",
              "          const dataTable =\n",
              "            await google.colab.kernel.invokeFunction('convertToInteractive',\n",
              "                                                     [key], {});\n",
              "          if (!dataTable) return;\n",
              "\n",
              "          const docLinkHtml = 'Like what you see? Visit the ' +\n",
              "            '<a target=\"_blank\" href=https://colab.research.google.com/notebooks/data_table.ipynb>data table notebook</a>'\n",
              "            + ' to learn more about interactive tables.';\n",
              "          element.innerHTML = '';\n",
              "          dataTable['output_type'] = 'display_data';\n",
              "          await google.colab.output.renderOutput(dataTable, element);\n",
              "          const docLink = document.createElement('div');\n",
              "          docLink.innerHTML = docLinkHtml;\n",
              "          element.appendChild(docLink);\n",
              "        }\n",
              "      </script>\n",
              "    </div>\n",
              "  </div>\n",
              "  "
            ]
          },
          "metadata": {},
          "execution_count": 9
        }
      ]
    },
    {
      "cell_type": "code",
      "source": [
        "Data_dict.head()"
      ],
      "metadata": {
        "colab": {
          "base_uri": "https://localhost:8080/",
          "height": 206
        },
        "id": "_1BDtpZY7aXN",
        "outputId": "c3ea151e-9aa3-4412-9abc-78190632962e"
      },
      "execution_count": 10,
      "outputs": [
        {
          "output_type": "execute_result",
          "data": {
            "text/plain": [
              "  Column name                                        Description\n",
              "0       State                               Location of the Bank\n",
              "1       Month                                  Month of the year\n",
              "2      Demand  Number of insurance applications that are expe...\n",
              "3  StaffAvPer  Average availability of an FTE (Full Time Empl...\n",
              "4          LB                     Minimum availability of an FTE"
            ],
            "text/html": [
              "\n",
              "  <div id=\"df-e5e22441-d81c-4a54-be9e-335e4eff2558\">\n",
              "    <div class=\"colab-df-container\">\n",
              "      <div>\n",
              "<style scoped>\n",
              "    .dataframe tbody tr th:only-of-type {\n",
              "        vertical-align: middle;\n",
              "    }\n",
              "\n",
              "    .dataframe tbody tr th {\n",
              "        vertical-align: top;\n",
              "    }\n",
              "\n",
              "    .dataframe thead th {\n",
              "        text-align: right;\n",
              "    }\n",
              "</style>\n",
              "<table border=\"1\" class=\"dataframe\">\n",
              "  <thead>\n",
              "    <tr style=\"text-align: right;\">\n",
              "      <th></th>\n",
              "      <th>Column name</th>\n",
              "      <th>Description</th>\n",
              "    </tr>\n",
              "  </thead>\n",
              "  <tbody>\n",
              "    <tr>\n",
              "      <th>0</th>\n",
              "      <td>State</td>\n",
              "      <td>Location of the Bank</td>\n",
              "    </tr>\n",
              "    <tr>\n",
              "      <th>1</th>\n",
              "      <td>Month</td>\n",
              "      <td>Month of the year</td>\n",
              "    </tr>\n",
              "    <tr>\n",
              "      <th>2</th>\n",
              "      <td>Demand</td>\n",
              "      <td>Number of insurance applications that are expe...</td>\n",
              "    </tr>\n",
              "    <tr>\n",
              "      <th>3</th>\n",
              "      <td>StaffAvPer</td>\n",
              "      <td>Average availability of an FTE (Full Time Empl...</td>\n",
              "    </tr>\n",
              "    <tr>\n",
              "      <th>4</th>\n",
              "      <td>LB</td>\n",
              "      <td>Minimum availability of an FTE</td>\n",
              "    </tr>\n",
              "  </tbody>\n",
              "</table>\n",
              "</div>\n",
              "      <button class=\"colab-df-convert\" onclick=\"convertToInteractive('df-e5e22441-d81c-4a54-be9e-335e4eff2558')\"\n",
              "              title=\"Convert this dataframe to an interactive table.\"\n",
              "              style=\"display:none;\">\n",
              "        \n",
              "  <svg xmlns=\"http://www.w3.org/2000/svg\" height=\"24px\"viewBox=\"0 0 24 24\"\n",
              "       width=\"24px\">\n",
              "    <path d=\"M0 0h24v24H0V0z\" fill=\"none\"/>\n",
              "    <path d=\"M18.56 5.44l.94 2.06.94-2.06 2.06-.94-2.06-.94-.94-2.06-.94 2.06-2.06.94zm-11 1L8.5 8.5l.94-2.06 2.06-.94-2.06-.94L8.5 2.5l-.94 2.06-2.06.94zm10 10l.94 2.06.94-2.06 2.06-.94-2.06-.94-.94-2.06-.94 2.06-2.06.94z\"/><path d=\"M17.41 7.96l-1.37-1.37c-.4-.4-.92-.59-1.43-.59-.52 0-1.04.2-1.43.59L10.3 9.45l-7.72 7.72c-.78.78-.78 2.05 0 2.83L4 21.41c.39.39.9.59 1.41.59.51 0 1.02-.2 1.41-.59l7.78-7.78 2.81-2.81c.8-.78.8-2.07 0-2.86zM5.41 20L4 18.59l7.72-7.72 1.47 1.35L5.41 20z\"/>\n",
              "  </svg>\n",
              "      </button>\n",
              "      \n",
              "  <style>\n",
              "    .colab-df-container {\n",
              "      display:flex;\n",
              "      flex-wrap:wrap;\n",
              "      gap: 12px;\n",
              "    }\n",
              "\n",
              "    .colab-df-convert {\n",
              "      background-color: #E8F0FE;\n",
              "      border: none;\n",
              "      border-radius: 50%;\n",
              "      cursor: pointer;\n",
              "      display: none;\n",
              "      fill: #1967D2;\n",
              "      height: 32px;\n",
              "      padding: 0 0 0 0;\n",
              "      width: 32px;\n",
              "    }\n",
              "\n",
              "    .colab-df-convert:hover {\n",
              "      background-color: #E2EBFA;\n",
              "      box-shadow: 0px 1px 2px rgba(60, 64, 67, 0.3), 0px 1px 3px 1px rgba(60, 64, 67, 0.15);\n",
              "      fill: #174EA6;\n",
              "    }\n",
              "\n",
              "    [theme=dark] .colab-df-convert {\n",
              "      background-color: #3B4455;\n",
              "      fill: #D2E3FC;\n",
              "    }\n",
              "\n",
              "    [theme=dark] .colab-df-convert:hover {\n",
              "      background-color: #434B5C;\n",
              "      box-shadow: 0px 1px 3px 1px rgba(0, 0, 0, 0.15);\n",
              "      filter: drop-shadow(0px 1px 2px rgba(0, 0, 0, 0.3));\n",
              "      fill: #FFFFFF;\n",
              "    }\n",
              "  </style>\n",
              "\n",
              "      <script>\n",
              "        const buttonEl =\n",
              "          document.querySelector('#df-e5e22441-d81c-4a54-be9e-335e4eff2558 button.colab-df-convert');\n",
              "        buttonEl.style.display =\n",
              "          google.colab.kernel.accessAllowed ? 'block' : 'none';\n",
              "\n",
              "        async function convertToInteractive(key) {\n",
              "          const element = document.querySelector('#df-e5e22441-d81c-4a54-be9e-335e4eff2558');\n",
              "          const dataTable =\n",
              "            await google.colab.kernel.invokeFunction('convertToInteractive',\n",
              "                                                     [key], {});\n",
              "          if (!dataTable) return;\n",
              "\n",
              "          const docLinkHtml = 'Like what you see? Visit the ' +\n",
              "            '<a target=\"_blank\" href=https://colab.research.google.com/notebooks/data_table.ipynb>data table notebook</a>'\n",
              "            + ' to learn more about interactive tables.';\n",
              "          element.innerHTML = '';\n",
              "          dataTable['output_type'] = 'display_data';\n",
              "          await google.colab.output.renderOutput(dataTable, element);\n",
              "          const docLink = document.createElement('div');\n",
              "          docLink.innerHTML = docLinkHtml;\n",
              "          element.appendChild(docLink);\n",
              "        }\n",
              "      </script>\n",
              "    </div>\n",
              "  </div>\n",
              "  "
            ]
          },
          "metadata": {},
          "execution_count": 10
        }
      ]
    },
    {
      "cell_type": "code",
      "source": [
        "Rate.head()"
      ],
      "metadata": {
        "colab": {
          "base_uri": "https://localhost:8080/",
          "height": 81
        },
        "id": "ssivmkr97aaE",
        "outputId": "d7c823cb-01c5-411d-91a2-ae64cedbafa9"
      },
      "execution_count": 11,
      "outputs": [
        {
          "output_type": "execute_result",
          "data": {
            "text/plain": [
              "   MgAppServedPerMonth\n",
              "0                   40"
            ],
            "text/html": [
              "\n",
              "  <div id=\"df-462b8abc-50fc-4f16-bd7d-68e4933932c1\">\n",
              "    <div class=\"colab-df-container\">\n",
              "      <div>\n",
              "<style scoped>\n",
              "    .dataframe tbody tr th:only-of-type {\n",
              "        vertical-align: middle;\n",
              "    }\n",
              "\n",
              "    .dataframe tbody tr th {\n",
              "        vertical-align: top;\n",
              "    }\n",
              "\n",
              "    .dataframe thead th {\n",
              "        text-align: right;\n",
              "    }\n",
              "</style>\n",
              "<table border=\"1\" class=\"dataframe\">\n",
              "  <thead>\n",
              "    <tr style=\"text-align: right;\">\n",
              "      <th></th>\n",
              "      <th>MgAppServedPerMonth</th>\n",
              "    </tr>\n",
              "  </thead>\n",
              "  <tbody>\n",
              "    <tr>\n",
              "      <th>0</th>\n",
              "      <td>40</td>\n",
              "    </tr>\n",
              "  </tbody>\n",
              "</table>\n",
              "</div>\n",
              "      <button class=\"colab-df-convert\" onclick=\"convertToInteractive('df-462b8abc-50fc-4f16-bd7d-68e4933932c1')\"\n",
              "              title=\"Convert this dataframe to an interactive table.\"\n",
              "              style=\"display:none;\">\n",
              "        \n",
              "  <svg xmlns=\"http://www.w3.org/2000/svg\" height=\"24px\"viewBox=\"0 0 24 24\"\n",
              "       width=\"24px\">\n",
              "    <path d=\"M0 0h24v24H0V0z\" fill=\"none\"/>\n",
              "    <path d=\"M18.56 5.44l.94 2.06.94-2.06 2.06-.94-2.06-.94-.94-2.06-.94 2.06-2.06.94zm-11 1L8.5 8.5l.94-2.06 2.06-.94-2.06-.94L8.5 2.5l-.94 2.06-2.06.94zm10 10l.94 2.06.94-2.06 2.06-.94-2.06-.94-.94-2.06-.94 2.06-2.06.94z\"/><path d=\"M17.41 7.96l-1.37-1.37c-.4-.4-.92-.59-1.43-.59-.52 0-1.04.2-1.43.59L10.3 9.45l-7.72 7.72c-.78.78-.78 2.05 0 2.83L4 21.41c.39.39.9.59 1.41.59.51 0 1.02-.2 1.41-.59l7.78-7.78 2.81-2.81c.8-.78.8-2.07 0-2.86zM5.41 20L4 18.59l7.72-7.72 1.47 1.35L5.41 20z\"/>\n",
              "  </svg>\n",
              "      </button>\n",
              "      \n",
              "  <style>\n",
              "    .colab-df-container {\n",
              "      display:flex;\n",
              "      flex-wrap:wrap;\n",
              "      gap: 12px;\n",
              "    }\n",
              "\n",
              "    .colab-df-convert {\n",
              "      background-color: #E8F0FE;\n",
              "      border: none;\n",
              "      border-radius: 50%;\n",
              "      cursor: pointer;\n",
              "      display: none;\n",
              "      fill: #1967D2;\n",
              "      height: 32px;\n",
              "      padding: 0 0 0 0;\n",
              "      width: 32px;\n",
              "    }\n",
              "\n",
              "    .colab-df-convert:hover {\n",
              "      background-color: #E2EBFA;\n",
              "      box-shadow: 0px 1px 2px rgba(60, 64, 67, 0.3), 0px 1px 3px 1px rgba(60, 64, 67, 0.15);\n",
              "      fill: #174EA6;\n",
              "    }\n",
              "\n",
              "    [theme=dark] .colab-df-convert {\n",
              "      background-color: #3B4455;\n",
              "      fill: #D2E3FC;\n",
              "    }\n",
              "\n",
              "    [theme=dark] .colab-df-convert:hover {\n",
              "      background-color: #434B5C;\n",
              "      box-shadow: 0px 1px 3px 1px rgba(0, 0, 0, 0.15);\n",
              "      filter: drop-shadow(0px 1px 2px rgba(0, 0, 0, 0.3));\n",
              "      fill: #FFFFFF;\n",
              "    }\n",
              "  </style>\n",
              "\n",
              "      <script>\n",
              "        const buttonEl =\n",
              "          document.querySelector('#df-462b8abc-50fc-4f16-bd7d-68e4933932c1 button.colab-df-convert');\n",
              "        buttonEl.style.display =\n",
              "          google.colab.kernel.accessAllowed ? 'block' : 'none';\n",
              "\n",
              "        async function convertToInteractive(key) {\n",
              "          const element = document.querySelector('#df-462b8abc-50fc-4f16-bd7d-68e4933932c1');\n",
              "          const dataTable =\n",
              "            await google.colab.kernel.invokeFunction('convertToInteractive',\n",
              "                                                     [key], {});\n",
              "          if (!dataTable) return;\n",
              "\n",
              "          const docLinkHtml = 'Like what you see? Visit the ' +\n",
              "            '<a target=\"_blank\" href=https://colab.research.google.com/notebooks/data_table.ipynb>data table notebook</a>'\n",
              "            + ' to learn more about interactive tables.';\n",
              "          element.innerHTML = '';\n",
              "          dataTable['output_type'] = 'display_data';\n",
              "          await google.colab.output.renderOutput(dataTable, element);\n",
              "          const docLink = document.createElement('div');\n",
              "          docLink.innerHTML = docLinkHtml;\n",
              "          element.appendChild(docLink);\n",
              "        }\n",
              "      </script>\n",
              "    </div>\n",
              "  </div>\n",
              "  "
            ]
          },
          "metadata": {},
          "execution_count": 11
        }
      ]
    },
    {
      "cell_type": "markdown",
      "metadata": {
        "id": "y2Zo_87GuJnc"
      },
      "source": [
        "## Data pre-processing "
      ]
    },
    {
      "cell_type": "code",
      "execution_count": 12,
      "metadata": {
        "id": "GmZ69RkIuJnh"
      },
      "outputs": [],
      "source": [
        "# Create the required Python data structures for indexes and parameters\n",
        "\n",
        "# creating dictionary for demand\n",
        "Demand_ca = Demand.set_index(['State','Month'])['Demand'].to_dict()"
      ]
    },
    {
      "cell_type": "code",
      "source": [
        "# creating dictionary for Staff_avail_LB - Lower Bound for Staff availability\n",
        "Staff_LBca =Staff_avail.set_index(['State','Month'])['LB'].to_dict()"
      ],
      "metadata": {
        "id": "X7b_dqMU9H2F"
      },
      "execution_count": 13,
      "outputs": []
    },
    {
      "cell_type": "code",
      "source": [
        "# creating dictionary for Staff_avail_UB - Upper bound for Staff availability\n",
        "Staff_UBca = Staff_avail.set_index(['State','Month'])['UB'].to_dict()"
      ],
      "metadata": {
        "id": "MByNqmrC9eNm"
      },
      "execution_count": 14,
      "outputs": []
    },
    {
      "cell_type": "code",
      "source": [
        "# creating dictionary for StaffAvPer - Average Staff Availability\n",
        "StaffAvP_ca= Staff_avail.set_index(['State','Month'])['StaffAvPer'].to_dict()"
      ],
      "metadata": {
        "id": "uO3hTTCL9y1P"
      },
      "execution_count": 15,
      "outputs": []
    },
    {
      "cell_type": "code",
      "source": [
        "# creating dictionary for Staff - Monthly Salary of the Staff\n",
        "FTE_MonthSal_ca= Cost.set_index(['State','Month'])['MonthlySalary'].to_dict()"
      ],
      "metadata": {
        "id": "jVbPM8hA-bm3"
      },
      "execution_count": 16,
      "outputs": []
    },
    {
      "cell_type": "code",
      "source": [
        "# creating dictionary for unitoutsorce - Cost of outsourcing one application\n",
        "UnitOutSource_ca= Cost.set_index(['State','Month'])['UnitOutSourceCost'].to_dict()"
      ],
      "metadata": {
        "id": "UA_p-bM6-te3"
      },
      "execution_count": 17,
      "outputs": []
    },
    {
      "cell_type": "code",
      "source": [
        "# Number of applications per employee\n",
        "AppServeRate_ca= Rate.iloc[0,0]"
      ],
      "metadata": {
        "id": "5FnNzBhN_Qo0"
      },
      "execution_count": 18,
      "outputs": []
    },
    {
      "cell_type": "code",
      "source": [
        "# Indexes for the Model\n",
        "BLocation_ca= Cost['State'].unique()\n",
        "Month_ca= Cost['Month'].unique()"
      ],
      "metadata": {
        "id": "qHkh6SYJ_fJp"
      },
      "execution_count": 19,
      "outputs": []
    },
    {
      "cell_type": "code",
      "source": [
        "# Company operating locations\n",
        "BLocation_ca"
      ],
      "metadata": {
        "colab": {
          "base_uri": "https://localhost:8080/"
        },
        "id": "hpaEtXhB_rrM",
        "outputId": "0ebd29d9-83ea-4ca4-f92d-08963bf62f9b"
      },
      "execution_count": 20,
      "outputs": [
        {
          "output_type": "execute_result",
          "data": {
            "text/plain": [
              "array(['A', 'B', 'C'], dtype=object)"
            ]
          },
          "metadata": {},
          "execution_count": 20
        }
      ]
    },
    {
      "cell_type": "code",
      "source": [
        "# List of the 12 months\n",
        "Month_ca"
      ],
      "metadata": {
        "colab": {
          "base_uri": "https://localhost:8080/"
        },
        "id": "fhkQDBZb_yO-",
        "outputId": "aa900372-1877-4810-8ac8-7277b485d721"
      },
      "execution_count": 21,
      "outputs": [
        {
          "output_type": "execute_result",
          "data": {
            "text/plain": [
              "array(['Jan', 'Feb', 'Mar', 'Apr', 'May', 'Jun', 'Jul', 'Aug', 'Sep',\n",
              "       'Oct', 'Nov', 'Dec'], dtype=object)"
            ]
          },
          "metadata": {},
          "execution_count": 21
        }
      ]
    },
    {
      "cell_type": "code",
      "source": [
        "# view salary\n",
        "FTE_MonthSal_ca"
      ],
      "metadata": {
        "colab": {
          "base_uri": "https://localhost:8080/"
        },
        "id": "jSJmrvJq_5V9",
        "outputId": "cb8a3fcf-5cef-4921-b449-a4ae2cbd8d6e"
      },
      "execution_count": 22,
      "outputs": [
        {
          "output_type": "execute_result",
          "data": {
            "text/plain": [
              "{('A', 'Jan'): 5000.0,\n",
              " ('A', 'Feb'): 5000.0,\n",
              " ('A', 'Mar'): 5000.0,\n",
              " ('A', 'Apr'): 5000.0,\n",
              " ('A', 'May'): 5000.0,\n",
              " ('A', 'Jun'): 5000.0,\n",
              " ('A', 'Jul'): 5000.0,\n",
              " ('A', 'Aug'): 5000.0,\n",
              " ('A', 'Sep'): 5000.0,\n",
              " ('A', 'Oct'): 5000.0,\n",
              " ('A', 'Nov'): 5000.0,\n",
              " ('A', 'Dec'): 5000.0,\n",
              " ('B', 'Jan'): 4583.333333333333,\n",
              " ('B', 'Feb'): 4583.333333333333,\n",
              " ('B', 'Mar'): 4583.333333333333,\n",
              " ('B', 'Apr'): 4583.333333333333,\n",
              " ('B', 'May'): 4583.333333333333,\n",
              " ('B', 'Jun'): 4583.333333333333,\n",
              " ('B', 'Jul'): 4583.333333333333,\n",
              " ('B', 'Aug'): 4583.333333333333,\n",
              " ('B', 'Sep'): 4583.333333333333,\n",
              " ('B', 'Oct'): 4583.333333333333,\n",
              " ('B', 'Nov'): 4583.333333333333,\n",
              " ('B', 'Dec'): 4583.333333333333,\n",
              " ('C', 'Jan'): 4416.666666666667,\n",
              " ('C', 'Feb'): 4416.666666666667,\n",
              " ('C', 'Mar'): 4416.666666666667,\n",
              " ('C', 'Apr'): 4416.666666666667,\n",
              " ('C', 'May'): 4416.666666666667,\n",
              " ('C', 'Jun'): 4416.666666666667,\n",
              " ('C', 'Jul'): 4416.666666666667,\n",
              " ('C', 'Aug'): 4416.666666666667,\n",
              " ('C', 'Sep'): 4416.666666666667,\n",
              " ('C', 'Oct'): 4416.666666666667,\n",
              " ('C', 'Nov'): 4416.666666666667,\n",
              " ('C', 'Dec'): 4416.666666666667}"
            ]
          },
          "metadata": {},
          "execution_count": 22
        }
      ]
    },
    {
      "cell_type": "code",
      "source": [
        "#Cost of outsourcing one application\n",
        "UnitOutSource_ca"
      ],
      "metadata": {
        "colab": {
          "base_uri": "https://localhost:8080/"
        },
        "id": "nhZ_D1xOAE1b",
        "outputId": "6455e288-d6dd-4853-fbc1-2e84d454705c"
      },
      "execution_count": 23,
      "outputs": [
        {
          "output_type": "execute_result",
          "data": {
            "text/plain": [
              "{('A', 'Jan'): 180,\n",
              " ('A', 'Feb'): 180,\n",
              " ('A', 'Mar'): 180,\n",
              " ('A', 'Apr'): 180,\n",
              " ('A', 'May'): 180,\n",
              " ('A', 'Jun'): 180,\n",
              " ('A', 'Jul'): 180,\n",
              " ('A', 'Aug'): 180,\n",
              " ('A', 'Sep'): 180,\n",
              " ('A', 'Oct'): 180,\n",
              " ('A', 'Nov'): 180,\n",
              " ('A', 'Dec'): 180,\n",
              " ('B', 'Jan'): 150,\n",
              " ('B', 'Feb'): 150,\n",
              " ('B', 'Mar'): 150,\n",
              " ('B', 'Apr'): 150,\n",
              " ('B', 'May'): 150,\n",
              " ('B', 'Jun'): 150,\n",
              " ('B', 'Jul'): 150,\n",
              " ('B', 'Aug'): 150,\n",
              " ('B', 'Sep'): 150,\n",
              " ('B', 'Oct'): 150,\n",
              " ('B', 'Nov'): 150,\n",
              " ('B', 'Dec'): 150,\n",
              " ('C', 'Jan'): 160,\n",
              " ('C', 'Feb'): 160,\n",
              " ('C', 'Mar'): 160,\n",
              " ('C', 'Apr'): 160,\n",
              " ('C', 'May'): 160,\n",
              " ('C', 'Jun'): 160,\n",
              " ('C', 'Jul'): 160,\n",
              " ('C', 'Aug'): 160,\n",
              " ('C', 'Sep'): 160,\n",
              " ('C', 'Oct'): 160,\n",
              " ('C', 'Nov'): 160,\n",
              " ('C', 'Dec'): 160}"
            ]
          },
          "metadata": {},
          "execution_count": 23
        }
      ]
    },
    {
      "cell_type": "code",
      "source": [
        "#Demand of insurance per state for each month\n",
        "Demand_ca"
      ],
      "metadata": {
        "colab": {
          "base_uri": "https://localhost:8080/"
        },
        "id": "CJ5zQLwnAJDv",
        "outputId": "3d9c74bb-77c1-4ee2-8af8-ae1c0de77709"
      },
      "execution_count": 24,
      "outputs": [
        {
          "output_type": "execute_result",
          "data": {
            "text/plain": [
              "{('A', 'Jan'): 5240,\n",
              " ('A', 'Feb'): 4878,\n",
              " ('A', 'Mar'): 5942,\n",
              " ('A', 'Apr'): 2297,\n",
              " ('A', 'May'): 1992,\n",
              " ('A', 'Jun'): 2275,\n",
              " ('A', 'Jul'): 5334,\n",
              " ('A', 'Aug'): 3371,\n",
              " ('A', 'Sep'): 3759,\n",
              " ('A', 'Oct'): 3529,\n",
              " ('A', 'Nov'): 4284,\n",
              " ('A', 'Dec'): 5183,\n",
              " ('B', 'Jan'): 4927,\n",
              " ('B', 'Feb'): 2628,\n",
              " ('B', 'Mar'): 2974,\n",
              " ('B', 'Apr'): 2338,\n",
              " ('B', 'May'): 4020,\n",
              " ('B', 'Jun'): 3147,\n",
              " ('B', 'Jul'): 4271,\n",
              " ('B', 'Aug'): 2620,\n",
              " ('B', 'Sep'): 4517,\n",
              " ('B', 'Oct'): 4155,\n",
              " ('B', 'Nov'): 3137,\n",
              " ('B', 'Dec'): 4227,\n",
              " ('C', 'Jan'): 1162,\n",
              " ('C', 'Feb'): 1967,\n",
              " ('C', 'Mar'): 1898,\n",
              " ('C', 'Apr'): 2261,\n",
              " ('C', 'May'): 2030,\n",
              " ('C', 'Jun'): 1642,\n",
              " ('C', 'Jul'): 2489,\n",
              " ('C', 'Aug'): 2496,\n",
              " ('C', 'Sep'): 922,\n",
              " ('C', 'Oct'): 2421,\n",
              " ('C', 'Nov'): 963,\n",
              " ('C', 'Dec'): 1998}"
            ]
          },
          "metadata": {},
          "execution_count": 24
        }
      ]
    },
    {
      "cell_type": "markdown",
      "metadata": {
        "id": "3mAxo7ZquJnj"
      },
      "source": [
        "# Question 1\n",
        "\n",
        "The company wants to know the optimised staffing recommendations for the business case described. \n",
        "Write the mathematical model for the deterministic optimisation problem. Define and explain your decision variables, objective function and the constraint. (Hint: Use months of the year as the model timeline).\n",
        "\n"
      ]
    },
    {
      "cell_type": "markdown",
      "source": [
        "Parameter\n",
        "\n",
        "* Demand\n",
        "* Staff Availability %tage\n",
        "* FTE Salary / month\n",
        "*\n",
        "Unix Outsourcing cost\n",
        "*\n",
        "FTE_Application Service Rate\n",
        "(40 application per month, if 100% staff is working)\n",
        "\n",
        "Decision Variable:\n",
        "* FTE Equivalent at any location in a month which is continuous variable\n",
        "* Outsourced Application Quantity in a month (Integer Variable)"
      ],
      "metadata": {
        "id": "0iqcN8SKAml8"
      }
    },
    {
      "cell_type": "markdown",
      "source": [
        "### Decision Variables are:\n",
        "    \n",
        "1. Total Number of Staff Members (FTE)\n",
        "\n",
        "2. Number of Outsourced Members (Vendors)\n",
        "\n",
        "#### Objective function is:\n",
        "1. Annual Total cost of FTE\n",
        "2. Annual Total Cost of Vendors\n",
        "\n",
        "Minimize Total cost =(1) +(2)\n",
        "\n",
        "Total Cost = (Total Number of members in Staffs) x (Salary of Staffs) + (Total Number of Outsourced Members) x (Cost of Outsourced members)\n",
        "\n",
        "N.B.: 40 x StaffAvPer is number of applications of each staff member\n",
        "\n",
        "#### Constraints\n",
        "States A and B have a regulatory restriction that the outsourced insurance applications cannot be more than 30% and 40% of the total number of applications for each month, respectively.\n",
        "\n",
        "Number of Outsourced Members = Number of Outsourced applications\n",
        "\n",
        "\n",
        "1. Number of Staffs x 40 x (StaffAvailability) + (Number of outsourced members) == Demand\n",
        "\n",
        "2. For state A :\n",
        "Number of Outsourced Members <= 0.3 x (Demand)\n",
        "3. For state B :\n",
        "Number of Outsourced Members <= 0.4 x (Demand)"
      ],
      "metadata": {
        "id": "0gEx7EDYA6TW"
      }
    },
    {
      "cell_type": "markdown",
      "metadata": {
        "id": "fhbQ_4D2uJno"
      },
      "source": [
        "**Note:** You can write the mathematical formulation directly in your report."
      ]
    },
    {
      "cell_type": "markdown",
      "metadata": {
        "id": "4eRiPm0IuJnp"
      },
      "source": [
        "# Question 2\n",
        "\n",
        "Code the problem is Python and use any optimization package to solve it. Add comments to your code to explain each step. "
      ]
    },
    {
      "cell_type": "markdown",
      "metadata": {
        "id": "pcrt7TLwuJnr"
      },
      "source": [
        "#### Expected output:\n",
        "\n",
        "Create a data frame containing the number of outsourced applications  and the number of FTEs for each state-month combination. You can choose to have extra columns like staff availability, demand etc. in your dataframe apart from the ones mentioned earlier. "
      ]
    },
    {
      "cell_type": "code",
      "execution_count": 25,
      "metadata": {
        "id": "LfdS3zzjuJns"
      },
      "outputs": [],
      "source": [
        "# Creating a model instance\n",
        "Model1 =ConcreteModel()"
      ]
    },
    {
      "cell_type": "code",
      "execution_count": 26,
      "metadata": {
        "id": "ko1BUwi1uJnt"
      },
      "outputs": [],
      "source": [
        "# Define Pyomo sets and Parameters\n",
        "Model1.i = Set(initialize=BLocation_ca.tolist(), doc='States')\n",
        "Model1.j = Set(initialize=Month_ca.tolist(), doc='Months')\n"
      ]
    },
    {
      "cell_type": "code",
      "source": [
        "# Define parameters for demand, FTE salaries, outsourcing cost and Average staff availability\n",
        "\n",
        "Model1.d = Param(Model1.i, Model1.j, initialize=Demand_ca, doc='Demand')\n",
        "Model1.s = Param(Model1.i, Model1.j, initialize=FTE_MonthSal_ca, doc='FTE_Salary')\n",
        "Model1.oc = Param(Model1.i, Model1.j, initialize=UnitOutSource_ca, doc='OutSourceCost')\n",
        "Model1.sa = Param(Model1.i, Model1.j, initialize=AppServeRate_ca, doc='StaffAvPercent')\n"
      ],
      "metadata": {
        "id": "5mMQdwpjm1fG"
      },
      "execution_count": 27,
      "outputs": []
    },
    {
      "cell_type": "code",
      "source": [
        "Model1.d"
      ],
      "metadata": {
        "colab": {
          "base_uri": "https://localhost:8080/"
        },
        "id": "ne1meQ3mnGGQ",
        "outputId": "08701e27-b888-4b42-9542-8b73ffcdebb8"
      },
      "execution_count": 28,
      "outputs": [
        {
          "output_type": "execute_result",
          "data": {
            "text/plain": [
              "<pyomo.core.base.param.IndexedParam at 0x7fa9e449abd0>"
            ]
          },
          "metadata": {},
          "execution_count": 28
        }
      ]
    },
    {
      "cell_type": "code",
      "source": [
        "#  Scalar Application Service Rate When Working 100 % \n",
        "\n",
        "Model1.r = Param(initialize=AppServeRate_ca, doc='FTE App Serv Rate')"
      ],
      "metadata": {
        "id": "WK2-Js6TnJe8"
      },
      "execution_count": 29,
      "outputs": []
    },
    {
      "cell_type": "code",
      "source": [
        "#  Parameter for number of applications that can be processed for the given staff availability\n",
        "\n",
        "def c_FTEAPP(Model1, i, j):\n",
        "    return Model1.r * Model1.sa[i,j] \n",
        "\n",
        "Model1.FTEAPPNO = Param(Model1.i, Model1.j, initialize=c_FTEAPP, doc='NO OF FTE APP')\n"
      ],
      "metadata": {
        "id": "vw1kGG6YnPlc"
      },
      "execution_count": 30,
      "outputs": []
    },
    {
      "cell_type": "code",
      "source": [
        "#  Parameters for the restriction on number of outsourced applications for the states A and B\n",
        "\n",
        "def Reg_A(Model1, i, j):\n",
        "    return 0.30 * Model1.d[i,j] \n",
        "\n",
        "Model1.Reg_A = Param(Model1.i, Model1.j, initialize=Reg_A, doc='RegRest_A')\n",
        "\n",
        "\n",
        "def Reg_B(Model1, i, j):\n",
        "    return 0.40 * Model1.d[i,j] \n",
        "\n",
        "Model1.Reg_B = Param(Model1.i, Model1.j, initialize=Reg_B, doc='RegRest_B')"
      ],
      "metadata": {
        "id": "Ke9vbQFhnPoY"
      },
      "execution_count": 31,
      "outputs": []
    },
    {
      "cell_type": "markdown",
      "source": [
        "# Define Pyomo sets and Parameters\n",
        "Demand = (staff_availability) * 40 * (x+y)\n",
        "\n",
        "FTE_Salary = Staff\n",
        "\n",
        "Outsource cost = UnitOutSourceCost\n",
        "\n",
        "Staff availability = 40xStaffAvPer\n",
        "\n",
        "number of staffs = x\n",
        "\n",
        "number of outsourced employees = y"
      ],
      "metadata": {
        "id": "8Y5LkfGhjyJF"
      }
    },
    {
      "cell_type": "code",
      "execution_count": 32,
      "metadata": {
        "id": "mCfwQbtduJnu"
      },
      "outputs": [],
      "source": [
        "# Decision variables\n",
        "Model1.x = Var(BLocation_ca, Month_ca, within=PositiveReals, initialize=70000)\n",
        "Model1.y = Var(BLocation_ca, Month_ca, within=PositiveReals, initialize=70000)"
      ]
    },
    {
      "cell_type": "code",
      "execution_count": 33,
      "metadata": {
        "id": "_ywEB-dOuJnv"
      },
      "outputs": [],
      "source": [
        "# Constraints\n",
        "\n",
        "# Constraint 1: To meet the state-wise demand for each month \n",
        "def demand(Model1,s,m):\n",
        "    return (Model1.x[s,m]*40*StaffAvP_ca[s,m]+Model1.y[s,m])==Demand_ca[s,m]"
      ]
    },
    {
      "cell_type": "code",
      "source": [
        "Model1.demand = Constraint(BLocation_ca,Month_ca,rule=demand)"
      ],
      "metadata": {
        "id": "oIr0oKhyk5Xn"
      },
      "execution_count": 34,
      "outputs": []
    },
    {
      "cell_type": "code",
      "source": [
        "#Constraint 2: Maximum of 30% of applications can be outsourced in State A\n",
        "\n",
        "def outsource_constraint1(Model1,m):\n",
        "    return (Model1.y['A',m]<=0.3*Demand_ca['A',m])   "
      ],
      "metadata": {
        "id": "v2OHDOPGk5aO"
      },
      "execution_count": 35,
      "outputs": []
    },
    {
      "cell_type": "code",
      "source": [
        "Model1.outsource_constraint1 = Constraint(Month_ca,rule=outsource_constraint1)"
      ],
      "metadata": {
        "id": "cpa0rGuFk5dF"
      },
      "execution_count": 36,
      "outputs": []
    },
    {
      "cell_type": "code",
      "source": [
        "# Constraint 3: Maximum of 40% of applications can be outsourced in State B\n",
        "\n",
        "def outsource_constraint2(Model1,m):\n",
        "  return(Model1.y['B',m]<=0.4*Demand_ca['B',m])\n",
        "\n",
        "Model1.outsource_constraint2 = Constraint(Month_ca, rule =outsource_constraint2 ) "
      ],
      "metadata": {
        "id": "LMpmOn44MzQK"
      },
      "execution_count": 37,
      "outputs": []
    },
    {
      "cell_type": "code",
      "execution_count": 38,
      "metadata": {
        "id": "fQrP8OsduJnv"
      },
      "outputs": [],
      "source": [
        "# Objective function\n",
        "Model1.value = Objective(expr = (sum(FTE_MonthSal_ca[s,m]*Model1.x[s,m] for m in Month_ca for s in BLocation_ca)+sum(UnitOutSource_ca[s,m]*Model1.y[s,m] for m in Month_ca for s in BLocation_ca))\n",
        " ,sense= minimize)"
      ]
    },
    {
      "cell_type": "code",
      "execution_count": 39,
      "metadata": {
        "id": "NWy42e9luJnw",
        "colab": {
          "base_uri": "https://localhost:8080/"
        },
        "outputId": "473dcf0d-878e-4ffb-afa6-4a970a48bde4"
      },
      "outputs": [
        {
          "output_type": "stream",
          "name": "stdout",
          "text": [
            "# ==========================================================\n",
            "# = Solver Results                                         =\n",
            "# ==========================================================\n",
            "# ----------------------------------------------------------\n",
            "#   Problem Information\n",
            "# ----------------------------------------------------------\n",
            "Problem: \n",
            "- Name: unknown\n",
            "  Lower bound: 17962273.21996\n",
            "  Upper bound: 17962273.21996\n",
            "  Number of objectives: 1\n",
            "  Number of constraints: 61\n",
            "  Number of variables: 73\n",
            "  Number of nonzeros: 97\n",
            "  Sense: minimize\n",
            "# ----------------------------------------------------------\n",
            "#   Solver Information\n",
            "# ----------------------------------------------------------\n",
            "Solver: \n",
            "- Status: ok\n",
            "  Termination condition: optimal\n",
            "  Statistics: \n",
            "    Branch and bound: \n",
            "      Number of bounded subproblems: 0\n",
            "      Number of created subproblems: 0\n",
            "  Error rc: 0\n",
            "  Time: 0.0179140567779541\n",
            "# ----------------------------------------------------------\n",
            "#   Solution Information\n",
            "# ----------------------------------------------------------\n",
            "Solution: \n",
            "- number of solutions: 0\n",
            "  number of solutions displayed: 0\n"
          ]
        }
      ],
      "source": [
        "# Invoking the solver\n",
        "ca_result = SolverFactory('glpk').solve(Model1)\n",
        "ca_result.write()"
      ]
    },
    {
      "cell_type": "code",
      "execution_count": 40,
      "metadata": {
        "id": "KGSJm9cNuJnx",
        "colab": {
          "base_uri": "https://localhost:8080/"
        },
        "outputId": "3de37a6e-2f74-49e7-b281-3c823d735656"
      },
      "outputs": [
        {
          "output_type": "execute_result",
          "data": {
            "text/plain": [
              "17962273"
            ]
          },
          "metadata": {},
          "execution_count": 40
        }
      ],
      "source": [
        "# Print the value of the objective function\n",
        "int(Model1.value())"
      ]
    },
    {
      "cell_type": "markdown",
      "source": [
        "Obtained the total cost of application processing as 17.96 M$ after optimization for Average scenario."
      ],
      "metadata": {
        "id": "aLkIC1cPR3tl"
      }
    },
    {
      "cell_type": "code",
      "source": [
        "# Printing the results of the Solver\n",
        "Model1.pprint()"
      ],
      "metadata": {
        "colab": {
          "base_uri": "https://localhost:8080/"
        },
        "id": "lGmTHEBOxU3j",
        "outputId": "b1793d02-d042-403d-e972-282864e89bce"
      },
      "execution_count": 41,
      "outputs": [
        {
          "output_type": "stream",
          "name": "stdout",
          "text": [
            "20 Set Declarations\n",
            "    FTEAPPNO_index : Size=1, Index=None, Ordered=True\n",
            "        Key  : Dimen : Domain : Size : Members\n",
            "        None :     2 :    i*j :   36 : {('A', 'Jan'), ('A', 'Feb'), ('A', 'Mar'), ('A', 'Apr'), ('A', 'May'), ('A', 'Jun'), ('A', 'Jul'), ('A', 'Aug'), ('A', 'Sep'), ('A', 'Oct'), ('A', 'Nov'), ('A', 'Dec'), ('B', 'Jan'), ('B', 'Feb'), ('B', 'Mar'), ('B', 'Apr'), ('B', 'May'), ('B', 'Jun'), ('B', 'Jul'), ('B', 'Aug'), ('B', 'Sep'), ('B', 'Oct'), ('B', 'Nov'), ('B', 'Dec'), ('C', 'Jan'), ('C', 'Feb'), ('C', 'Mar'), ('C', 'Apr'), ('C', 'May'), ('C', 'Jun'), ('C', 'Jul'), ('C', 'Aug'), ('C', 'Sep'), ('C', 'Oct'), ('C', 'Nov'), ('C', 'Dec')}\n",
            "    Reg_A_index : Size=1, Index=None, Ordered=True\n",
            "        Key  : Dimen : Domain : Size : Members\n",
            "        None :     2 :    i*j :   36 : {('A', 'Jan'), ('A', 'Feb'), ('A', 'Mar'), ('A', 'Apr'), ('A', 'May'), ('A', 'Jun'), ('A', 'Jul'), ('A', 'Aug'), ('A', 'Sep'), ('A', 'Oct'), ('A', 'Nov'), ('A', 'Dec'), ('B', 'Jan'), ('B', 'Feb'), ('B', 'Mar'), ('B', 'Apr'), ('B', 'May'), ('B', 'Jun'), ('B', 'Jul'), ('B', 'Aug'), ('B', 'Sep'), ('B', 'Oct'), ('B', 'Nov'), ('B', 'Dec'), ('C', 'Jan'), ('C', 'Feb'), ('C', 'Mar'), ('C', 'Apr'), ('C', 'May'), ('C', 'Jun'), ('C', 'Jul'), ('C', 'Aug'), ('C', 'Sep'), ('C', 'Oct'), ('C', 'Nov'), ('C', 'Dec')}\n",
            "    Reg_B_index : Size=1, Index=None, Ordered=True\n",
            "        Key  : Dimen : Domain : Size : Members\n",
            "        None :     2 :    i*j :   36 : {('A', 'Jan'), ('A', 'Feb'), ('A', 'Mar'), ('A', 'Apr'), ('A', 'May'), ('A', 'Jun'), ('A', 'Jul'), ('A', 'Aug'), ('A', 'Sep'), ('A', 'Oct'), ('A', 'Nov'), ('A', 'Dec'), ('B', 'Jan'), ('B', 'Feb'), ('B', 'Mar'), ('B', 'Apr'), ('B', 'May'), ('B', 'Jun'), ('B', 'Jul'), ('B', 'Aug'), ('B', 'Sep'), ('B', 'Oct'), ('B', 'Nov'), ('B', 'Dec'), ('C', 'Jan'), ('C', 'Feb'), ('C', 'Mar'), ('C', 'Apr'), ('C', 'May'), ('C', 'Jun'), ('C', 'Jul'), ('C', 'Aug'), ('C', 'Sep'), ('C', 'Oct'), ('C', 'Nov'), ('C', 'Dec')}\n",
            "    d_index : Size=1, Index=None, Ordered=True\n",
            "        Key  : Dimen : Domain : Size : Members\n",
            "        None :     2 :    i*j :   36 : {('A', 'Jan'), ('A', 'Feb'), ('A', 'Mar'), ('A', 'Apr'), ('A', 'May'), ('A', 'Jun'), ('A', 'Jul'), ('A', 'Aug'), ('A', 'Sep'), ('A', 'Oct'), ('A', 'Nov'), ('A', 'Dec'), ('B', 'Jan'), ('B', 'Feb'), ('B', 'Mar'), ('B', 'Apr'), ('B', 'May'), ('B', 'Jun'), ('B', 'Jul'), ('B', 'Aug'), ('B', 'Sep'), ('B', 'Oct'), ('B', 'Nov'), ('B', 'Dec'), ('C', 'Jan'), ('C', 'Feb'), ('C', 'Mar'), ('C', 'Apr'), ('C', 'May'), ('C', 'Jun'), ('C', 'Jul'), ('C', 'Aug'), ('C', 'Sep'), ('C', 'Oct'), ('C', 'Nov'), ('C', 'Dec')}\n",
            "    demand_index : Size=1, Index=None, Ordered=False\n",
            "        Key  : Dimen : Domain                        : Size : Members\n",
            "        None :     2 : demand_index_0*demand_index_1 :   36 : {('A', 'Apr'), ('A', 'Aug'), ('A', 'Dec'), ('A', 'Feb'), ('A', 'Jan'), ('A', 'Jul'), ('A', 'Jun'), ('A', 'Mar'), ('A', 'May'), ('A', 'Nov'), ('A', 'Oct'), ('A', 'Sep'), ('B', 'Apr'), ('B', 'Aug'), ('B', 'Dec'), ('B', 'Feb'), ('B', 'Jan'), ('B', 'Jul'), ('B', 'Jun'), ('B', 'Mar'), ('B', 'May'), ('B', 'Nov'), ('B', 'Oct'), ('B', 'Sep'), ('C', 'Apr'), ('C', 'Aug'), ('C', 'Dec'), ('C', 'Feb'), ('C', 'Jan'), ('C', 'Jul'), ('C', 'Jun'), ('C', 'Mar'), ('C', 'May'), ('C', 'Nov'), ('C', 'Oct'), ('C', 'Sep')}\n",
            "    demand_index_0 : Size=1, Index=None, Ordered=False\n",
            "        Key  : Dimen : Domain : Size : Members\n",
            "        None :     1 :    Any :    3 : {'A', 'B', 'C'}\n",
            "    demand_index_1 : Size=1, Index=None, Ordered=False\n",
            "        Key  : Dimen : Domain : Size : Members\n",
            "        None :     1 :    Any :   12 : {'Apr', 'Aug', 'Dec', 'Feb', 'Jan', 'Jul', 'Jun', 'Mar', 'May', 'Nov', 'Oct', 'Sep'}\n",
            "    i : States\n",
            "        Size=1, Index=None, Ordered=Insertion\n",
            "        Key  : Dimen : Domain : Size : Members\n",
            "        None :     1 :    Any :    3 : {'A', 'B', 'C'}\n",
            "    j : Months\n",
            "        Size=1, Index=None, Ordered=Insertion\n",
            "        Key  : Dimen : Domain : Size : Members\n",
            "        None :     1 :    Any :   12 : {'Jan', 'Feb', 'Mar', 'Apr', 'May', 'Jun', 'Jul', 'Aug', 'Sep', 'Oct', 'Nov', 'Dec'}\n",
            "    oc_index : Size=1, Index=None, Ordered=True\n",
            "        Key  : Dimen : Domain : Size : Members\n",
            "        None :     2 :    i*j :   36 : {('A', 'Jan'), ('A', 'Feb'), ('A', 'Mar'), ('A', 'Apr'), ('A', 'May'), ('A', 'Jun'), ('A', 'Jul'), ('A', 'Aug'), ('A', 'Sep'), ('A', 'Oct'), ('A', 'Nov'), ('A', 'Dec'), ('B', 'Jan'), ('B', 'Feb'), ('B', 'Mar'), ('B', 'Apr'), ('B', 'May'), ('B', 'Jun'), ('B', 'Jul'), ('B', 'Aug'), ('B', 'Sep'), ('B', 'Oct'), ('B', 'Nov'), ('B', 'Dec'), ('C', 'Jan'), ('C', 'Feb'), ('C', 'Mar'), ('C', 'Apr'), ('C', 'May'), ('C', 'Jun'), ('C', 'Jul'), ('C', 'Aug'), ('C', 'Sep'), ('C', 'Oct'), ('C', 'Nov'), ('C', 'Dec')}\n",
            "    outsource_constraint1_index : Size=1, Index=None, Ordered=False\n",
            "        Key  : Dimen : Domain : Size : Members\n",
            "        None :     1 :    Any :   12 : {'Apr', 'Aug', 'Dec', 'Feb', 'Jan', 'Jul', 'Jun', 'Mar', 'May', 'Nov', 'Oct', 'Sep'}\n",
            "    outsource_constraint2_index : Size=1, Index=None, Ordered=False\n",
            "        Key  : Dimen : Domain : Size : Members\n",
            "        None :     1 :    Any :   12 : {'Apr', 'Aug', 'Dec', 'Feb', 'Jan', 'Jul', 'Jun', 'Mar', 'May', 'Nov', 'Oct', 'Sep'}\n",
            "    s_index : Size=1, Index=None, Ordered=True\n",
            "        Key  : Dimen : Domain : Size : Members\n",
            "        None :     2 :    i*j :   36 : {('A', 'Jan'), ('A', 'Feb'), ('A', 'Mar'), ('A', 'Apr'), ('A', 'May'), ('A', 'Jun'), ('A', 'Jul'), ('A', 'Aug'), ('A', 'Sep'), ('A', 'Oct'), ('A', 'Nov'), ('A', 'Dec'), ('B', 'Jan'), ('B', 'Feb'), ('B', 'Mar'), ('B', 'Apr'), ('B', 'May'), ('B', 'Jun'), ('B', 'Jul'), ('B', 'Aug'), ('B', 'Sep'), ('B', 'Oct'), ('B', 'Nov'), ('B', 'Dec'), ('C', 'Jan'), ('C', 'Feb'), ('C', 'Mar'), ('C', 'Apr'), ('C', 'May'), ('C', 'Jun'), ('C', 'Jul'), ('C', 'Aug'), ('C', 'Sep'), ('C', 'Oct'), ('C', 'Nov'), ('C', 'Dec')}\n",
            "    sa_index : Size=1, Index=None, Ordered=True\n",
            "        Key  : Dimen : Domain : Size : Members\n",
            "        None :     2 :    i*j :   36 : {('A', 'Jan'), ('A', 'Feb'), ('A', 'Mar'), ('A', 'Apr'), ('A', 'May'), ('A', 'Jun'), ('A', 'Jul'), ('A', 'Aug'), ('A', 'Sep'), ('A', 'Oct'), ('A', 'Nov'), ('A', 'Dec'), ('B', 'Jan'), ('B', 'Feb'), ('B', 'Mar'), ('B', 'Apr'), ('B', 'May'), ('B', 'Jun'), ('B', 'Jul'), ('B', 'Aug'), ('B', 'Sep'), ('B', 'Oct'), ('B', 'Nov'), ('B', 'Dec'), ('C', 'Jan'), ('C', 'Feb'), ('C', 'Mar'), ('C', 'Apr'), ('C', 'May'), ('C', 'Jun'), ('C', 'Jul'), ('C', 'Aug'), ('C', 'Sep'), ('C', 'Oct'), ('C', 'Nov'), ('C', 'Dec')}\n",
            "    x_index : Size=1, Index=None, Ordered=False\n",
            "        Key  : Dimen : Domain              : Size : Members\n",
            "        None :     2 : x_index_0*x_index_1 :   36 : {('A', 'Apr'), ('A', 'Aug'), ('A', 'Dec'), ('A', 'Feb'), ('A', 'Jan'), ('A', 'Jul'), ('A', 'Jun'), ('A', 'Mar'), ('A', 'May'), ('A', 'Nov'), ('A', 'Oct'), ('A', 'Sep'), ('B', 'Apr'), ('B', 'Aug'), ('B', 'Dec'), ('B', 'Feb'), ('B', 'Jan'), ('B', 'Jul'), ('B', 'Jun'), ('B', 'Mar'), ('B', 'May'), ('B', 'Nov'), ('B', 'Oct'), ('B', 'Sep'), ('C', 'Apr'), ('C', 'Aug'), ('C', 'Dec'), ('C', 'Feb'), ('C', 'Jan'), ('C', 'Jul'), ('C', 'Jun'), ('C', 'Mar'), ('C', 'May'), ('C', 'Nov'), ('C', 'Oct'), ('C', 'Sep')}\n",
            "    x_index_0 : Size=1, Index=None, Ordered=False\n",
            "        Key  : Dimen : Domain : Size : Members\n",
            "        None :     1 :    Any :    3 : {'A', 'B', 'C'}\n",
            "    x_index_1 : Size=1, Index=None, Ordered=False\n",
            "        Key  : Dimen : Domain : Size : Members\n",
            "        None :     1 :    Any :   12 : {'Apr', 'Aug', 'Dec', 'Feb', 'Jan', 'Jul', 'Jun', 'Mar', 'May', 'Nov', 'Oct', 'Sep'}\n",
            "    y_index : Size=1, Index=None, Ordered=False\n",
            "        Key  : Dimen : Domain              : Size : Members\n",
            "        None :     2 : y_index_0*y_index_1 :   36 : {('A', 'Apr'), ('A', 'Aug'), ('A', 'Dec'), ('A', 'Feb'), ('A', 'Jan'), ('A', 'Jul'), ('A', 'Jun'), ('A', 'Mar'), ('A', 'May'), ('A', 'Nov'), ('A', 'Oct'), ('A', 'Sep'), ('B', 'Apr'), ('B', 'Aug'), ('B', 'Dec'), ('B', 'Feb'), ('B', 'Jan'), ('B', 'Jul'), ('B', 'Jun'), ('B', 'Mar'), ('B', 'May'), ('B', 'Nov'), ('B', 'Oct'), ('B', 'Sep'), ('C', 'Apr'), ('C', 'Aug'), ('C', 'Dec'), ('C', 'Feb'), ('C', 'Jan'), ('C', 'Jul'), ('C', 'Jun'), ('C', 'Mar'), ('C', 'May'), ('C', 'Nov'), ('C', 'Oct'), ('C', 'Sep')}\n",
            "    y_index_0 : Size=1, Index=None, Ordered=False\n",
            "        Key  : Dimen : Domain : Size : Members\n",
            "        None :     1 :    Any :    3 : {'A', 'B', 'C'}\n",
            "    y_index_1 : Size=1, Index=None, Ordered=False\n",
            "        Key  : Dimen : Domain : Size : Members\n",
            "        None :     1 :    Any :   12 : {'Apr', 'Aug', 'Dec', 'Feb', 'Jan', 'Jul', 'Jun', 'Mar', 'May', 'Nov', 'Oct', 'Sep'}\n",
            "\n",
            "8 Param Declarations\n",
            "    FTEAPPNO : NO OF FTE APP\n",
            "        Size=36, Index=FTEAPPNO_index, Domain=Any, Default=None, Mutable=False\n",
            "        Key          : Value\n",
            "        ('A', 'Apr') :  1600\n",
            "        ('A', 'Aug') :  1600\n",
            "        ('A', 'Dec') :  1600\n",
            "        ('A', 'Feb') :  1600\n",
            "        ('A', 'Jan') :  1600\n",
            "        ('A', 'Jul') :  1600\n",
            "        ('A', 'Jun') :  1600\n",
            "        ('A', 'Mar') :  1600\n",
            "        ('A', 'May') :  1600\n",
            "        ('A', 'Nov') :  1600\n",
            "        ('A', 'Oct') :  1600\n",
            "        ('A', 'Sep') :  1600\n",
            "        ('B', 'Apr') :  1600\n",
            "        ('B', 'Aug') :  1600\n",
            "        ('B', 'Dec') :  1600\n",
            "        ('B', 'Feb') :  1600\n",
            "        ('B', 'Jan') :  1600\n",
            "        ('B', 'Jul') :  1600\n",
            "        ('B', 'Jun') :  1600\n",
            "        ('B', 'Mar') :  1600\n",
            "        ('B', 'May') :  1600\n",
            "        ('B', 'Nov') :  1600\n",
            "        ('B', 'Oct') :  1600\n",
            "        ('B', 'Sep') :  1600\n",
            "        ('C', 'Apr') :  1600\n",
            "        ('C', 'Aug') :  1600\n",
            "        ('C', 'Dec') :  1600\n",
            "        ('C', 'Feb') :  1600\n",
            "        ('C', 'Jan') :  1600\n",
            "        ('C', 'Jul') :  1600\n",
            "        ('C', 'Jun') :  1600\n",
            "        ('C', 'Mar') :  1600\n",
            "        ('C', 'May') :  1600\n",
            "        ('C', 'Nov') :  1600\n",
            "        ('C', 'Oct') :  1600\n",
            "        ('C', 'Sep') :  1600\n",
            "    Reg_A : RegRest_A\n",
            "        Size=36, Index=Reg_A_index, Domain=Any, Default=None, Mutable=False\n",
            "        Key          : Value\n",
            "        ('A', 'Apr') :              689.1\n",
            "        ('A', 'Aug') :             1011.3\n",
            "        ('A', 'Dec') : 1554.8999999999999\n",
            "        ('A', 'Feb') : 1463.3999999999999\n",
            "        ('A', 'Jan') :             1572.0\n",
            "        ('A', 'Jul') :             1600.2\n",
            "        ('A', 'Jun') :              682.5\n",
            "        ('A', 'Mar') :             1782.6\n",
            "        ('A', 'May') :              597.6\n",
            "        ('A', 'Nov') :             1285.2\n",
            "        ('A', 'Oct') :             1058.7\n",
            "        ('A', 'Sep') :             1127.7\n",
            "        ('B', 'Apr') :              701.4\n",
            "        ('B', 'Aug') :              786.0\n",
            "        ('B', 'Dec') :             1268.1\n",
            "        ('B', 'Feb') :              788.4\n",
            "        ('B', 'Jan') :             1478.1\n",
            "        ('B', 'Jul') :             1281.3\n",
            "        ('B', 'Jun') :  944.0999999999999\n",
            "        ('B', 'Mar') :  892.1999999999999\n",
            "        ('B', 'May') :             1206.0\n",
            "        ('B', 'Nov') :  941.0999999999999\n",
            "        ('B', 'Oct') :             1246.5\n",
            "        ('B', 'Sep') :             1355.1\n",
            "        ('C', 'Apr') :              678.3\n",
            "        ('C', 'Aug') :              748.8\n",
            "        ('C', 'Dec') :              599.4\n",
            "        ('C', 'Feb') :              590.1\n",
            "        ('C', 'Jan') : 348.59999999999997\n",
            "        ('C', 'Jul') :  746.6999999999999\n",
            "        ('C', 'Jun') : 492.59999999999997\n",
            "        ('C', 'Mar') :              569.4\n",
            "        ('C', 'May') :              609.0\n",
            "        ('C', 'Nov') :              288.9\n",
            "        ('C', 'Oct') :              726.3\n",
            "        ('C', 'Sep') : 276.59999999999997\n",
            "    Reg_B : RegRest_B\n",
            "        Size=36, Index=Reg_B_index, Domain=Any, Default=None, Mutable=False\n",
            "        Key          : Value\n",
            "        ('A', 'Apr') :  918.8000000000001\n",
            "        ('A', 'Aug') :             1348.4\n",
            "        ('A', 'Dec') : 2073.2000000000003\n",
            "        ('A', 'Feb') :             1951.2\n",
            "        ('A', 'Jan') :             2096.0\n",
            "        ('A', 'Jul') :             2133.6\n",
            "        ('A', 'Jun') :              910.0\n",
            "        ('A', 'Mar') :             2376.8\n",
            "        ('A', 'May') :  796.8000000000001\n",
            "        ('A', 'Nov') : 1713.6000000000001\n",
            "        ('A', 'Oct') : 1411.6000000000001\n",
            "        ('A', 'Sep') : 1503.6000000000001\n",
            "        ('B', 'Apr') :              935.2\n",
            "        ('B', 'Aug') :             1048.0\n",
            "        ('B', 'Dec') : 1690.8000000000002\n",
            "        ('B', 'Feb') :             1051.2\n",
            "        ('B', 'Jan') : 1970.8000000000002\n",
            "        ('B', 'Jul') :             1708.4\n",
            "        ('B', 'Jun') : 1258.8000000000002\n",
            "        ('B', 'Mar') : 1189.6000000000001\n",
            "        ('B', 'May') :             1608.0\n",
            "        ('B', 'Nov') : 1254.8000000000002\n",
            "        ('B', 'Oct') :             1662.0\n",
            "        ('B', 'Sep') : 1806.8000000000002\n",
            "        ('C', 'Apr') :  904.4000000000001\n",
            "        ('C', 'Aug') :  998.4000000000001\n",
            "        ('C', 'Dec') :              799.2\n",
            "        ('C', 'Feb') :  786.8000000000001\n",
            "        ('C', 'Jan') :              464.8\n",
            "        ('C', 'Jul') :              995.6\n",
            "        ('C', 'Jun') :  656.8000000000001\n",
            "        ('C', 'Mar') :              759.2\n",
            "        ('C', 'May') :              812.0\n",
            "        ('C', 'Nov') : 385.20000000000005\n",
            "        ('C', 'Oct') :  968.4000000000001\n",
            "        ('C', 'Sep') :              368.8\n",
            "    d : Demand\n",
            "        Size=36, Index=d_index, Domain=Any, Default=None, Mutable=False\n",
            "        Key          : Value\n",
            "        ('A', 'Apr') :  2297\n",
            "        ('A', 'Aug') :  3371\n",
            "        ('A', 'Dec') :  5183\n",
            "        ('A', 'Feb') :  4878\n",
            "        ('A', 'Jan') :  5240\n",
            "        ('A', 'Jul') :  5334\n",
            "        ('A', 'Jun') :  2275\n",
            "        ('A', 'Mar') :  5942\n",
            "        ('A', 'May') :  1992\n",
            "        ('A', 'Nov') :  4284\n",
            "        ('A', 'Oct') :  3529\n",
            "        ('A', 'Sep') :  3759\n",
            "        ('B', 'Apr') :  2338\n",
            "        ('B', 'Aug') :  2620\n",
            "        ('B', 'Dec') :  4227\n",
            "        ('B', 'Feb') :  2628\n",
            "        ('B', 'Jan') :  4927\n",
            "        ('B', 'Jul') :  4271\n",
            "        ('B', 'Jun') :  3147\n",
            "        ('B', 'Mar') :  2974\n",
            "        ('B', 'May') :  4020\n",
            "        ('B', 'Nov') :  3137\n",
            "        ('B', 'Oct') :  4155\n",
            "        ('B', 'Sep') :  4517\n",
            "        ('C', 'Apr') :  2261\n",
            "        ('C', 'Aug') :  2496\n",
            "        ('C', 'Dec') :  1998\n",
            "        ('C', 'Feb') :  1967\n",
            "        ('C', 'Jan') :  1162\n",
            "        ('C', 'Jul') :  2489\n",
            "        ('C', 'Jun') :  1642\n",
            "        ('C', 'Mar') :  1898\n",
            "        ('C', 'May') :  2030\n",
            "        ('C', 'Nov') :   963\n",
            "        ('C', 'Oct') :  2421\n",
            "        ('C', 'Sep') :   922\n",
            "    oc : OutSourceCost\n",
            "        Size=36, Index=oc_index, Domain=Any, Default=None, Mutable=False\n",
            "        Key          : Value\n",
            "        ('A', 'Apr') :   180\n",
            "        ('A', 'Aug') :   180\n",
            "        ('A', 'Dec') :   180\n",
            "        ('A', 'Feb') :   180\n",
            "        ('A', 'Jan') :   180\n",
            "        ('A', 'Jul') :   180\n",
            "        ('A', 'Jun') :   180\n",
            "        ('A', 'Mar') :   180\n",
            "        ('A', 'May') :   180\n",
            "        ('A', 'Nov') :   180\n",
            "        ('A', 'Oct') :   180\n",
            "        ('A', 'Sep') :   180\n",
            "        ('B', 'Apr') :   150\n",
            "        ('B', 'Aug') :   150\n",
            "        ('B', 'Dec') :   150\n",
            "        ('B', 'Feb') :   150\n",
            "        ('B', 'Jan') :   150\n",
            "        ('B', 'Jul') :   150\n",
            "        ('B', 'Jun') :   150\n",
            "        ('B', 'Mar') :   150\n",
            "        ('B', 'May') :   150\n",
            "        ('B', 'Nov') :   150\n",
            "        ('B', 'Oct') :   150\n",
            "        ('B', 'Sep') :   150\n",
            "        ('C', 'Apr') :   160\n",
            "        ('C', 'Aug') :   160\n",
            "        ('C', 'Dec') :   160\n",
            "        ('C', 'Feb') :   160\n",
            "        ('C', 'Jan') :   160\n",
            "        ('C', 'Jul') :   160\n",
            "        ('C', 'Jun') :   160\n",
            "        ('C', 'Mar') :   160\n",
            "        ('C', 'May') :   160\n",
            "        ('C', 'Nov') :   160\n",
            "        ('C', 'Oct') :   160\n",
            "        ('C', 'Sep') :   160\n",
            "    r : FTE App Serv Rate\n",
            "        Size=1, Index=None, Domain=Any, Default=None, Mutable=False\n",
            "        Key  : Value\n",
            "        None :    40\n",
            "    s : FTE_Salary\n",
            "        Size=36, Index=s_index, Domain=Any, Default=None, Mutable=False\n",
            "        Key          : Value\n",
            "        ('A', 'Apr') :            5000.0\n",
            "        ('A', 'Aug') :            5000.0\n",
            "        ('A', 'Dec') :            5000.0\n",
            "        ('A', 'Feb') :            5000.0\n",
            "        ('A', 'Jan') :            5000.0\n",
            "        ('A', 'Jul') :            5000.0\n",
            "        ('A', 'Jun') :            5000.0\n",
            "        ('A', 'Mar') :            5000.0\n",
            "        ('A', 'May') :            5000.0\n",
            "        ('A', 'Nov') :            5000.0\n",
            "        ('A', 'Oct') :            5000.0\n",
            "        ('A', 'Sep') :            5000.0\n",
            "        ('B', 'Apr') : 4583.333333333333\n",
            "        ('B', 'Aug') : 4583.333333333333\n",
            "        ('B', 'Dec') : 4583.333333333333\n",
            "        ('B', 'Feb') : 4583.333333333333\n",
            "        ('B', 'Jan') : 4583.333333333333\n",
            "        ('B', 'Jul') : 4583.333333333333\n",
            "        ('B', 'Jun') : 4583.333333333333\n",
            "        ('B', 'Mar') : 4583.333333333333\n",
            "        ('B', 'May') : 4583.333333333333\n",
            "        ('B', 'Nov') : 4583.333333333333\n",
            "        ('B', 'Oct') : 4583.333333333333\n",
            "        ('B', 'Sep') : 4583.333333333333\n",
            "        ('C', 'Apr') : 4416.666666666667\n",
            "        ('C', 'Aug') : 4416.666666666667\n",
            "        ('C', 'Dec') : 4416.666666666667\n",
            "        ('C', 'Feb') : 4416.666666666667\n",
            "        ('C', 'Jan') : 4416.666666666667\n",
            "        ('C', 'Jul') : 4416.666666666667\n",
            "        ('C', 'Jun') : 4416.666666666667\n",
            "        ('C', 'Mar') : 4416.666666666667\n",
            "        ('C', 'May') : 4416.666666666667\n",
            "        ('C', 'Nov') : 4416.666666666667\n",
            "        ('C', 'Oct') : 4416.666666666667\n",
            "        ('C', 'Sep') : 4416.666666666667\n",
            "    sa : StaffAvPercent\n",
            "        Size=36, Index=sa_index, Domain=Any, Default=None, Mutable=False\n",
            "        Key          : Value\n",
            "        ('A', 'Apr') :    40\n",
            "        ('A', 'Aug') :    40\n",
            "        ('A', 'Dec') :    40\n",
            "        ('A', 'Feb') :    40\n",
            "        ('A', 'Jan') :    40\n",
            "        ('A', 'Jul') :    40\n",
            "        ('A', 'Jun') :    40\n",
            "        ('A', 'Mar') :    40\n",
            "        ('A', 'May') :    40\n",
            "        ('A', 'Nov') :    40\n",
            "        ('A', 'Oct') :    40\n",
            "        ('A', 'Sep') :    40\n",
            "        ('B', 'Apr') :    40\n",
            "        ('B', 'Aug') :    40\n",
            "        ('B', 'Dec') :    40\n",
            "        ('B', 'Feb') :    40\n",
            "        ('B', 'Jan') :    40\n",
            "        ('B', 'Jul') :    40\n",
            "        ('B', 'Jun') :    40\n",
            "        ('B', 'Mar') :    40\n",
            "        ('B', 'May') :    40\n",
            "        ('B', 'Nov') :    40\n",
            "        ('B', 'Oct') :    40\n",
            "        ('B', 'Sep') :    40\n",
            "        ('C', 'Apr') :    40\n",
            "        ('C', 'Aug') :    40\n",
            "        ('C', 'Dec') :    40\n",
            "        ('C', 'Feb') :    40\n",
            "        ('C', 'Jan') :    40\n",
            "        ('C', 'Jul') :    40\n",
            "        ('C', 'Jun') :    40\n",
            "        ('C', 'Mar') :    40\n",
            "        ('C', 'May') :    40\n",
            "        ('C', 'Nov') :    40\n",
            "        ('C', 'Oct') :    40\n",
            "        ('C', 'Sep') :    40\n",
            "\n",
            "2 Var Declarations\n",
            "    x : Size=36, Index=x_index\n",
            "        Key          : Lower : Value            : Upper : Fixed : Stale : Domain\n",
            "        ('A', 'Apr') :     0 :         71.78125 :  None : False : False : PositiveReals\n",
            "        ('A', 'Aug') :     0 : 110.888157894737 :  None : False : False : PositiveReals\n",
            "        ('A', 'Dec') :     0 : 139.542307692308 :  None : False : False : PositiveReals\n",
            "        ('A', 'Feb') :     0 : 160.460526315789 :  None : False : False : PositiveReals\n",
            "        ('A', 'Jan') :     0 : 161.728395061728 :  None : False : False : PositiveReals\n",
            "        ('A', 'Jul') :     0 : 137.272058823529 :  None : False : False : PositiveReals\n",
            "        ('A', 'Jun') :     0 : 77.9109589041096 :  None : False : False : PositiveReals\n",
            "        ('A', 'Mar') :     0 : 198.066666666667 :  None : False : False : PositiveReals\n",
            "        ('A', 'May') :     0 : 63.8461538461538 :  None : False : False : PositiveReals\n",
            "        ('A', 'Nov') :     0 :           110.25 :  None : False : False : PositiveReals\n",
            "        ('A', 'Oct') :     0 : 120.856164383562 :  None : False : False : PositiveReals\n",
            "        ('A', 'Sep') :     0 : 116.018518518519 :  None : False : False : PositiveReals\n",
            "        ('B', 'Apr') :     0 :          73.0625 :  None : False : False : PositiveReals\n",
            "        ('B', 'Aug') :     0 : 51.7105263157895 :  None : False : False : PositiveReals\n",
            "        ('B', 'Dec') :     0 : 97.5461538461538 :  None : False : False : PositiveReals\n",
            "        ('B', 'Feb') :     0 : 51.8684210526316 :  None : False : False : PositiveReals\n",
            "        ('B', 'Jan') :     0 : 152.067901234568 :  None : False : False : PositiveReals\n",
            "        ('B', 'Jul') :     0 : 94.2132352941176 :  None : False : False : PositiveReals\n",
            "        ('B', 'Jun') :     0 : 64.6643835616438 :  None : False : False : PositiveReals\n",
            "        ('B', 'Mar') :     0 :            59.48 :  None : False : False : PositiveReals\n",
            "        ('B', 'May') :     0 : 128.846153846154 :  None : False : False : PositiveReals\n",
            "        ('B', 'Nov') :     0 : 69.1985294117647 :  None : False : False : PositiveReals\n",
            "        ('B', 'Oct') :     0 : 85.3767123287671 :  None : False : False : PositiveReals\n",
            "        ('B', 'Sep') :     0 : 139.413580246914 :  None : False : False : PositiveReals\n",
            "        ('C', 'Apr') :     0 :         70.65625 :  None : False : False : PositiveReals\n",
            "        ('C', 'Aug') :     0 : 82.1052631578947 :  None : False : False : PositiveReals\n",
            "        ('C', 'Dec') :     0 :              0.0 :  None : False : False : PositiveReals\n",
            "        ('C', 'Feb') :     0 : 64.7039473684211 :  None : False : False : PositiveReals\n",
            "        ('C', 'Jan') :     0 : 35.8641975308642 :  None : False : False : PositiveReals\n",
            "        ('C', 'Jul') :     0 :              0.0 :  None : False : False : PositiveReals\n",
            "        ('C', 'Jun') :     0 : 56.2328767123288 :  None : False : False : PositiveReals\n",
            "        ('C', 'Mar') :     0 : 63.2666666666667 :  None : False : False : PositiveReals\n",
            "        ('C', 'May') :     0 : 65.0641025641026 :  None : False : False : PositiveReals\n",
            "        ('C', 'Nov') :     0 :              0.0 :  None : False : False : PositiveReals\n",
            "        ('C', 'Oct') :     0 : 82.9109589041096 :  None : False : False : PositiveReals\n",
            "        ('C', 'Sep') :     0 : 28.4567901234568 :  None : False : False : PositiveReals\n",
            "    y : Size=36, Index=y_index\n",
            "        Key          : Lower : Value  : Upper : Fixed : Stale : Domain\n",
            "        ('A', 'Apr') :     0 :    0.0 :  None : False : False : PositiveReals\n",
            "        ('A', 'Aug') :     0 :    0.0 :  None : False : False : PositiveReals\n",
            "        ('A', 'Dec') :     0 : 1554.9 :  None : False : False : PositiveReals\n",
            "        ('A', 'Feb') :     0 :    0.0 :  None : False : False : PositiveReals\n",
            "        ('A', 'Jan') :     0 :    0.0 :  None : False : False : PositiveReals\n",
            "        ('A', 'Jul') :     0 : 1600.2 :  None : False : False : PositiveReals\n",
            "        ('A', 'Jun') :     0 :    0.0 :  None : False : False : PositiveReals\n",
            "        ('A', 'Mar') :     0 :    0.0 :  None : False : False : PositiveReals\n",
            "        ('A', 'May') :     0 :    0.0 :  None : False : False : PositiveReals\n",
            "        ('A', 'Nov') :     0 : 1285.2 :  None : False : False : PositiveReals\n",
            "        ('A', 'Oct') :     0 :    0.0 :  None : False : False : PositiveReals\n",
            "        ('A', 'Sep') :     0 :    0.0 :  None : False : False : PositiveReals\n",
            "        ('B', 'Apr') :     0 :    0.0 :  None : False : False : PositiveReals\n",
            "        ('B', 'Aug') :     0 : 1048.0 :  None : False : False : PositiveReals\n",
            "        ('B', 'Dec') :     0 : 1690.8 :  None : False : False : PositiveReals\n",
            "        ('B', 'Feb') :     0 : 1051.2 :  None : False : False : PositiveReals\n",
            "        ('B', 'Jan') :     0 :    0.0 :  None : False : False : PositiveReals\n",
            "        ('B', 'Jul') :     0 : 1708.4 :  None : False : False : PositiveReals\n",
            "        ('B', 'Jun') :     0 : 1258.8 :  None : False : False : PositiveReals\n",
            "        ('B', 'Mar') :     0 : 1189.6 :  None : False : False : PositiveReals\n",
            "        ('B', 'May') :     0 :    0.0 :  None : False : False : PositiveReals\n",
            "        ('B', 'Nov') :     0 : 1254.8 :  None : False : False : PositiveReals\n",
            "        ('B', 'Oct') :     0 : 1662.0 :  None : False : False : PositiveReals\n",
            "        ('B', 'Sep') :     0 :    0.0 :  None : False : False : PositiveReals\n",
            "        ('C', 'Apr') :     0 :    0.0 :  None : False : False : PositiveReals\n",
            "        ('C', 'Aug') :     0 :    0.0 :  None : False : False : PositiveReals\n",
            "        ('C', 'Dec') :     0 : 1998.0 :  None : False : False : PositiveReals\n",
            "        ('C', 'Feb') :     0 :    0.0 :  None : False : False : PositiveReals\n",
            "        ('C', 'Jan') :     0 :    0.0 :  None : False : False : PositiveReals\n",
            "        ('C', 'Jul') :     0 : 2489.0 :  None : False : False : PositiveReals\n",
            "        ('C', 'Jun') :     0 :    0.0 :  None : False : False : PositiveReals\n",
            "        ('C', 'Mar') :     0 :    0.0 :  None : False : False : PositiveReals\n",
            "        ('C', 'May') :     0 :    0.0 :  None : False : False : PositiveReals\n",
            "        ('C', 'Nov') :     0 :  963.0 :  None : False : False : PositiveReals\n",
            "        ('C', 'Oct') :     0 :    0.0 :  None : False : False : PositiveReals\n",
            "        ('C', 'Sep') :     0 :    0.0 :  None : False : False : PositiveReals\n",
            "\n",
            "1 Objective Declarations\n",
            "    value : Size=1, Index=None, Active=True\n",
            "        Key  : Active : Sense    : Expression\n",
            "        None :   True : minimize : 5000.0*x[A,Jan] + 4583.333333333333*x[B,Jan] + 4416.666666666667*x[C,Jan] + 5000.0*x[A,Feb] + 4583.333333333333*x[B,Feb] + 4416.666666666667*x[C,Feb] + 5000.0*x[A,Mar] + 4583.333333333333*x[B,Mar] + 4416.666666666667*x[C,Mar] + 5000.0*x[A,Apr] + 4583.333333333333*x[B,Apr] + 4416.666666666667*x[C,Apr] + 5000.0*x[A,May] + 4583.333333333333*x[B,May] + 4416.666666666667*x[C,May] + 5000.0*x[A,Jun] + 4583.333333333333*x[B,Jun] + 4416.666666666667*x[C,Jun] + 5000.0*x[A,Jul] + 4583.333333333333*x[B,Jul] + 4416.666666666667*x[C,Jul] + 5000.0*x[A,Aug] + 4583.333333333333*x[B,Aug] + 4416.666666666667*x[C,Aug] + 5000.0*x[A,Sep] + 4583.333333333333*x[B,Sep] + 4416.666666666667*x[C,Sep] + 5000.0*x[A,Oct] + 4583.333333333333*x[B,Oct] + 4416.666666666667*x[C,Oct] + 5000.0*x[A,Nov] + 4583.333333333333*x[B,Nov] + 4416.666666666667*x[C,Nov] + 5000.0*x[A,Dec] + 4583.333333333333*x[B,Dec] + 4416.666666666667*x[C,Dec] + 180*y[A,Jan] + 150*y[B,Jan] + 160*y[C,Jan] + 180*y[A,Feb] + 150*y[B,Feb] + 160*y[C,Feb] + 180*y[A,Mar] + 150*y[B,Mar] + 160*y[C,Mar] + 180*y[A,Apr] + 150*y[B,Apr] + 160*y[C,Apr] + 180*y[A,May] + 150*y[B,May] + 160*y[C,May] + 180*y[A,Jun] + 150*y[B,Jun] + 160*y[C,Jun] + 180*y[A,Jul] + 150*y[B,Jul] + 160*y[C,Jul] + 180*y[A,Aug] + 150*y[B,Aug] + 160*y[C,Aug] + 180*y[A,Sep] + 150*y[B,Sep] + 160*y[C,Sep] + 180*y[A,Oct] + 150*y[B,Oct] + 160*y[C,Oct] + 180*y[A,Nov] + 150*y[B,Nov] + 160*y[C,Nov] + 180*y[A,Dec] + 150*y[B,Dec] + 160*y[C,Dec]\n",
            "\n",
            "3 Constraint Declarations\n",
            "    demand : Size=36, Index=demand_index, Active=True\n",
            "        Key          : Lower  : Body                                   : Upper  : Active\n",
            "        ('A', 'Apr') : 2297.0 :               32.0*x[A,Apr] + y[A,Apr] : 2297.0 :   True\n",
            "        ('A', 'Aug') : 3371.0 :               30.4*x[A,Aug] + y[A,Aug] : 3371.0 :   True\n",
            "        ('A', 'Dec') : 5183.0 :               26.0*x[A,Dec] + y[A,Dec] : 5183.0 :   True\n",
            "        ('A', 'Feb') : 4878.0 :               30.4*x[A,Feb] + y[A,Feb] : 4878.0 :   True\n",
            "        ('A', 'Jan') : 5240.0 : 32.400000000000006*x[A,Jan] + y[A,Jan] : 5240.0 :   True\n",
            "        ('A', 'Jul') : 5334.0 : 27.200000000000003*x[A,Jul] + y[A,Jul] : 5334.0 :   True\n",
            "        ('A', 'Jun') : 2275.0 :               29.2*x[A,Jun] + y[A,Jun] : 2275.0 :   True\n",
            "        ('A', 'Mar') : 5942.0 :               30.0*x[A,Mar] + y[A,Mar] : 5942.0 :   True\n",
            "        ('A', 'May') : 1992.0 : 31.200000000000003*x[A,May] + y[A,May] : 1992.0 :   True\n",
            "        ('A', 'Nov') : 4284.0 : 27.200000000000003*x[A,Nov] + y[A,Nov] : 4284.0 :   True\n",
            "        ('A', 'Oct') : 3529.0 :               29.2*x[A,Oct] + y[A,Oct] : 3529.0 :   True\n",
            "        ('A', 'Sep') : 3759.0 : 32.400000000000006*x[A,Sep] + y[A,Sep] : 3759.0 :   True\n",
            "        ('B', 'Apr') : 2338.0 :               32.0*x[B,Apr] + y[B,Apr] : 2338.0 :   True\n",
            "        ('B', 'Aug') : 2620.0 :               30.4*x[B,Aug] + y[B,Aug] : 2620.0 :   True\n",
            "        ('B', 'Dec') : 4227.0 :               26.0*x[B,Dec] + y[B,Dec] : 4227.0 :   True\n",
            "        ('B', 'Feb') : 2628.0 :               30.4*x[B,Feb] + y[B,Feb] : 2628.0 :   True\n",
            "        ('B', 'Jan') : 4927.0 : 32.400000000000006*x[B,Jan] + y[B,Jan] : 4927.0 :   True\n",
            "        ('B', 'Jul') : 4271.0 : 27.200000000000003*x[B,Jul] + y[B,Jul] : 4271.0 :   True\n",
            "        ('B', 'Jun') : 3147.0 :               29.2*x[B,Jun] + y[B,Jun] : 3147.0 :   True\n",
            "        ('B', 'Mar') : 2974.0 :               30.0*x[B,Mar] + y[B,Mar] : 2974.0 :   True\n",
            "        ('B', 'May') : 4020.0 : 31.200000000000003*x[B,May] + y[B,May] : 4020.0 :   True\n",
            "        ('B', 'Nov') : 3137.0 : 27.200000000000003*x[B,Nov] + y[B,Nov] : 3137.0 :   True\n",
            "        ('B', 'Oct') : 4155.0 :               29.2*x[B,Oct] + y[B,Oct] : 4155.0 :   True\n",
            "        ('B', 'Sep') : 4517.0 : 32.400000000000006*x[B,Sep] + y[B,Sep] : 4517.0 :   True\n",
            "        ('C', 'Apr') : 2261.0 :               32.0*x[C,Apr] + y[C,Apr] : 2261.0 :   True\n",
            "        ('C', 'Aug') : 2496.0 :               30.4*x[C,Aug] + y[C,Aug] : 2496.0 :   True\n",
            "        ('C', 'Dec') : 1998.0 :               26.0*x[C,Dec] + y[C,Dec] : 1998.0 :   True\n",
            "        ('C', 'Feb') : 1967.0 :               30.4*x[C,Feb] + y[C,Feb] : 1967.0 :   True\n",
            "        ('C', 'Jan') : 1162.0 : 32.400000000000006*x[C,Jan] + y[C,Jan] : 1162.0 :   True\n",
            "        ('C', 'Jul') : 2489.0 : 27.200000000000003*x[C,Jul] + y[C,Jul] : 2489.0 :   True\n",
            "        ('C', 'Jun') : 1642.0 :               29.2*x[C,Jun] + y[C,Jun] : 1642.0 :   True\n",
            "        ('C', 'Mar') : 1898.0 :               30.0*x[C,Mar] + y[C,Mar] : 1898.0 :   True\n",
            "        ('C', 'May') : 2030.0 : 31.200000000000003*x[C,May] + y[C,May] : 2030.0 :   True\n",
            "        ('C', 'Nov') :  963.0 : 27.200000000000003*x[C,Nov] + y[C,Nov] :  963.0 :   True\n",
            "        ('C', 'Oct') : 2421.0 :               29.2*x[C,Oct] + y[C,Oct] : 2421.0 :   True\n",
            "        ('C', 'Sep') :  922.0 : 32.400000000000006*x[C,Sep] + y[C,Sep] :  922.0 :   True\n",
            "    outsource_constraint1 : Size=12, Index=outsource_constraint1_index, Active=True\n",
            "        Key : Lower : Body     : Upper              : Active\n",
            "        Apr :  -Inf : y[A,Apr] :              689.1 :   True\n",
            "        Aug :  -Inf : y[A,Aug] :             1011.3 :   True\n",
            "        Dec :  -Inf : y[A,Dec] : 1554.8999999999999 :   True\n",
            "        Feb :  -Inf : y[A,Feb] : 1463.3999999999999 :   True\n",
            "        Jan :  -Inf : y[A,Jan] :             1572.0 :   True\n",
            "        Jul :  -Inf : y[A,Jul] :             1600.2 :   True\n",
            "        Jun :  -Inf : y[A,Jun] :              682.5 :   True\n",
            "        Mar :  -Inf : y[A,Mar] :             1782.6 :   True\n",
            "        May :  -Inf : y[A,May] :              597.6 :   True\n",
            "        Nov :  -Inf : y[A,Nov] :             1285.2 :   True\n",
            "        Oct :  -Inf : y[A,Oct] :             1058.7 :   True\n",
            "        Sep :  -Inf : y[A,Sep] :             1127.7 :   True\n",
            "    outsource_constraint2 : Size=12, Index=outsource_constraint2_index, Active=True\n",
            "        Key : Lower : Body     : Upper              : Active\n",
            "        Apr :  -Inf : y[B,Apr] :              935.2 :   True\n",
            "        Aug :  -Inf : y[B,Aug] :             1048.0 :   True\n",
            "        Dec :  -Inf : y[B,Dec] : 1690.8000000000002 :   True\n",
            "        Feb :  -Inf : y[B,Feb] :             1051.2 :   True\n",
            "        Jan :  -Inf : y[B,Jan] : 1970.8000000000002 :   True\n",
            "        Jul :  -Inf : y[B,Jul] :             1708.4 :   True\n",
            "        Jun :  -Inf : y[B,Jun] : 1258.8000000000002 :   True\n",
            "        Mar :  -Inf : y[B,Mar] : 1189.6000000000001 :   True\n",
            "        May :  -Inf : y[B,May] :             1608.0 :   True\n",
            "        Nov :  -Inf : y[B,Nov] : 1254.8000000000002 :   True\n",
            "        Oct :  -Inf : y[B,Oct] :             1662.0 :   True\n",
            "        Sep :  -Inf : y[B,Sep] : 1806.8000000000002 :   True\n",
            "\n",
            "34 Declarations: i j d_index d s_index s oc_index oc sa_index sa r FTEAPPNO_index FTEAPPNO Reg_A_index Reg_A Reg_B_index Reg_B x_index_0 x_index_1 x_index x y_index_0 y_index_1 y_index y demand_index_0 demand_index_1 demand_index demand outsource_constraint1_index outsource_constraint1 outsource_constraint2_index outsource_constraint2 value\n"
          ]
        }
      ]
    },
    {
      "cell_type": "markdown",
      "metadata": {
        "id": "uAcEcLKyuJnx"
      },
      "source": [
        "**`Checkpoint 1:`** Seems like the company has to spend around 17.9 m$ in total for the application approval process."
      ]
    },
    {
      "cell_type": "code",
      "execution_count": 42,
      "metadata": {
        "id": "riA2djSpuJny",
        "colab": {
          "base_uri": "https://localhost:8080/"
        },
        "outputId": "887e7b67-8813-4fa7-fdde-56dc61bbd62c"
      },
      "outputs": [
        {
          "output_type": "stream",
          "name": "stdout",
          "text": [
            "[['A', 'Jan', 161.728395061728, 0.0, 808641.97530864, 5239.999999999987, 5240, 305.0, 5000.0, 180], ['A', 'Feb', 160.460526315789, 0.0, 802302.631578945, 4877.999999999985, 4878, 305.0, 5000.0, 180], ['A', 'Mar', 198.066666666667, 0.0, 990333.333333335, 5942.000000000011, 5942, 305.0, 5000.0, 180], ['A', 'Apr', 71.78125, 0.0, 358906.25, 2297.0, 2297, 305.0, 5000.0, 180], ['A', 'May', 63.8461538461538, 0.0, 319230.76923076896, 1991.9999999999986, 1992, 305.0, 5000.0, 180], ['A', 'Jun', 77.9109589041096, 0.0, 389554.794520548, 2275.0000000000005, 2275, 305.0, 5000.0, 180], ['A', 'Jul', 137.272058823529, 1600.2, 974396.294117645, 3733.7999999999893, 5334, 305.0, 5000.0, 180], ['A', 'Aug', 110.888157894737, 0.0, 554440.7894736851, 3371.0000000000055, 3371, 305.0, 5000.0, 180], ['A', 'Sep', 116.018518518519, 0.0, 580092.592592595, 3759.000000000016, 3759, 305.0, 5000.0, 180], ['A', 'Oct', 120.856164383562, 0.0, 604280.82191781, 3529.0000000000105, 3529, 305.0, 5000.0, 180], ['A', 'Nov', 110.25, 1285.2, 782586.0, 2998.8, 4284, 305.0, 5000.0, 180], ['A', 'Dec', 139.542307692308, 1554.9, 977593.5384615399, 3628.1000000000076, 5183, 305.0, 5000.0, 180], ['B', 'Jan', 152.067901234568, 0.0, 696977.8806584367, 4927.000000000004, 4927, 264.5833333333333, 4583.333333333333, 150], ['B', 'Feb', 51.8684210526316, 1051.2, 395410.26315789483, 1576.8000000000004, 2628, 264.5833333333333, 4583.333333333333, 150], ['B', 'Mar', 59.48, 1189.6, 451056.6666666666, 1784.3999999999999, 2974, 264.5833333333333, 4583.333333333333, 150], ['B', 'Apr', 73.0625, 0.0, 334869.7916666666, 2338.0, 2338, 264.5833333333333, 4583.333333333333, 150], ['B', 'May', 128.846153846154, 0.0, 590544.8717948725, 4020.0000000000055, 4020, 264.5833333333333, 4583.333333333333, 150], ['B', 'Jun', 64.6643835616438, 1258.8, 485198.42465753405, 1888.1999999999991, 3147, 264.5833333333333, 4583.333333333333, 150], ['B', 'Jul', 94.2132352941176, 1708.4, 688070.6617647056, 2562.5999999999985, 4271, 264.5833333333333, 4583.333333333333, 150], ['B', 'Aug', 51.7105263157895, 1048.0, 394206.57894736854, 1572.000000000001, 2620, 264.5833333333333, 4583.333333333333, 150], ['B', 'Sep', 139.413580246914, 0.0, 638978.9094650224, 4517.000000000014, 4517, 264.5833333333333, 4583.333333333333, 150], ['B', 'Oct', 85.3767123287671, 1662.0, 640609.9315068491, 2492.999999999999, 4155, 264.5833333333333, 4583.333333333333, 150], ['B', 'Nov', 69.1985294117647, 1254.8, 505379.9264705882, 1882.1999999999998, 3137, 264.5833333333333, 4583.333333333333, 150], ['B', 'Dec', 97.5461538461538, 1690.8, 700706.5384615383, 2536.199999999999, 4227, 264.5833333333333, 4583.333333333333, 150], ['C', 'Jan', 35.8641975308642, 0.0, 158400.2057613169, 1162.0000000000002, 1162, 270.4166666666667, 4416.666666666667, 160], ['C', 'Feb', 64.7039473684211, 0.0, 285775.76754385984, 1967.0000000000014, 1967, 270.4166666666667, 4416.666666666667, 160], ['C', 'Mar', 63.2666666666667, 0.0, 279427.7777777779, 1898.000000000001, 1898, 270.4166666666667, 4416.666666666667, 160], ['C', 'Apr', 70.65625, 0.0, 312065.1041666667, 2261.0, 2261, 270.4166666666667, 4416.666666666667, 160], ['C', 'May', 65.0641025641026, 0.0, 287366.4529914532, 2030.0000000000011, 2030, 270.4166666666667, 4416.666666666667, 160], ['C', 'Jun', 56.2328767123288, 0.0, 248361.8721461189, 1642.000000000001, 1642, 270.4166666666667, 4416.666666666667, 160], ['C', 'Jul', 0.0, 2489.0, 398240.0, 0.0, 2489, 270.4166666666667, 4416.666666666667, 160], ['C', 'Aug', 82.1052631578947, 0.0, 362631.57894736825, 2495.9999999999986, 2496, 270.4166666666667, 4416.666666666667, 160], ['C', 'Sep', 28.4567901234568, 0.0, 125684.15637860086, 922.0000000000005, 922, 270.4166666666667, 4416.666666666667, 160], ['C', 'Oct', 82.9109589041096, 0.0, 366190.06849315076, 2421.0000000000005, 2421, 270.4166666666667, 4416.666666666667, 160], ['C', 'Nov', 0.0, 963.0, 154080.0, 0.0, 963, 270.4166666666667, 4416.666666666667, 160], ['C', 'Dec', 0.0, 1998.0, 319680.0, 0.0, 1998, 270.4166666666667, 4416.666666666667, 160]]\n"
          ]
        }
      ],
      "source": [
        "# Creating dataframe for the results\n",
        "Output = []\n",
        "# For every iteration, code below will create a list containing the values of state, month, number of staff, outsourced and\n",
        "# cost for those parameters\n",
        "\n",
        "for s in BLocation_ca:\n",
        "    for m in Month_ca:\n",
        "        \n",
        "        #Number of calls to be made for each segment\n",
        "        staff=Model1.x[s,m].value\n",
        "        \n",
        "        #converted calls\n",
        "        outsource=Model1.y[s,m].value\n",
        "        \n",
        "        Total_monthly_cost=Model1.x[s,m].value*FTE_MonthSal_ca[s,m]+Model1.y[s,m].value*UnitOutSource_ca[s,m]\n",
        "        \n",
        "        staff_Appl = Model1.x[s,m].value * 40 * StaffAvP_ca[s,m]\n",
        "        \n",
        "        Demand_col = Demand_ca[s,m]\n",
        "        \n",
        "        Per_Appl_cost = (FTE_MonthSal_ca[s,m]/40) + UnitOutSource_ca[s,m]\n",
        "        \n",
        "       \n",
        "        Staff_cost=FTE_MonthSal_ca[s,m]\n",
        "        Outsource_cost=UnitOutSource_ca[s,m]\n",
        "        \n",
        "        Output.append([s,m,staff,outsource,Total_monthly_cost,staff_Appl,Demand_col,Per_Appl_cost,Staff_cost,Outsource_cost])\n",
        "        \n",
        "print(Output)\n"
      ]
    },
    {
      "cell_type": "code",
      "source": [
        "# Transforming into a dataframe and renaming the columns of the dataframe\n",
        "Output_ca = pd.DataFrame(Output,columns=['State', 'Month','Number of Staffs','Number of Outsource','Total Monthly Cost',\n",
        "                                      'Staff Applications','Demand','Per Application Cost','Staff Cost','Outsource cost'])"
      ],
      "metadata": {
        "id": "-TP7HmndyQQd"
      },
      "execution_count": 43,
      "outputs": []
    },
    {
      "cell_type": "code",
      "source": [
        "# Dataframe representing the output of the Solver along with additiona metrics\n",
        "Output_ca"
      ],
      "metadata": {
        "colab": {
          "base_uri": "https://localhost:8080/",
          "height": 1000
        },
        "id": "4cLUrRc7yW6f",
        "outputId": "7893780d-9902-4c1d-fe2a-cb05c1f2ad24"
      },
      "execution_count": 44,
      "outputs": [
        {
          "output_type": "execute_result",
          "data": {
            "text/plain": [
              "   State Month  Number of Staffs  Number of Outsource  Total Monthly Cost  \\\n",
              "0      A   Jan        161.728395                  0.0       808641.975309   \n",
              "1      A   Feb        160.460526                  0.0       802302.631579   \n",
              "2      A   Mar        198.066667                  0.0       990333.333333   \n",
              "3      A   Apr         71.781250                  0.0       358906.250000   \n",
              "4      A   May         63.846154                  0.0       319230.769231   \n",
              "5      A   Jun         77.910959                  0.0       389554.794521   \n",
              "6      A   Jul        137.272059               1600.2       974396.294118   \n",
              "7      A   Aug        110.888158                  0.0       554440.789474   \n",
              "8      A   Sep        116.018519                  0.0       580092.592593   \n",
              "9      A   Oct        120.856164                  0.0       604280.821918   \n",
              "10     A   Nov        110.250000               1285.2       782586.000000   \n",
              "11     A   Dec        139.542308               1554.9       977593.538462   \n",
              "12     B   Jan        152.067901                  0.0       696977.880658   \n",
              "13     B   Feb         51.868421               1051.2       395410.263158   \n",
              "14     B   Mar         59.480000               1189.6       451056.666667   \n",
              "15     B   Apr         73.062500                  0.0       334869.791667   \n",
              "16     B   May        128.846154                  0.0       590544.871795   \n",
              "17     B   Jun         64.664384               1258.8       485198.424658   \n",
              "18     B   Jul         94.213235               1708.4       688070.661765   \n",
              "19     B   Aug         51.710526               1048.0       394206.578947   \n",
              "20     B   Sep        139.413580                  0.0       638978.909465   \n",
              "21     B   Oct         85.376712               1662.0       640609.931507   \n",
              "22     B   Nov         69.198529               1254.8       505379.926471   \n",
              "23     B   Dec         97.546154               1690.8       700706.538462   \n",
              "24     C   Jan         35.864198                  0.0       158400.205761   \n",
              "25     C   Feb         64.703947                  0.0       285775.767544   \n",
              "26     C   Mar         63.266667                  0.0       279427.777778   \n",
              "27     C   Apr         70.656250                  0.0       312065.104167   \n",
              "28     C   May         65.064103                  0.0       287366.452991   \n",
              "29     C   Jun         56.232877                  0.0       248361.872146   \n",
              "30     C   Jul          0.000000               2489.0       398240.000000   \n",
              "31     C   Aug         82.105263                  0.0       362631.578947   \n",
              "32     C   Sep         28.456790                  0.0       125684.156379   \n",
              "33     C   Oct         82.910959                  0.0       366190.068493   \n",
              "34     C   Nov          0.000000                963.0       154080.000000   \n",
              "35     C   Dec          0.000000               1998.0       319680.000000   \n",
              "\n",
              "    Staff Applications  Demand  Per Application Cost   Staff Cost  \\\n",
              "0               5240.0    5240            305.000000  5000.000000   \n",
              "1               4878.0    4878            305.000000  5000.000000   \n",
              "2               5942.0    5942            305.000000  5000.000000   \n",
              "3               2297.0    2297            305.000000  5000.000000   \n",
              "4               1992.0    1992            305.000000  5000.000000   \n",
              "5               2275.0    2275            305.000000  5000.000000   \n",
              "6               3733.8    5334            305.000000  5000.000000   \n",
              "7               3371.0    3371            305.000000  5000.000000   \n",
              "8               3759.0    3759            305.000000  5000.000000   \n",
              "9               3529.0    3529            305.000000  5000.000000   \n",
              "10              2998.8    4284            305.000000  5000.000000   \n",
              "11              3628.1    5183            305.000000  5000.000000   \n",
              "12              4927.0    4927            264.583333  4583.333333   \n",
              "13              1576.8    2628            264.583333  4583.333333   \n",
              "14              1784.4    2974            264.583333  4583.333333   \n",
              "15              2338.0    2338            264.583333  4583.333333   \n",
              "16              4020.0    4020            264.583333  4583.333333   \n",
              "17              1888.2    3147            264.583333  4583.333333   \n",
              "18              2562.6    4271            264.583333  4583.333333   \n",
              "19              1572.0    2620            264.583333  4583.333333   \n",
              "20              4517.0    4517            264.583333  4583.333333   \n",
              "21              2493.0    4155            264.583333  4583.333333   \n",
              "22              1882.2    3137            264.583333  4583.333333   \n",
              "23              2536.2    4227            264.583333  4583.333333   \n",
              "24              1162.0    1162            270.416667  4416.666667   \n",
              "25              1967.0    1967            270.416667  4416.666667   \n",
              "26              1898.0    1898            270.416667  4416.666667   \n",
              "27              2261.0    2261            270.416667  4416.666667   \n",
              "28              2030.0    2030            270.416667  4416.666667   \n",
              "29              1642.0    1642            270.416667  4416.666667   \n",
              "30                 0.0    2489            270.416667  4416.666667   \n",
              "31              2496.0    2496            270.416667  4416.666667   \n",
              "32               922.0     922            270.416667  4416.666667   \n",
              "33              2421.0    2421            270.416667  4416.666667   \n",
              "34                 0.0     963            270.416667  4416.666667   \n",
              "35                 0.0    1998            270.416667  4416.666667   \n",
              "\n",
              "    Outsource cost  \n",
              "0              180  \n",
              "1              180  \n",
              "2              180  \n",
              "3              180  \n",
              "4              180  \n",
              "5              180  \n",
              "6              180  \n",
              "7              180  \n",
              "8              180  \n",
              "9              180  \n",
              "10             180  \n",
              "11             180  \n",
              "12             150  \n",
              "13             150  \n",
              "14             150  \n",
              "15             150  \n",
              "16             150  \n",
              "17             150  \n",
              "18             150  \n",
              "19             150  \n",
              "20             150  \n",
              "21             150  \n",
              "22             150  \n",
              "23             150  \n",
              "24             160  \n",
              "25             160  \n",
              "26             160  \n",
              "27             160  \n",
              "28             160  \n",
              "29             160  \n",
              "30             160  \n",
              "31             160  \n",
              "32             160  \n",
              "33             160  \n",
              "34             160  \n",
              "35             160  "
            ],
            "text/html": [
              "\n",
              "  <div id=\"df-1869c17b-2fc6-4e15-8c03-35c7d9bbe605\">\n",
              "    <div class=\"colab-df-container\">\n",
              "      <div>\n",
              "<style scoped>\n",
              "    .dataframe tbody tr th:only-of-type {\n",
              "        vertical-align: middle;\n",
              "    }\n",
              "\n",
              "    .dataframe tbody tr th {\n",
              "        vertical-align: top;\n",
              "    }\n",
              "\n",
              "    .dataframe thead th {\n",
              "        text-align: right;\n",
              "    }\n",
              "</style>\n",
              "<table border=\"1\" class=\"dataframe\">\n",
              "  <thead>\n",
              "    <tr style=\"text-align: right;\">\n",
              "      <th></th>\n",
              "      <th>State</th>\n",
              "      <th>Month</th>\n",
              "      <th>Number of Staffs</th>\n",
              "      <th>Number of Outsource</th>\n",
              "      <th>Total Monthly Cost</th>\n",
              "      <th>Staff Applications</th>\n",
              "      <th>Demand</th>\n",
              "      <th>Per Application Cost</th>\n",
              "      <th>Staff Cost</th>\n",
              "      <th>Outsource cost</th>\n",
              "    </tr>\n",
              "  </thead>\n",
              "  <tbody>\n",
              "    <tr>\n",
              "      <th>0</th>\n",
              "      <td>A</td>\n",
              "      <td>Jan</td>\n",
              "      <td>161.728395</td>\n",
              "      <td>0.0</td>\n",
              "      <td>808641.975309</td>\n",
              "      <td>5240.0</td>\n",
              "      <td>5240</td>\n",
              "      <td>305.000000</td>\n",
              "      <td>5000.000000</td>\n",
              "      <td>180</td>\n",
              "    </tr>\n",
              "    <tr>\n",
              "      <th>1</th>\n",
              "      <td>A</td>\n",
              "      <td>Feb</td>\n",
              "      <td>160.460526</td>\n",
              "      <td>0.0</td>\n",
              "      <td>802302.631579</td>\n",
              "      <td>4878.0</td>\n",
              "      <td>4878</td>\n",
              "      <td>305.000000</td>\n",
              "      <td>5000.000000</td>\n",
              "      <td>180</td>\n",
              "    </tr>\n",
              "    <tr>\n",
              "      <th>2</th>\n",
              "      <td>A</td>\n",
              "      <td>Mar</td>\n",
              "      <td>198.066667</td>\n",
              "      <td>0.0</td>\n",
              "      <td>990333.333333</td>\n",
              "      <td>5942.0</td>\n",
              "      <td>5942</td>\n",
              "      <td>305.000000</td>\n",
              "      <td>5000.000000</td>\n",
              "      <td>180</td>\n",
              "    </tr>\n",
              "    <tr>\n",
              "      <th>3</th>\n",
              "      <td>A</td>\n",
              "      <td>Apr</td>\n",
              "      <td>71.781250</td>\n",
              "      <td>0.0</td>\n",
              "      <td>358906.250000</td>\n",
              "      <td>2297.0</td>\n",
              "      <td>2297</td>\n",
              "      <td>305.000000</td>\n",
              "      <td>5000.000000</td>\n",
              "      <td>180</td>\n",
              "    </tr>\n",
              "    <tr>\n",
              "      <th>4</th>\n",
              "      <td>A</td>\n",
              "      <td>May</td>\n",
              "      <td>63.846154</td>\n",
              "      <td>0.0</td>\n",
              "      <td>319230.769231</td>\n",
              "      <td>1992.0</td>\n",
              "      <td>1992</td>\n",
              "      <td>305.000000</td>\n",
              "      <td>5000.000000</td>\n",
              "      <td>180</td>\n",
              "    </tr>\n",
              "    <tr>\n",
              "      <th>5</th>\n",
              "      <td>A</td>\n",
              "      <td>Jun</td>\n",
              "      <td>77.910959</td>\n",
              "      <td>0.0</td>\n",
              "      <td>389554.794521</td>\n",
              "      <td>2275.0</td>\n",
              "      <td>2275</td>\n",
              "      <td>305.000000</td>\n",
              "      <td>5000.000000</td>\n",
              "      <td>180</td>\n",
              "    </tr>\n",
              "    <tr>\n",
              "      <th>6</th>\n",
              "      <td>A</td>\n",
              "      <td>Jul</td>\n",
              "      <td>137.272059</td>\n",
              "      <td>1600.2</td>\n",
              "      <td>974396.294118</td>\n",
              "      <td>3733.8</td>\n",
              "      <td>5334</td>\n",
              "      <td>305.000000</td>\n",
              "      <td>5000.000000</td>\n",
              "      <td>180</td>\n",
              "    </tr>\n",
              "    <tr>\n",
              "      <th>7</th>\n",
              "      <td>A</td>\n",
              "      <td>Aug</td>\n",
              "      <td>110.888158</td>\n",
              "      <td>0.0</td>\n",
              "      <td>554440.789474</td>\n",
              "      <td>3371.0</td>\n",
              "      <td>3371</td>\n",
              "      <td>305.000000</td>\n",
              "      <td>5000.000000</td>\n",
              "      <td>180</td>\n",
              "    </tr>\n",
              "    <tr>\n",
              "      <th>8</th>\n",
              "      <td>A</td>\n",
              "      <td>Sep</td>\n",
              "      <td>116.018519</td>\n",
              "      <td>0.0</td>\n",
              "      <td>580092.592593</td>\n",
              "      <td>3759.0</td>\n",
              "      <td>3759</td>\n",
              "      <td>305.000000</td>\n",
              "      <td>5000.000000</td>\n",
              "      <td>180</td>\n",
              "    </tr>\n",
              "    <tr>\n",
              "      <th>9</th>\n",
              "      <td>A</td>\n",
              "      <td>Oct</td>\n",
              "      <td>120.856164</td>\n",
              "      <td>0.0</td>\n",
              "      <td>604280.821918</td>\n",
              "      <td>3529.0</td>\n",
              "      <td>3529</td>\n",
              "      <td>305.000000</td>\n",
              "      <td>5000.000000</td>\n",
              "      <td>180</td>\n",
              "    </tr>\n",
              "    <tr>\n",
              "      <th>10</th>\n",
              "      <td>A</td>\n",
              "      <td>Nov</td>\n",
              "      <td>110.250000</td>\n",
              "      <td>1285.2</td>\n",
              "      <td>782586.000000</td>\n",
              "      <td>2998.8</td>\n",
              "      <td>4284</td>\n",
              "      <td>305.000000</td>\n",
              "      <td>5000.000000</td>\n",
              "      <td>180</td>\n",
              "    </tr>\n",
              "    <tr>\n",
              "      <th>11</th>\n",
              "      <td>A</td>\n",
              "      <td>Dec</td>\n",
              "      <td>139.542308</td>\n",
              "      <td>1554.9</td>\n",
              "      <td>977593.538462</td>\n",
              "      <td>3628.1</td>\n",
              "      <td>5183</td>\n",
              "      <td>305.000000</td>\n",
              "      <td>5000.000000</td>\n",
              "      <td>180</td>\n",
              "    </tr>\n",
              "    <tr>\n",
              "      <th>12</th>\n",
              "      <td>B</td>\n",
              "      <td>Jan</td>\n",
              "      <td>152.067901</td>\n",
              "      <td>0.0</td>\n",
              "      <td>696977.880658</td>\n",
              "      <td>4927.0</td>\n",
              "      <td>4927</td>\n",
              "      <td>264.583333</td>\n",
              "      <td>4583.333333</td>\n",
              "      <td>150</td>\n",
              "    </tr>\n",
              "    <tr>\n",
              "      <th>13</th>\n",
              "      <td>B</td>\n",
              "      <td>Feb</td>\n",
              "      <td>51.868421</td>\n",
              "      <td>1051.2</td>\n",
              "      <td>395410.263158</td>\n",
              "      <td>1576.8</td>\n",
              "      <td>2628</td>\n",
              "      <td>264.583333</td>\n",
              "      <td>4583.333333</td>\n",
              "      <td>150</td>\n",
              "    </tr>\n",
              "    <tr>\n",
              "      <th>14</th>\n",
              "      <td>B</td>\n",
              "      <td>Mar</td>\n",
              "      <td>59.480000</td>\n",
              "      <td>1189.6</td>\n",
              "      <td>451056.666667</td>\n",
              "      <td>1784.4</td>\n",
              "      <td>2974</td>\n",
              "      <td>264.583333</td>\n",
              "      <td>4583.333333</td>\n",
              "      <td>150</td>\n",
              "    </tr>\n",
              "    <tr>\n",
              "      <th>15</th>\n",
              "      <td>B</td>\n",
              "      <td>Apr</td>\n",
              "      <td>73.062500</td>\n",
              "      <td>0.0</td>\n",
              "      <td>334869.791667</td>\n",
              "      <td>2338.0</td>\n",
              "      <td>2338</td>\n",
              "      <td>264.583333</td>\n",
              "      <td>4583.333333</td>\n",
              "      <td>150</td>\n",
              "    </tr>\n",
              "    <tr>\n",
              "      <th>16</th>\n",
              "      <td>B</td>\n",
              "      <td>May</td>\n",
              "      <td>128.846154</td>\n",
              "      <td>0.0</td>\n",
              "      <td>590544.871795</td>\n",
              "      <td>4020.0</td>\n",
              "      <td>4020</td>\n",
              "      <td>264.583333</td>\n",
              "      <td>4583.333333</td>\n",
              "      <td>150</td>\n",
              "    </tr>\n",
              "    <tr>\n",
              "      <th>17</th>\n",
              "      <td>B</td>\n",
              "      <td>Jun</td>\n",
              "      <td>64.664384</td>\n",
              "      <td>1258.8</td>\n",
              "      <td>485198.424658</td>\n",
              "      <td>1888.2</td>\n",
              "      <td>3147</td>\n",
              "      <td>264.583333</td>\n",
              "      <td>4583.333333</td>\n",
              "      <td>150</td>\n",
              "    </tr>\n",
              "    <tr>\n",
              "      <th>18</th>\n",
              "      <td>B</td>\n",
              "      <td>Jul</td>\n",
              "      <td>94.213235</td>\n",
              "      <td>1708.4</td>\n",
              "      <td>688070.661765</td>\n",
              "      <td>2562.6</td>\n",
              "      <td>4271</td>\n",
              "      <td>264.583333</td>\n",
              "      <td>4583.333333</td>\n",
              "      <td>150</td>\n",
              "    </tr>\n",
              "    <tr>\n",
              "      <th>19</th>\n",
              "      <td>B</td>\n",
              "      <td>Aug</td>\n",
              "      <td>51.710526</td>\n",
              "      <td>1048.0</td>\n",
              "      <td>394206.578947</td>\n",
              "      <td>1572.0</td>\n",
              "      <td>2620</td>\n",
              "      <td>264.583333</td>\n",
              "      <td>4583.333333</td>\n",
              "      <td>150</td>\n",
              "    </tr>\n",
              "    <tr>\n",
              "      <th>20</th>\n",
              "      <td>B</td>\n",
              "      <td>Sep</td>\n",
              "      <td>139.413580</td>\n",
              "      <td>0.0</td>\n",
              "      <td>638978.909465</td>\n",
              "      <td>4517.0</td>\n",
              "      <td>4517</td>\n",
              "      <td>264.583333</td>\n",
              "      <td>4583.333333</td>\n",
              "      <td>150</td>\n",
              "    </tr>\n",
              "    <tr>\n",
              "      <th>21</th>\n",
              "      <td>B</td>\n",
              "      <td>Oct</td>\n",
              "      <td>85.376712</td>\n",
              "      <td>1662.0</td>\n",
              "      <td>640609.931507</td>\n",
              "      <td>2493.0</td>\n",
              "      <td>4155</td>\n",
              "      <td>264.583333</td>\n",
              "      <td>4583.333333</td>\n",
              "      <td>150</td>\n",
              "    </tr>\n",
              "    <tr>\n",
              "      <th>22</th>\n",
              "      <td>B</td>\n",
              "      <td>Nov</td>\n",
              "      <td>69.198529</td>\n",
              "      <td>1254.8</td>\n",
              "      <td>505379.926471</td>\n",
              "      <td>1882.2</td>\n",
              "      <td>3137</td>\n",
              "      <td>264.583333</td>\n",
              "      <td>4583.333333</td>\n",
              "      <td>150</td>\n",
              "    </tr>\n",
              "    <tr>\n",
              "      <th>23</th>\n",
              "      <td>B</td>\n",
              "      <td>Dec</td>\n",
              "      <td>97.546154</td>\n",
              "      <td>1690.8</td>\n",
              "      <td>700706.538462</td>\n",
              "      <td>2536.2</td>\n",
              "      <td>4227</td>\n",
              "      <td>264.583333</td>\n",
              "      <td>4583.333333</td>\n",
              "      <td>150</td>\n",
              "    </tr>\n",
              "    <tr>\n",
              "      <th>24</th>\n",
              "      <td>C</td>\n",
              "      <td>Jan</td>\n",
              "      <td>35.864198</td>\n",
              "      <td>0.0</td>\n",
              "      <td>158400.205761</td>\n",
              "      <td>1162.0</td>\n",
              "      <td>1162</td>\n",
              "      <td>270.416667</td>\n",
              "      <td>4416.666667</td>\n",
              "      <td>160</td>\n",
              "    </tr>\n",
              "    <tr>\n",
              "      <th>25</th>\n",
              "      <td>C</td>\n",
              "      <td>Feb</td>\n",
              "      <td>64.703947</td>\n",
              "      <td>0.0</td>\n",
              "      <td>285775.767544</td>\n",
              "      <td>1967.0</td>\n",
              "      <td>1967</td>\n",
              "      <td>270.416667</td>\n",
              "      <td>4416.666667</td>\n",
              "      <td>160</td>\n",
              "    </tr>\n",
              "    <tr>\n",
              "      <th>26</th>\n",
              "      <td>C</td>\n",
              "      <td>Mar</td>\n",
              "      <td>63.266667</td>\n",
              "      <td>0.0</td>\n",
              "      <td>279427.777778</td>\n",
              "      <td>1898.0</td>\n",
              "      <td>1898</td>\n",
              "      <td>270.416667</td>\n",
              "      <td>4416.666667</td>\n",
              "      <td>160</td>\n",
              "    </tr>\n",
              "    <tr>\n",
              "      <th>27</th>\n",
              "      <td>C</td>\n",
              "      <td>Apr</td>\n",
              "      <td>70.656250</td>\n",
              "      <td>0.0</td>\n",
              "      <td>312065.104167</td>\n",
              "      <td>2261.0</td>\n",
              "      <td>2261</td>\n",
              "      <td>270.416667</td>\n",
              "      <td>4416.666667</td>\n",
              "      <td>160</td>\n",
              "    </tr>\n",
              "    <tr>\n",
              "      <th>28</th>\n",
              "      <td>C</td>\n",
              "      <td>May</td>\n",
              "      <td>65.064103</td>\n",
              "      <td>0.0</td>\n",
              "      <td>287366.452991</td>\n",
              "      <td>2030.0</td>\n",
              "      <td>2030</td>\n",
              "      <td>270.416667</td>\n",
              "      <td>4416.666667</td>\n",
              "      <td>160</td>\n",
              "    </tr>\n",
              "    <tr>\n",
              "      <th>29</th>\n",
              "      <td>C</td>\n",
              "      <td>Jun</td>\n",
              "      <td>56.232877</td>\n",
              "      <td>0.0</td>\n",
              "      <td>248361.872146</td>\n",
              "      <td>1642.0</td>\n",
              "      <td>1642</td>\n",
              "      <td>270.416667</td>\n",
              "      <td>4416.666667</td>\n",
              "      <td>160</td>\n",
              "    </tr>\n",
              "    <tr>\n",
              "      <th>30</th>\n",
              "      <td>C</td>\n",
              "      <td>Jul</td>\n",
              "      <td>0.000000</td>\n",
              "      <td>2489.0</td>\n",
              "      <td>398240.000000</td>\n",
              "      <td>0.0</td>\n",
              "      <td>2489</td>\n",
              "      <td>270.416667</td>\n",
              "      <td>4416.666667</td>\n",
              "      <td>160</td>\n",
              "    </tr>\n",
              "    <tr>\n",
              "      <th>31</th>\n",
              "      <td>C</td>\n",
              "      <td>Aug</td>\n",
              "      <td>82.105263</td>\n",
              "      <td>0.0</td>\n",
              "      <td>362631.578947</td>\n",
              "      <td>2496.0</td>\n",
              "      <td>2496</td>\n",
              "      <td>270.416667</td>\n",
              "      <td>4416.666667</td>\n",
              "      <td>160</td>\n",
              "    </tr>\n",
              "    <tr>\n",
              "      <th>32</th>\n",
              "      <td>C</td>\n",
              "      <td>Sep</td>\n",
              "      <td>28.456790</td>\n",
              "      <td>0.0</td>\n",
              "      <td>125684.156379</td>\n",
              "      <td>922.0</td>\n",
              "      <td>922</td>\n",
              "      <td>270.416667</td>\n",
              "      <td>4416.666667</td>\n",
              "      <td>160</td>\n",
              "    </tr>\n",
              "    <tr>\n",
              "      <th>33</th>\n",
              "      <td>C</td>\n",
              "      <td>Oct</td>\n",
              "      <td>82.910959</td>\n",
              "      <td>0.0</td>\n",
              "      <td>366190.068493</td>\n",
              "      <td>2421.0</td>\n",
              "      <td>2421</td>\n",
              "      <td>270.416667</td>\n",
              "      <td>4416.666667</td>\n",
              "      <td>160</td>\n",
              "    </tr>\n",
              "    <tr>\n",
              "      <th>34</th>\n",
              "      <td>C</td>\n",
              "      <td>Nov</td>\n",
              "      <td>0.000000</td>\n",
              "      <td>963.0</td>\n",
              "      <td>154080.000000</td>\n",
              "      <td>0.0</td>\n",
              "      <td>963</td>\n",
              "      <td>270.416667</td>\n",
              "      <td>4416.666667</td>\n",
              "      <td>160</td>\n",
              "    </tr>\n",
              "    <tr>\n",
              "      <th>35</th>\n",
              "      <td>C</td>\n",
              "      <td>Dec</td>\n",
              "      <td>0.000000</td>\n",
              "      <td>1998.0</td>\n",
              "      <td>319680.000000</td>\n",
              "      <td>0.0</td>\n",
              "      <td>1998</td>\n",
              "      <td>270.416667</td>\n",
              "      <td>4416.666667</td>\n",
              "      <td>160</td>\n",
              "    </tr>\n",
              "  </tbody>\n",
              "</table>\n",
              "</div>\n",
              "      <button class=\"colab-df-convert\" onclick=\"convertToInteractive('df-1869c17b-2fc6-4e15-8c03-35c7d9bbe605')\"\n",
              "              title=\"Convert this dataframe to an interactive table.\"\n",
              "              style=\"display:none;\">\n",
              "        \n",
              "  <svg xmlns=\"http://www.w3.org/2000/svg\" height=\"24px\"viewBox=\"0 0 24 24\"\n",
              "       width=\"24px\">\n",
              "    <path d=\"M0 0h24v24H0V0z\" fill=\"none\"/>\n",
              "    <path d=\"M18.56 5.44l.94 2.06.94-2.06 2.06-.94-2.06-.94-.94-2.06-.94 2.06-2.06.94zm-11 1L8.5 8.5l.94-2.06 2.06-.94-2.06-.94L8.5 2.5l-.94 2.06-2.06.94zm10 10l.94 2.06.94-2.06 2.06-.94-2.06-.94-.94-2.06-.94 2.06-2.06.94z\"/><path d=\"M17.41 7.96l-1.37-1.37c-.4-.4-.92-.59-1.43-.59-.52 0-1.04.2-1.43.59L10.3 9.45l-7.72 7.72c-.78.78-.78 2.05 0 2.83L4 21.41c.39.39.9.59 1.41.59.51 0 1.02-.2 1.41-.59l7.78-7.78 2.81-2.81c.8-.78.8-2.07 0-2.86zM5.41 20L4 18.59l7.72-7.72 1.47 1.35L5.41 20z\"/>\n",
              "  </svg>\n",
              "      </button>\n",
              "      \n",
              "  <style>\n",
              "    .colab-df-container {\n",
              "      display:flex;\n",
              "      flex-wrap:wrap;\n",
              "      gap: 12px;\n",
              "    }\n",
              "\n",
              "    .colab-df-convert {\n",
              "      background-color: #E8F0FE;\n",
              "      border: none;\n",
              "      border-radius: 50%;\n",
              "      cursor: pointer;\n",
              "      display: none;\n",
              "      fill: #1967D2;\n",
              "      height: 32px;\n",
              "      padding: 0 0 0 0;\n",
              "      width: 32px;\n",
              "    }\n",
              "\n",
              "    .colab-df-convert:hover {\n",
              "      background-color: #E2EBFA;\n",
              "      box-shadow: 0px 1px 2px rgba(60, 64, 67, 0.3), 0px 1px 3px 1px rgba(60, 64, 67, 0.15);\n",
              "      fill: #174EA6;\n",
              "    }\n",
              "\n",
              "    [theme=dark] .colab-df-convert {\n",
              "      background-color: #3B4455;\n",
              "      fill: #D2E3FC;\n",
              "    }\n",
              "\n",
              "    [theme=dark] .colab-df-convert:hover {\n",
              "      background-color: #434B5C;\n",
              "      box-shadow: 0px 1px 3px 1px rgba(0, 0, 0, 0.15);\n",
              "      filter: drop-shadow(0px 1px 2px rgba(0, 0, 0, 0.3));\n",
              "      fill: #FFFFFF;\n",
              "    }\n",
              "  </style>\n",
              "\n",
              "      <script>\n",
              "        const buttonEl =\n",
              "          document.querySelector('#df-1869c17b-2fc6-4e15-8c03-35c7d9bbe605 button.colab-df-convert');\n",
              "        buttonEl.style.display =\n",
              "          google.colab.kernel.accessAllowed ? 'block' : 'none';\n",
              "\n",
              "        async function convertToInteractive(key) {\n",
              "          const element = document.querySelector('#df-1869c17b-2fc6-4e15-8c03-35c7d9bbe605');\n",
              "          const dataTable =\n",
              "            await google.colab.kernel.invokeFunction('convertToInteractive',\n",
              "                                                     [key], {});\n",
              "          if (!dataTable) return;\n",
              "\n",
              "          const docLinkHtml = 'Like what you see? Visit the ' +\n",
              "            '<a target=\"_blank\" href=https://colab.research.google.com/notebooks/data_table.ipynb>data table notebook</a>'\n",
              "            + ' to learn more about interactive tables.';\n",
              "          element.innerHTML = '';\n",
              "          dataTable['output_type'] = 'display_data';\n",
              "          await google.colab.output.renderOutput(dataTable, element);\n",
              "          const docLink = document.createElement('div');\n",
              "          docLink.innerHTML = docLinkHtml;\n",
              "          element.appendChild(docLink);\n",
              "        }\n",
              "      </script>\n",
              "    </div>\n",
              "  </div>\n",
              "  "
            ]
          },
          "metadata": {},
          "execution_count": 44
        }
      ]
    },
    {
      "cell_type": "code",
      "source": [
        "# calculating sum of monthly cost\n",
        "Output_ca['Total Monthly Cost'].sum()"
      ],
      "metadata": {
        "colab": {
          "base_uri": "https://localhost:8080/"
        },
        "id": "QiarxiYXymjm",
        "outputId": "7fa3fd71-4b94-436b-bd53-bb0692787207"
      },
      "execution_count": 45,
      "outputs": [
        {
          "output_type": "execute_result",
          "data": {
            "text/plain": [
              "17962273.219959967"
            ]
          },
          "metadata": {},
          "execution_count": 45
        }
      ]
    },
    {
      "cell_type": "code",
      "source": [
        "# calculating average of monthly cost\n",
        "Output_ca['Total Monthly Cost'].mean()"
      ],
      "metadata": {
        "colab": {
          "base_uri": "https://localhost:8080/"
        },
        "id": "E3HLBsP_ymmB",
        "outputId": "891d63b0-e70e-436a-85d6-8699cb12ac0c"
      },
      "execution_count": 46,
      "outputs": [
        {
          "output_type": "execute_result",
          "data": {
            "text/plain": [
              "498952.03388777684"
            ]
          },
          "metadata": {},
          "execution_count": 46
        }
      ]
    },
    {
      "cell_type": "code",
      "source": [
        "# calculating average of Outsourced staffs\n",
        "Output_ca['Number of Outsource'].mean()"
      ],
      "metadata": {
        "colab": {
          "base_uri": "https://localhost:8080/"
        },
        "id": "Hmwr8qhBympA",
        "outputId": "95494169-31f7-48e6-9e69-300fac084173"
      },
      "execution_count": 47,
      "outputs": [
        {
          "output_type": "execute_result",
          "data": {
            "text/plain": [
              "576.4972222222221"
            ]
          },
          "metadata": {},
          "execution_count": 47
        }
      ]
    },
    {
      "cell_type": "code",
      "source": [
        "# calculating sum of Outsourced staffs\n",
        "Output_ca['Number of Outsource'].sum()"
      ],
      "metadata": {
        "colab": {
          "base_uri": "https://localhost:8080/"
        },
        "id": "zaOxPY22ymr2",
        "outputId": "f374dae1-0c0b-4795-ef56-aed75cf42269"
      },
      "execution_count": 48,
      "outputs": [
        {
          "output_type": "execute_result",
          "data": {
            "text/plain": [
              "20753.899999999998"
            ]
          },
          "metadata": {},
          "execution_count": 48
        }
      ]
    },
    {
      "cell_type": "code",
      "source": [
        "# calculating average of internal staffs\n",
        "Output_ca['Number of Staffs'].mean()"
      ],
      "metadata": {
        "colab": {
          "base_uri": "https://localhost:8080/"
        },
        "id": "6HeFAogQymuZ",
        "outputId": "6660f4be-61b3-45dc-e39c-31bca6aab18f"
      },
      "execution_count": 49,
      "outputs": [
        {
          "output_type": "execute_result",
          "data": {
            "text/plain": [
              "85.70361967426253"
            ]
          },
          "metadata": {},
          "execution_count": 49
        }
      ]
    },
    {
      "cell_type": "code",
      "source": [
        "# calculating sum of Total staffs\n",
        "Output_ca['Number of Staffs'].sum()"
      ],
      "metadata": {
        "colab": {
          "base_uri": "https://localhost:8080/"
        },
        "id": "MGFuFc_Hymy-",
        "outputId": "2a3fea44-3bd8-4f64-af45-27cf99a48aca"
      },
      "execution_count": 50,
      "outputs": [
        {
          "output_type": "execute_result",
          "data": {
            "text/plain": [
              "3085.330308273451"
            ]
          },
          "metadata": {},
          "execution_count": 50
        }
      ]
    },
    {
      "cell_type": "code",
      "source": [
        "# calculating Average Monthly cost\n",
        "avg = Output_ca['Total Monthly Cost'].sum()/(Output_ca['Number of Outsource'].sum()+Output_ca['Number of Staffs'].sum())\n",
        "avg"
      ],
      "metadata": {
        "colab": {
          "base_uri": "https://localhost:8080/"
        },
        "id": "EoIAYXQqym1r",
        "outputId": "8ffb0b3f-aa71-401a-9775-4773372fa09f"
      },
      "execution_count": 51,
      "outputs": [
        {
          "output_type": "execute_result",
          "data": {
            "text/plain": [
              "753.4753843846261"
            ]
          },
          "metadata": {},
          "execution_count": 51
        }
      ]
    },
    {
      "cell_type": "code",
      "source": [
        "# calculating Total demand\n",
        "total_demand = Output_ca['Demand'].sum()\n",
        "total_demand"
      ],
      "metadata": {
        "colab": {
          "base_uri": "https://localhost:8080/"
        },
        "id": "wySDOVpGy-St",
        "outputId": "71653444-8ccf-48b6-ac9e-e67a26a91ab2"
      },
      "execution_count": 52,
      "outputs": [
        {
          "output_type": "execute_result",
          "data": {
            "text/plain": [
              "113294"
            ]
          },
          "metadata": {},
          "execution_count": 52
        }
      ]
    },
    {
      "cell_type": "code",
      "source": [
        "# calculating average cost per application cost\n",
        "cost_per_app = Output_ca['Total Monthly Cost'].sum()/total_demand\n",
        "cost_per_app"
      ],
      "metadata": {
        "colab": {
          "base_uri": "https://localhost:8080/"
        },
        "id": "yGHqc7wYzB9D",
        "outputId": "71448d54-d61f-4693-db5f-26646829889b"
      },
      "execution_count": 53,
      "outputs": [
        {
          "output_type": "execute_result",
          "data": {
            "text/plain": [
              "158.54567073243038"
            ]
          },
          "metadata": {},
          "execution_count": 53
        }
      ]
    },
    {
      "cell_type": "code",
      "source": [
        "# Writing the results in to an Excel sheet\n",
        "# Import library\n",
        "from openpyxl import load_workbook"
      ],
      "metadata": {
        "id": "oAFO37nCzJsI"
      },
      "execution_count": 70,
      "outputs": []
    },
    {
      "cell_type": "code",
      "execution_count": null,
      "metadata": {
        "id": "O-H_1YiEuJnz"
      },
      "outputs": [],
      "source": [
        "# Writing the results in to an Excel sheet\n",
        "book = pd.DataFrame(Output_ca)\n",
        "book.to_excel(\"Business_Staff_Outsourcing_Output_from_Python.xlsx\")  "
      ]
    },
    {
      "cell_type": "markdown",
      "metadata": {
        "id": "YKXC00xouJn0"
      },
      "source": [
        "# Question 3\n",
        "\n",
        "#### Worst-case and best-case analysis based on the staffs' availability.\n",
        "\n",
        "Assuming that the distribution is the same across all the states,\n",
        "\n",
        "#### 3.1 Worst case analysis \n",
        "\n",
        "- 3.1.1 What is the optimal number of staff members for the worst case? \n",
        "\n",
        "- 3.1.2 What is the percentage of outsourcing for the worst case? \n",
        "\n",
        "- 3.1.3 What is the average cost per application for the worst case?\n",
        "\n",
        "\n",
        "#### 3.2 Best case analysis \n",
        "\n",
        "- 3.2.1 What is the optimal number of staff members for the best case? \n",
        "\n",
        "- 3.2.2 What is the percentage of outsourcing for the best case? \n",
        "\n",
        "- 3.2.3 What is the average cost per application for the best case?\n"
      ]
    },
    {
      "cell_type": "markdown",
      "metadata": {
        "id": "mF1FcXyPuJn1"
      },
      "source": [
        "#### Expected output:\n",
        "\n",
        "For each of the subtasks (3.1 and 3.2) create a data frame containing the number of outsourced applications and the number of FTEs for each state-month combination. You can choose to have extra columns like staff availability, demand etc. in your dataframe apart from the ones mentioned earlier. Also, print the overall average percentage of outsourced applications and the overall average cost per application. "
      ]
    },
    {
      "cell_type": "markdown",
      "metadata": {
        "id": "0L5CYMVtuJn2"
      },
      "source": [
        "### 3.1 Worst Case Analysis "
      ]
    },
    {
      "cell_type": "markdown",
      "metadata": {
        "id": "N64pGskhuJn3"
      },
      "source": [
        "#### 3.1.1 Optimal number of staff members"
      ]
    },
    {
      "cell_type": "code",
      "execution_count": 54,
      "metadata": {
        "id": "DQNtZCUFuJn3"
      },
      "outputs": [],
      "source": [
        "# Creating a model instance\n",
        "model2_ca = ConcreteModel()"
      ]
    },
    {
      "cell_type": "code",
      "execution_count": null,
      "metadata": {
        "id": "9PbtRbLZuJn4"
      },
      "outputs": [],
      "source": [
        "# Define Pyomo sets and Parameters"
      ]
    },
    {
      "cell_type": "markdown",
      "source": [
        "number of staffs = i\n",
        "\n",
        "number of outsourced employees = j\n",
        "\n",
        "Demand = staff_availability40x+y\n",
        "\n",
        "FTE-Staff Sal = Staff\n",
        "\n",
        "Outsource cost = UnitOutSourceCost\n",
        "\n",
        "Staff availability = 40xStaffAvPer"
      ],
      "metadata": {
        "id": "d6UR8fS1z0G9"
      }
    },
    {
      "cell_type": "code",
      "execution_count": 55,
      "metadata": {
        "id": "0cyTDNMWuJn5"
      },
      "outputs": [],
      "source": [
        "# Decision variables\n",
        "model2_ca.i = Var(BLocation_ca, Month_ca, within=PositiveReals, initialize=70000)\n",
        "model2_ca.j = Var(BLocation_ca, Month_ca, within=PositiveReals, initialize=70000)"
      ]
    },
    {
      "cell_type": "code",
      "execution_count": 56,
      "metadata": {
        "id": "sELttJ1-uJn5"
      },
      "outputs": [],
      "source": [
        "# Constraint 1\n",
        "def demand3(model2_ca,s,m):\n",
        "    return (model2_ca.i[s,m]*40*Staff_LBca[s,m]+model2_ca.j[s,m])==Demand_ca[s,m]"
      ]
    },
    {
      "cell_type": "code",
      "source": [
        "model2_ca.availability = Constraint(BLocation_ca, Month_ca,rule=demand3)"
      ],
      "metadata": {
        "id": "ugv90RuY0KD9"
      },
      "execution_count": 57,
      "outputs": []
    },
    {
      "cell_type": "code",
      "source": [
        "#Constraint 2\n",
        "def outsource_constraint_avl(model,m):\n",
        "    return (model2_ca.j['A',m]<=0.3*Demand_ca['A',m])"
      ],
      "metadata": {
        "id": "2XkWEGTZ0Qqf"
      },
      "execution_count": 58,
      "outputs": []
    },
    {
      "cell_type": "code",
      "source": [
        "model2_ca.outsource_constraint_avl = Constraint(Month_ca,rule=outsource_constraint_avl)"
      ],
      "metadata": {
        "id": "lqWaW3R80Qtp"
      },
      "execution_count": 59,
      "outputs": []
    },
    {
      "cell_type": "code",
      "source": [
        "#Constraint 3\n",
        "def outsource_constraint_avl1(model2_ca,m):\n",
        "    return (model2_ca.j['B',m]<=0.4*Demand_ca['B',m])\n",
        "\n",
        "model2_ca.outsource_constraint_avl1 = Constraint(Month_ca,rule=outsource_constraint_avl1)    "
      ],
      "metadata": {
        "id": "AdCYJkFo0Qwz"
      },
      "execution_count": 60,
      "outputs": []
    },
    {
      "cell_type": "code",
      "execution_count": 61,
      "metadata": {
        "id": "k8vJ90QhuJn5"
      },
      "outputs": [],
      "source": [
        "# Objective function\n",
        "model2_ca.value = Objective(expr = (sum(FTE_MonthSal_ca[s,m]*model2_ca.i[s,m] for m in Month_ca for s in BLocation_ca)+sum(UnitOutSource_ca[s,m]*model2_ca.j[s,m] for m in Month_ca for s in BLocation_ca))\n",
        " , sense= minimize)"
      ]
    },
    {
      "cell_type": "code",
      "execution_count": 62,
      "metadata": {
        "id": "0taRNjdFuJn6"
      },
      "outputs": [],
      "source": [
        "# Invoking the solver\n",
        "ca_result2 = SolverFactory('glpk').solve(model2_ca)"
      ]
    },
    {
      "cell_type": "code",
      "source": [
        "ca_result2.write()"
      ],
      "metadata": {
        "colab": {
          "base_uri": "https://localhost:8080/"
        },
        "id": "qac3bRIz04Ms",
        "outputId": "b0a50a1e-91cb-4c7a-afec-551d33d21928"
      },
      "execution_count": 63,
      "outputs": [
        {
          "output_type": "stream",
          "name": "stdout",
          "text": [
            "# ==========================================================\n",
            "# = Solver Results                                         =\n",
            "# ==========================================================\n",
            "# ----------------------------------------------------------\n",
            "#   Problem Information\n",
            "# ----------------------------------------------------------\n",
            "Problem: \n",
            "- Name: unknown\n",
            "  Lower bound: 19599283.3977411\n",
            "  Upper bound: 19599283.3977411\n",
            "  Number of objectives: 1\n",
            "  Number of constraints: 61\n",
            "  Number of variables: 73\n",
            "  Number of nonzeros: 97\n",
            "  Sense: minimize\n",
            "# ----------------------------------------------------------\n",
            "#   Solver Information\n",
            "# ----------------------------------------------------------\n",
            "Solver: \n",
            "- Status: ok\n",
            "  Termination condition: optimal\n",
            "  Statistics: \n",
            "    Branch and bound: \n",
            "      Number of bounded subproblems: 0\n",
            "      Number of created subproblems: 0\n",
            "  Error rc: 0\n",
            "  Time: 0.024049758911132812\n",
            "# ----------------------------------------------------------\n",
            "#   Solution Information\n",
            "# ----------------------------------------------------------\n",
            "Solution: \n",
            "- number of solutions: 0\n",
            "  number of solutions displayed: 0\n"
          ]
        }
      ]
    },
    {
      "cell_type": "code",
      "execution_count": 64,
      "metadata": {
        "id": "Q-FN1a1ZuJn6",
        "colab": {
          "base_uri": "https://localhost:8080/"
        },
        "outputId": "25753055-ddd6-4f57-8258-464ffa112787"
      },
      "outputs": [
        {
          "output_type": "execute_result",
          "data": {
            "text/plain": [
              "19599283"
            ]
          },
          "metadata": {},
          "execution_count": 64
        }
      ],
      "source": [
        "# Print the value of the objective function\n",
        "int(model2_ca.value())"
      ]
    },
    {
      "cell_type": "markdown",
      "source": [
        "Obtained the total cost of application processing as 19.59 M$ after optimization for Worst case scenario."
      ],
      "metadata": {
        "id": "t-gdNxnDRnN8"
      }
    },
    {
      "cell_type": "markdown",
      "metadata": {
        "id": "DNMxpqkhuJn7"
      },
      "source": [
        "**`Checkpoint 2:`** The company has to spend around 19.6 m$ in total for the application approval process if the staffs are working with the minimum availability."
      ]
    },
    {
      "cell_type": "code",
      "execution_count": 65,
      "metadata": {
        "id": "3qz75l8kuJn8",
        "colab": {
          "base_uri": "https://localhost:8080/"
        },
        "outputId": "e605be37-8393-4ffe-d33b-f0d6c284f2ee"
      },
      "outputs": [
        {
          "output_type": "stream",
          "name": "stdout",
          "text": [
            "[['A', 'Jan', 187, 0.0, 5240, 0.81, 935714.29], ['A', 'Feb', 131, 1463.4, 4878, 0.76, 920065.85], ['A', 'Mar', 212, 0.0, 5942, 0.75, 1061071.43], ['A', 'Apr', 77, 0.0, 2297, 0.8, 382833.33], ['A', 'May', 71, 0.0, 1992, 0.78, 355714.29], ['A', 'Jun', 61, 682.5, 2275, 0.73, 429100.0], ['A', 'Jul', 156, 1600.2, 5334, 0.68, 1065911.0], ['A', 'Aug', 91, 1011.3, 3371, 0.76, 635822.46], ['A', 'Sep', 134, 0.0, 3759, 0.81, 671250.0], ['A', 'Oct', 95, 1058.7, 3529, 0.73, 665623.69], ['A', 'Nov', 125, 1285.2, 4284, 0.68, 856086.0], ['A', 'Dec', 151, 1554.9, 5183, 0.65, 1035736.17], ['B', 'Jan', 106, 1970.8, 4927, 0.81, 779521.79], ['B', 'Feb', 61, 1051.2, 2628, 0.76, 435641.54], ['B', 'Mar', 64, 1189.6, 2974, 0.75, 470529.29], ['B', 'Apr', 47, 935.2, 2338, 0.8, 354596.67], ['B', 'May', 86, 1608.0, 4020, 0.78, 636021.43], ['B', 'Jun', 73, 1258.8, 3147, 0.73, 521675.77], ['B', 'Jul', 107, 1708.4, 4271, 0.68, 745645.42], ['B', 'Aug', 60, 1048.0, 2620, 0.76, 434315.38], ['B', 'Sep', 97, 1806.8, 4517, 0.81, 714653.93], ['B', 'Oct', 96, 1662.0, 4155, 0.73, 688771.15], ['B', 'Nov', 78, 1254.8, 3137, 0.68, 547667.92], ['B', 'Dec', 106, 1690.8, 4227, 0.65, 737963.75], ['C', 'Jan', 42, 0.0, 1162, 0.81, 183291.67], ['C', 'Feb', 0, 1967.0, 1967, 0.76, 314720.0], ['C', 'Mar', 68, 0.0, 1898, 0.75, 299386.9], ['C', 'Apr', 75, 0.0, 2261, 0.8, 332869.44], ['C', 'May', 72, 0.0, 2030, 0.78, 320208.33], ['C', 'Jun', 0, 1642.0, 1642, 0.73, 262720.0], ['C', 'Jul', 0, 2489.0, 2489, 0.68, 398240.0], ['C', 'Aug', 0, 2496.0, 2496, 0.76, 399360.0], ['C', 'Sep', 33, 0.0, 922, 0.81, 145434.52], ['C', 'Oct', 0, 2421.0, 2421, 0.73, 387360.0], ['C', 'Nov', 0, 963.0, 963, 0.68, 154080.0], ['C', 'Dec', 0, 1998.0, 1998, 0.65, 319680.0]]\n"
          ]
        }
      ],
      "source": [
        "# Creating dataframe for the results\n",
        "Output3A_ca = []\n",
        "for s in BLocation_ca:\n",
        "    for m in Month_ca:\n",
        "           \n",
        "        staff3= round(model2_ca.i[s,m].value)\n",
        "        \n",
        "        outsource3=model2_ca.j[s,m].value\n",
        "        \n",
        "        demand= Demand_ca[s,m]\n",
        "        \n",
        "        staff_avl= StaffAvP_ca[s,m]\n",
        "        \n",
        "        Total_monthly_cost3= round(model2_ca.i[s,m].value*FTE_MonthSal_ca[s,m]+model2_ca.j[s,m].value*UnitOutSource_ca[s,m],2)\n",
        "        \n",
        "        Output3A_ca.append([s,m,staff3,outsource3,demand,staff_avl,Total_monthly_cost3])\n",
        "        \n",
        "print(Output3A_ca)"
      ]
    },
    {
      "cell_type": "code",
      "source": [
        "#Transforming to dataframe and renaming the columns\n",
        "Output3A_ca = pd.DataFrame(Output3A_ca,columns=['State', 'Month','Number of Staffs','Number of Outsource','Demand','Staff Availability','Total Monthly Cost'])"
      ],
      "metadata": {
        "id": "TgUE9rPz1RWG"
      },
      "execution_count": 66,
      "outputs": []
    },
    {
      "cell_type": "code",
      "source": [
        "#Dataframe output for the Worst scenario\n",
        "Output3A_ca"
      ],
      "metadata": {
        "colab": {
          "base_uri": "https://localhost:8080/",
          "height": 1000
        },
        "id": "cfCigm8p1RZE",
        "outputId": "bfd8e861-c1d1-4009-be82-4567602a35af"
      },
      "execution_count": 92,
      "outputs": [
        {
          "output_type": "execute_result",
          "data": {
            "text/plain": [
              "   State Month  Number of Staffs  Number of Outsource  Demand  \\\n",
              "0      A   Jan               187                  0.0    5240   \n",
              "1      A   Feb               131               1463.4    4878   \n",
              "2      A   Mar               212                  0.0    5942   \n",
              "3      A   Apr                77                  0.0    2297   \n",
              "4      A   May                71                  0.0    1992   \n",
              "5      A   Jun                61                682.5    2275   \n",
              "6      A   Jul               156               1600.2    5334   \n",
              "7      A   Aug                91               1011.3    3371   \n",
              "8      A   Sep               134                  0.0    3759   \n",
              "9      A   Oct                95               1058.7    3529   \n",
              "10     A   Nov               125               1285.2    4284   \n",
              "11     A   Dec               151               1554.9    5183   \n",
              "12     B   Jan               106               1970.8    4927   \n",
              "13     B   Feb                61               1051.2    2628   \n",
              "14     B   Mar                64               1189.6    2974   \n",
              "15     B   Apr                47                935.2    2338   \n",
              "16     B   May                86               1608.0    4020   \n",
              "17     B   Jun                73               1258.8    3147   \n",
              "18     B   Jul               107               1708.4    4271   \n",
              "19     B   Aug                60               1048.0    2620   \n",
              "20     B   Sep                97               1806.8    4517   \n",
              "21     B   Oct                96               1662.0    4155   \n",
              "22     B   Nov                78               1254.8    3137   \n",
              "23     B   Dec               106               1690.8    4227   \n",
              "24     C   Jan                42                  0.0    1162   \n",
              "25     C   Feb                 0               1967.0    1967   \n",
              "26     C   Mar                68                  0.0    1898   \n",
              "27     C   Apr                75                  0.0    2261   \n",
              "28     C   May                72                  0.0    2030   \n",
              "29     C   Jun                 0               1642.0    1642   \n",
              "30     C   Jul                 0               2489.0    2489   \n",
              "31     C   Aug                 0               2496.0    2496   \n",
              "32     C   Sep                33                  0.0     922   \n",
              "33     C   Oct                 0               2421.0    2421   \n",
              "34     C   Nov                 0                963.0     963   \n",
              "35     C   Dec                 0               1998.0    1998   \n",
              "\n",
              "    Staff Availability  Total Monthly Cost  \n",
              "0                 0.81           935714.29  \n",
              "1                 0.76           920065.85  \n",
              "2                 0.75          1061071.43  \n",
              "3                 0.80           382833.33  \n",
              "4                 0.78           355714.29  \n",
              "5                 0.73           429100.00  \n",
              "6                 0.68          1065911.00  \n",
              "7                 0.76           635822.46  \n",
              "8                 0.81           671250.00  \n",
              "9                 0.73           665623.69  \n",
              "10                0.68           856086.00  \n",
              "11                0.65          1035736.17  \n",
              "12                0.81           779521.79  \n",
              "13                0.76           435641.54  \n",
              "14                0.75           470529.29  \n",
              "15                0.80           354596.67  \n",
              "16                0.78           636021.43  \n",
              "17                0.73           521675.77  \n",
              "18                0.68           745645.42  \n",
              "19                0.76           434315.38  \n",
              "20                0.81           714653.93  \n",
              "21                0.73           688771.15  \n",
              "22                0.68           547667.92  \n",
              "23                0.65           737963.75  \n",
              "24                0.81           183291.67  \n",
              "25                0.76           314720.00  \n",
              "26                0.75           299386.90  \n",
              "27                0.80           332869.44  \n",
              "28                0.78           320208.33  \n",
              "29                0.73           262720.00  \n",
              "30                0.68           398240.00  \n",
              "31                0.76           399360.00  \n",
              "32                0.81           145434.52  \n",
              "33                0.73           387360.00  \n",
              "34                0.68           154080.00  \n",
              "35                0.65           319680.00  "
            ],
            "text/html": [
              "\n",
              "  <div id=\"df-08d2f85c-6c52-4188-90a0-6de4a3e7dde2\">\n",
              "    <div class=\"colab-df-container\">\n",
              "      <div>\n",
              "<style scoped>\n",
              "    .dataframe tbody tr th:only-of-type {\n",
              "        vertical-align: middle;\n",
              "    }\n",
              "\n",
              "    .dataframe tbody tr th {\n",
              "        vertical-align: top;\n",
              "    }\n",
              "\n",
              "    .dataframe thead th {\n",
              "        text-align: right;\n",
              "    }\n",
              "</style>\n",
              "<table border=\"1\" class=\"dataframe\">\n",
              "  <thead>\n",
              "    <tr style=\"text-align: right;\">\n",
              "      <th></th>\n",
              "      <th>State</th>\n",
              "      <th>Month</th>\n",
              "      <th>Number of Staffs</th>\n",
              "      <th>Number of Outsource</th>\n",
              "      <th>Demand</th>\n",
              "      <th>Staff Availability</th>\n",
              "      <th>Total Monthly Cost</th>\n",
              "    </tr>\n",
              "  </thead>\n",
              "  <tbody>\n",
              "    <tr>\n",
              "      <th>0</th>\n",
              "      <td>A</td>\n",
              "      <td>Jan</td>\n",
              "      <td>187</td>\n",
              "      <td>0.0</td>\n",
              "      <td>5240</td>\n",
              "      <td>0.81</td>\n",
              "      <td>935714.29</td>\n",
              "    </tr>\n",
              "    <tr>\n",
              "      <th>1</th>\n",
              "      <td>A</td>\n",
              "      <td>Feb</td>\n",
              "      <td>131</td>\n",
              "      <td>1463.4</td>\n",
              "      <td>4878</td>\n",
              "      <td>0.76</td>\n",
              "      <td>920065.85</td>\n",
              "    </tr>\n",
              "    <tr>\n",
              "      <th>2</th>\n",
              "      <td>A</td>\n",
              "      <td>Mar</td>\n",
              "      <td>212</td>\n",
              "      <td>0.0</td>\n",
              "      <td>5942</td>\n",
              "      <td>0.75</td>\n",
              "      <td>1061071.43</td>\n",
              "    </tr>\n",
              "    <tr>\n",
              "      <th>3</th>\n",
              "      <td>A</td>\n",
              "      <td>Apr</td>\n",
              "      <td>77</td>\n",
              "      <td>0.0</td>\n",
              "      <td>2297</td>\n",
              "      <td>0.80</td>\n",
              "      <td>382833.33</td>\n",
              "    </tr>\n",
              "    <tr>\n",
              "      <th>4</th>\n",
              "      <td>A</td>\n",
              "      <td>May</td>\n",
              "      <td>71</td>\n",
              "      <td>0.0</td>\n",
              "      <td>1992</td>\n",
              "      <td>0.78</td>\n",
              "      <td>355714.29</td>\n",
              "    </tr>\n",
              "    <tr>\n",
              "      <th>5</th>\n",
              "      <td>A</td>\n",
              "      <td>Jun</td>\n",
              "      <td>61</td>\n",
              "      <td>682.5</td>\n",
              "      <td>2275</td>\n",
              "      <td>0.73</td>\n",
              "      <td>429100.00</td>\n",
              "    </tr>\n",
              "    <tr>\n",
              "      <th>6</th>\n",
              "      <td>A</td>\n",
              "      <td>Jul</td>\n",
              "      <td>156</td>\n",
              "      <td>1600.2</td>\n",
              "      <td>5334</td>\n",
              "      <td>0.68</td>\n",
              "      <td>1065911.00</td>\n",
              "    </tr>\n",
              "    <tr>\n",
              "      <th>7</th>\n",
              "      <td>A</td>\n",
              "      <td>Aug</td>\n",
              "      <td>91</td>\n",
              "      <td>1011.3</td>\n",
              "      <td>3371</td>\n",
              "      <td>0.76</td>\n",
              "      <td>635822.46</td>\n",
              "    </tr>\n",
              "    <tr>\n",
              "      <th>8</th>\n",
              "      <td>A</td>\n",
              "      <td>Sep</td>\n",
              "      <td>134</td>\n",
              "      <td>0.0</td>\n",
              "      <td>3759</td>\n",
              "      <td>0.81</td>\n",
              "      <td>671250.00</td>\n",
              "    </tr>\n",
              "    <tr>\n",
              "      <th>9</th>\n",
              "      <td>A</td>\n",
              "      <td>Oct</td>\n",
              "      <td>95</td>\n",
              "      <td>1058.7</td>\n",
              "      <td>3529</td>\n",
              "      <td>0.73</td>\n",
              "      <td>665623.69</td>\n",
              "    </tr>\n",
              "    <tr>\n",
              "      <th>10</th>\n",
              "      <td>A</td>\n",
              "      <td>Nov</td>\n",
              "      <td>125</td>\n",
              "      <td>1285.2</td>\n",
              "      <td>4284</td>\n",
              "      <td>0.68</td>\n",
              "      <td>856086.00</td>\n",
              "    </tr>\n",
              "    <tr>\n",
              "      <th>11</th>\n",
              "      <td>A</td>\n",
              "      <td>Dec</td>\n",
              "      <td>151</td>\n",
              "      <td>1554.9</td>\n",
              "      <td>5183</td>\n",
              "      <td>0.65</td>\n",
              "      <td>1035736.17</td>\n",
              "    </tr>\n",
              "    <tr>\n",
              "      <th>12</th>\n",
              "      <td>B</td>\n",
              "      <td>Jan</td>\n",
              "      <td>106</td>\n",
              "      <td>1970.8</td>\n",
              "      <td>4927</td>\n",
              "      <td>0.81</td>\n",
              "      <td>779521.79</td>\n",
              "    </tr>\n",
              "    <tr>\n",
              "      <th>13</th>\n",
              "      <td>B</td>\n",
              "      <td>Feb</td>\n",
              "      <td>61</td>\n",
              "      <td>1051.2</td>\n",
              "      <td>2628</td>\n",
              "      <td>0.76</td>\n",
              "      <td>435641.54</td>\n",
              "    </tr>\n",
              "    <tr>\n",
              "      <th>14</th>\n",
              "      <td>B</td>\n",
              "      <td>Mar</td>\n",
              "      <td>64</td>\n",
              "      <td>1189.6</td>\n",
              "      <td>2974</td>\n",
              "      <td>0.75</td>\n",
              "      <td>470529.29</td>\n",
              "    </tr>\n",
              "    <tr>\n",
              "      <th>15</th>\n",
              "      <td>B</td>\n",
              "      <td>Apr</td>\n",
              "      <td>47</td>\n",
              "      <td>935.2</td>\n",
              "      <td>2338</td>\n",
              "      <td>0.80</td>\n",
              "      <td>354596.67</td>\n",
              "    </tr>\n",
              "    <tr>\n",
              "      <th>16</th>\n",
              "      <td>B</td>\n",
              "      <td>May</td>\n",
              "      <td>86</td>\n",
              "      <td>1608.0</td>\n",
              "      <td>4020</td>\n",
              "      <td>0.78</td>\n",
              "      <td>636021.43</td>\n",
              "    </tr>\n",
              "    <tr>\n",
              "      <th>17</th>\n",
              "      <td>B</td>\n",
              "      <td>Jun</td>\n",
              "      <td>73</td>\n",
              "      <td>1258.8</td>\n",
              "      <td>3147</td>\n",
              "      <td>0.73</td>\n",
              "      <td>521675.77</td>\n",
              "    </tr>\n",
              "    <tr>\n",
              "      <th>18</th>\n",
              "      <td>B</td>\n",
              "      <td>Jul</td>\n",
              "      <td>107</td>\n",
              "      <td>1708.4</td>\n",
              "      <td>4271</td>\n",
              "      <td>0.68</td>\n",
              "      <td>745645.42</td>\n",
              "    </tr>\n",
              "    <tr>\n",
              "      <th>19</th>\n",
              "      <td>B</td>\n",
              "      <td>Aug</td>\n",
              "      <td>60</td>\n",
              "      <td>1048.0</td>\n",
              "      <td>2620</td>\n",
              "      <td>0.76</td>\n",
              "      <td>434315.38</td>\n",
              "    </tr>\n",
              "    <tr>\n",
              "      <th>20</th>\n",
              "      <td>B</td>\n",
              "      <td>Sep</td>\n",
              "      <td>97</td>\n",
              "      <td>1806.8</td>\n",
              "      <td>4517</td>\n",
              "      <td>0.81</td>\n",
              "      <td>714653.93</td>\n",
              "    </tr>\n",
              "    <tr>\n",
              "      <th>21</th>\n",
              "      <td>B</td>\n",
              "      <td>Oct</td>\n",
              "      <td>96</td>\n",
              "      <td>1662.0</td>\n",
              "      <td>4155</td>\n",
              "      <td>0.73</td>\n",
              "      <td>688771.15</td>\n",
              "    </tr>\n",
              "    <tr>\n",
              "      <th>22</th>\n",
              "      <td>B</td>\n",
              "      <td>Nov</td>\n",
              "      <td>78</td>\n",
              "      <td>1254.8</td>\n",
              "      <td>3137</td>\n",
              "      <td>0.68</td>\n",
              "      <td>547667.92</td>\n",
              "    </tr>\n",
              "    <tr>\n",
              "      <th>23</th>\n",
              "      <td>B</td>\n",
              "      <td>Dec</td>\n",
              "      <td>106</td>\n",
              "      <td>1690.8</td>\n",
              "      <td>4227</td>\n",
              "      <td>0.65</td>\n",
              "      <td>737963.75</td>\n",
              "    </tr>\n",
              "    <tr>\n",
              "      <th>24</th>\n",
              "      <td>C</td>\n",
              "      <td>Jan</td>\n",
              "      <td>42</td>\n",
              "      <td>0.0</td>\n",
              "      <td>1162</td>\n",
              "      <td>0.81</td>\n",
              "      <td>183291.67</td>\n",
              "    </tr>\n",
              "    <tr>\n",
              "      <th>25</th>\n",
              "      <td>C</td>\n",
              "      <td>Feb</td>\n",
              "      <td>0</td>\n",
              "      <td>1967.0</td>\n",
              "      <td>1967</td>\n",
              "      <td>0.76</td>\n",
              "      <td>314720.00</td>\n",
              "    </tr>\n",
              "    <tr>\n",
              "      <th>26</th>\n",
              "      <td>C</td>\n",
              "      <td>Mar</td>\n",
              "      <td>68</td>\n",
              "      <td>0.0</td>\n",
              "      <td>1898</td>\n",
              "      <td>0.75</td>\n",
              "      <td>299386.90</td>\n",
              "    </tr>\n",
              "    <tr>\n",
              "      <th>27</th>\n",
              "      <td>C</td>\n",
              "      <td>Apr</td>\n",
              "      <td>75</td>\n",
              "      <td>0.0</td>\n",
              "      <td>2261</td>\n",
              "      <td>0.80</td>\n",
              "      <td>332869.44</td>\n",
              "    </tr>\n",
              "    <tr>\n",
              "      <th>28</th>\n",
              "      <td>C</td>\n",
              "      <td>May</td>\n",
              "      <td>72</td>\n",
              "      <td>0.0</td>\n",
              "      <td>2030</td>\n",
              "      <td>0.78</td>\n",
              "      <td>320208.33</td>\n",
              "    </tr>\n",
              "    <tr>\n",
              "      <th>29</th>\n",
              "      <td>C</td>\n",
              "      <td>Jun</td>\n",
              "      <td>0</td>\n",
              "      <td>1642.0</td>\n",
              "      <td>1642</td>\n",
              "      <td>0.73</td>\n",
              "      <td>262720.00</td>\n",
              "    </tr>\n",
              "    <tr>\n",
              "      <th>30</th>\n",
              "      <td>C</td>\n",
              "      <td>Jul</td>\n",
              "      <td>0</td>\n",
              "      <td>2489.0</td>\n",
              "      <td>2489</td>\n",
              "      <td>0.68</td>\n",
              "      <td>398240.00</td>\n",
              "    </tr>\n",
              "    <tr>\n",
              "      <th>31</th>\n",
              "      <td>C</td>\n",
              "      <td>Aug</td>\n",
              "      <td>0</td>\n",
              "      <td>2496.0</td>\n",
              "      <td>2496</td>\n",
              "      <td>0.76</td>\n",
              "      <td>399360.00</td>\n",
              "    </tr>\n",
              "    <tr>\n",
              "      <th>32</th>\n",
              "      <td>C</td>\n",
              "      <td>Sep</td>\n",
              "      <td>33</td>\n",
              "      <td>0.0</td>\n",
              "      <td>922</td>\n",
              "      <td>0.81</td>\n",
              "      <td>145434.52</td>\n",
              "    </tr>\n",
              "    <tr>\n",
              "      <th>33</th>\n",
              "      <td>C</td>\n",
              "      <td>Oct</td>\n",
              "      <td>0</td>\n",
              "      <td>2421.0</td>\n",
              "      <td>2421</td>\n",
              "      <td>0.73</td>\n",
              "      <td>387360.00</td>\n",
              "    </tr>\n",
              "    <tr>\n",
              "      <th>34</th>\n",
              "      <td>C</td>\n",
              "      <td>Nov</td>\n",
              "      <td>0</td>\n",
              "      <td>963.0</td>\n",
              "      <td>963</td>\n",
              "      <td>0.68</td>\n",
              "      <td>154080.00</td>\n",
              "    </tr>\n",
              "    <tr>\n",
              "      <th>35</th>\n",
              "      <td>C</td>\n",
              "      <td>Dec</td>\n",
              "      <td>0</td>\n",
              "      <td>1998.0</td>\n",
              "      <td>1998</td>\n",
              "      <td>0.65</td>\n",
              "      <td>319680.00</td>\n",
              "    </tr>\n",
              "  </tbody>\n",
              "</table>\n",
              "</div>\n",
              "      <button class=\"colab-df-convert\" onclick=\"convertToInteractive('df-08d2f85c-6c52-4188-90a0-6de4a3e7dde2')\"\n",
              "              title=\"Convert this dataframe to an interactive table.\"\n",
              "              style=\"display:none;\">\n",
              "        \n",
              "  <svg xmlns=\"http://www.w3.org/2000/svg\" height=\"24px\"viewBox=\"0 0 24 24\"\n",
              "       width=\"24px\">\n",
              "    <path d=\"M0 0h24v24H0V0z\" fill=\"none\"/>\n",
              "    <path d=\"M18.56 5.44l.94 2.06.94-2.06 2.06-.94-2.06-.94-.94-2.06-.94 2.06-2.06.94zm-11 1L8.5 8.5l.94-2.06 2.06-.94-2.06-.94L8.5 2.5l-.94 2.06-2.06.94zm10 10l.94 2.06.94-2.06 2.06-.94-2.06-.94-.94-2.06-.94 2.06-2.06.94z\"/><path d=\"M17.41 7.96l-1.37-1.37c-.4-.4-.92-.59-1.43-.59-.52 0-1.04.2-1.43.59L10.3 9.45l-7.72 7.72c-.78.78-.78 2.05 0 2.83L4 21.41c.39.39.9.59 1.41.59.51 0 1.02-.2 1.41-.59l7.78-7.78 2.81-2.81c.8-.78.8-2.07 0-2.86zM5.41 20L4 18.59l7.72-7.72 1.47 1.35L5.41 20z\"/>\n",
              "  </svg>\n",
              "      </button>\n",
              "      \n",
              "  <style>\n",
              "    .colab-df-container {\n",
              "      display:flex;\n",
              "      flex-wrap:wrap;\n",
              "      gap: 12px;\n",
              "    }\n",
              "\n",
              "    .colab-df-convert {\n",
              "      background-color: #E8F0FE;\n",
              "      border: none;\n",
              "      border-radius: 50%;\n",
              "      cursor: pointer;\n",
              "      display: none;\n",
              "      fill: #1967D2;\n",
              "      height: 32px;\n",
              "      padding: 0 0 0 0;\n",
              "      width: 32px;\n",
              "    }\n",
              "\n",
              "    .colab-df-convert:hover {\n",
              "      background-color: #E2EBFA;\n",
              "      box-shadow: 0px 1px 2px rgba(60, 64, 67, 0.3), 0px 1px 3px 1px rgba(60, 64, 67, 0.15);\n",
              "      fill: #174EA6;\n",
              "    }\n",
              "\n",
              "    [theme=dark] .colab-df-convert {\n",
              "      background-color: #3B4455;\n",
              "      fill: #D2E3FC;\n",
              "    }\n",
              "\n",
              "    [theme=dark] .colab-df-convert:hover {\n",
              "      background-color: #434B5C;\n",
              "      box-shadow: 0px 1px 3px 1px rgba(0, 0, 0, 0.15);\n",
              "      filter: drop-shadow(0px 1px 2px rgba(0, 0, 0, 0.3));\n",
              "      fill: #FFFFFF;\n",
              "    }\n",
              "  </style>\n",
              "\n",
              "      <script>\n",
              "        const buttonEl =\n",
              "          document.querySelector('#df-08d2f85c-6c52-4188-90a0-6de4a3e7dde2 button.colab-df-convert');\n",
              "        buttonEl.style.display =\n",
              "          google.colab.kernel.accessAllowed ? 'block' : 'none';\n",
              "\n",
              "        async function convertToInteractive(key) {\n",
              "          const element = document.querySelector('#df-08d2f85c-6c52-4188-90a0-6de4a3e7dde2');\n",
              "          const dataTable =\n",
              "            await google.colab.kernel.invokeFunction('convertToInteractive',\n",
              "                                                     [key], {});\n",
              "          if (!dataTable) return;\n",
              "\n",
              "          const docLinkHtml = 'Like what you see? Visit the ' +\n",
              "            '<a target=\"_blank\" href=https://colab.research.google.com/notebooks/data_table.ipynb>data table notebook</a>'\n",
              "            + ' to learn more about interactive tables.';\n",
              "          element.innerHTML = '';\n",
              "          dataTable['output_type'] = 'display_data';\n",
              "          await google.colab.output.renderOutput(dataTable, element);\n",
              "          const docLink = document.createElement('div');\n",
              "          docLink.innerHTML = docLinkHtml;\n",
              "          element.appendChild(docLink);\n",
              "        }\n",
              "      </script>\n",
              "    </div>\n",
              "  </div>\n",
              "  "
            ]
          },
          "metadata": {},
          "execution_count": 92
        }
      ]
    },
    {
      "cell_type": "code",
      "source": [
        "# Writing the results in to an Excel sheet\n",
        "book = pd.DataFrame(Output3A_ca)\n",
        "book.to_excel(\"Business_Staff_Outsourcing_Output_Worst_from_Python.xlsx\")  \n"
      ],
      "metadata": {
        "id": "OM6MoYlCSkMk"
      },
      "execution_count": 71,
      "outputs": []
    },
    {
      "cell_type": "code",
      "source": [
        "# Finding the number of Outsource applications\n",
        "t_sum_ca = Output3A_ca['Number of Outsource'].sum()\n",
        "t_sum_ca"
      ],
      "metadata": {
        "colab": {
          "base_uri": "https://localhost:8080/"
        },
        "id": "cMklUIE31Rb_",
        "outputId": "cb3cfa57-c94a-403c-9eb3-34b4b8d7dfd7"
      },
      "execution_count": 68,
      "outputs": [
        {
          "output_type": "execute_result",
          "data": {
            "text/plain": [
              "39816.600000000006"
            ]
          },
          "metadata": {},
          "execution_count": 68
        }
      ]
    },
    {
      "cell_type": "code",
      "source": [
        "# Calculating sum of total demand\n",
        "t_demand_ca = Output3A_ca['Demand'].sum()\n",
        "t_demand_ca"
      ],
      "metadata": {
        "colab": {
          "base_uri": "https://localhost:8080/"
        },
        "id": "SlCpCR0b1Y3h",
        "outputId": "bf66a721-ae51-4d99-9bb0-134bb70e1afe"
      },
      "execution_count": 69,
      "outputs": [
        {
          "output_type": "execute_result",
          "data": {
            "text/plain": [
              "113294"
            ]
          },
          "metadata": {},
          "execution_count": 69
        }
      ]
    },
    {
      "cell_type": "code",
      "source": [
        "# Total number of staff for the year for Worst Scenario\n",
        "Output3A_ca['Number of Staffs'].sum()"
      ],
      "metadata": {
        "colab": {
          "base_uri": "https://localhost:8080/"
        },
        "id": "vuz0FMDP1Y6U",
        "outputId": "0ca102d8-c4e0-4f50-c7ca-d9c150f2877c"
      },
      "execution_count": 72,
      "outputs": [
        {
          "output_type": "execute_result",
          "data": {
            "text/plain": [
              "2762"
            ]
          },
          "metadata": {},
          "execution_count": 72
        }
      ]
    },
    {
      "cell_type": "markdown",
      "source": [
        "Optimum number of staff for each month and region can be seen in the dataframe Output3A. The Total optimum staff for Worst Scenario in year 2021 in 2762."
      ],
      "metadata": {
        "id": "jZXUgbVgThFt"
      }
    },
    {
      "cell_type": "markdown",
      "metadata": {
        "id": "qaBySpo3uJn9"
      },
      "source": [
        "#### 3.1.2 Percentage of outsourced applications "
      ]
    },
    {
      "cell_type": "code",
      "execution_count": 73,
      "metadata": {
        "id": "A_ed0jyzuJn_",
        "colab": {
          "base_uri": "https://localhost:8080/"
        },
        "outputId": "8fd8c736-5969-4429-a6a9-b1abd939cfcb"
      },
      "outputs": [
        {
          "output_type": "execute_result",
          "data": {
            "text/plain": [
              "35.14449132345933"
            ]
          },
          "metadata": {},
          "execution_count": 73
        }
      ],
      "source": [
        "# write your code here\n",
        "out_percentage = t_sum_ca/t_demand_ca * 100\n",
        "out_percentage"
      ]
    },
    {
      "cell_type": "markdown",
      "source": [
        "Percentage of outsource application for Worst Scenario - 35%"
      ],
      "metadata": {
        "id": "aJqgs_nuTxeF"
      }
    },
    {
      "cell_type": "markdown",
      "metadata": {
        "id": "tuTTIfycuJoA"
      },
      "source": [
        "#### 3.1.3 Average cost per application"
      ]
    },
    {
      "cell_type": "code",
      "execution_count": 74,
      "metadata": {
        "id": "TmJcGUstuJoB",
        "colab": {
          "base_uri": "https://localhost:8080/"
        },
        "outputId": "715d63d0-e5ce-46fb-81e8-8aa338948640"
      },
      "outputs": [
        {
          "output_type": "execute_result",
          "data": {
            "text/plain": [
              "544425.0"
            ]
          },
          "metadata": {},
          "execution_count": 74
        }
      ],
      "source": [
        "# write your code here\n",
        "avg_cost_ca = round(Output3A_ca['Total Monthly Cost'].mean(),0)\n",
        "avg_cost_ca"
      ]
    },
    {
      "cell_type": "code",
      "source": [
        "#  calculating average of demand\n",
        "avg_demand_ca = Output3A_ca['Demand'].mean()\n",
        "avg_demand_ca"
      ],
      "metadata": {
        "colab": {
          "base_uri": "https://localhost:8080/"
        },
        "id": "LgliRINY1jXZ",
        "outputId": "c2636370-b221-490f-f501-007053a2c8a2"
      },
      "execution_count": 75,
      "outputs": [
        {
          "output_type": "execute_result",
          "data": {
            "text/plain": [
              "3147.0555555555557"
            ]
          },
          "metadata": {},
          "execution_count": 75
        }
      ]
    },
    {
      "cell_type": "code",
      "source": [
        "# calculating average cost per application\n",
        "avg_cost_per_app1_ca = avg_cost_ca/avg_demand_ca\n",
        "avg_cost_per_app1_ca"
      ],
      "metadata": {
        "colab": {
          "base_uri": "https://localhost:8080/"
        },
        "id": "acrL4-mD1neT",
        "outputId": "b6132ebe-327c-4243-fb24-1b5443aaec87"
      },
      "execution_count": 76,
      "outputs": [
        {
          "output_type": "execute_result",
          "data": {
            "text/plain": [
              "172.9950394548696"
            ]
          },
          "metadata": {},
          "execution_count": 76
        }
      ]
    },
    {
      "cell_type": "markdown",
      "source": [
        "Average cost per application for Worst Scenarion - 172$"
      ],
      "metadata": {
        "id": "at_WTQMmT30i"
      }
    },
    {
      "cell_type": "markdown",
      "metadata": {
        "id": "Io3pFmcluJoB"
      },
      "source": [
        "### 3.2  Best Case Analysis "
      ]
    },
    {
      "cell_type": "markdown",
      "metadata": {
        "id": "DAB_Vo6FuJoC"
      },
      "source": [
        "#### 3.2.1 Optimal number of staff members\n"
      ]
    },
    {
      "cell_type": "code",
      "execution_count": 78,
      "metadata": {
        "id": "aehy3bdUuJoC"
      },
      "outputs": [],
      "source": [
        "# Creating a model instance\n",
        "mod4_ca = ConcreteModel()"
      ]
    },
    {
      "cell_type": "code",
      "execution_count": 79,
      "metadata": {
        "id": "vloAykBmuJoD"
      },
      "outputs": [],
      "source": [
        "# Define Pyomo sets and Parameters\n"
      ]
    },
    {
      "cell_type": "markdown",
      "source": [
        "number of staffs = i\n",
        " number of outsourced employees = j\n",
        " Demand = staff_availability*40*x+y\n",
        " FTE-Staff Sal = Staff\n",
        " Outsource cost = UnitOutSourceCost\n",
        " Staff availability = 40xStaffAvPer"
      ],
      "metadata": {
        "id": "3Xc-hm5U125f"
      }
    },
    {
      "cell_type": "code",
      "execution_count": 80,
      "metadata": {
        "id": "o84G03s0uJoE"
      },
      "outputs": [],
      "source": [
        "# Decision variables\n",
        "mod4_ca.k = Var(BLocation_ca, Month_ca, within=PositiveReals, initialize=70000)\n",
        "mod4_ca.l = Var(BLocation_ca, Month_ca, within=PositiveReals, initialize=70000)"
      ]
    },
    {
      "cell_type": "code",
      "execution_count": 81,
      "metadata": {
        "id": "-_QdFWsjuJoE"
      },
      "outputs": [],
      "source": [
        "# Constraint 1\n",
        "def demand4(mod4_ca,s,m):\n",
        "    return (mod4_ca.k[s,m]*40*Staff_UBca[s,m]+mod4_ca.l[s,m])==Demand_ca[s,m]"
      ]
    },
    {
      "cell_type": "code",
      "source": [
        "mod4_ca.availability = Constraint(BLocation_ca,Month_ca,rule=demand4)"
      ],
      "metadata": {
        "id": "N7Tji1fV2DkY"
      },
      "execution_count": 82,
      "outputs": []
    },
    {
      "cell_type": "code",
      "source": [
        "#Constraint 2:\n",
        "def outsource4_constraint_avl(model,m):\n",
        "    return (mod4_ca.l['A',m]<=0.3*Demand_ca['A',m])\n",
        "\n",
        "mod4_ca.outsource4_constraint_avl = Constraint(Month_ca,rule=outsource4_constraint_avl)    "
      ],
      "metadata": {
        "id": "8Vu0SuwY2HNw"
      },
      "execution_count": 83,
      "outputs": []
    },
    {
      "cell_type": "code",
      "source": [
        "#Constraint 3:\n",
        "def outsource4_constraint_avl1(mod4_ca,m):\n",
        "    return (mod4_ca.j['B',m]<=0.4*Demand_ca['B',m])\n",
        "\n",
        "mod4_ca.outsource4_constraint_avl1 = Constraint(Month_ca,rule=outsource4_constraint_avl)    "
      ],
      "metadata": {
        "id": "RnlNYiOK2HK0"
      },
      "execution_count": 84,
      "outputs": []
    },
    {
      "cell_type": "code",
      "execution_count": 85,
      "metadata": {
        "id": "jJFhGM5VuJoF"
      },
      "outputs": [],
      "source": [
        "# Objective function\n",
        "mod4_ca.value = Objective(expr = (sum(FTE_MonthSal_ca[s,m]*mod4_ca.k[s,m] for m in Month_ca for s in BLocation_ca)+sum(UnitOutSource_ca[s,m]*mod4_ca.l[s,m] for m in Month_ca for s in BLocation_ca))\n",
        " , sense= minimize)"
      ]
    },
    {
      "cell_type": "code",
      "execution_count": 86,
      "metadata": {
        "id": "e2DytlCguJoF"
      },
      "outputs": [],
      "source": [
        "# Invoking the solver\n",
        "ca_result3 = SolverFactory('glpk').solve(mod4_ca)"
      ]
    },
    {
      "cell_type": "code",
      "source": [
        "ca_result3.write()"
      ],
      "metadata": {
        "colab": {
          "base_uri": "https://localhost:8080/"
        },
        "id": "OCmh547d2Y19",
        "outputId": "bdb5f4a6-64d8-4d4b-df40-c1046f0a2eb3"
      },
      "execution_count": 87,
      "outputs": [
        {
          "output_type": "stream",
          "name": "stdout",
          "text": [
            "# ==========================================================\n",
            "# = Solver Results                                         =\n",
            "# ==========================================================\n",
            "# ----------------------------------------------------------\n",
            "#   Problem Information\n",
            "# ----------------------------------------------------------\n",
            "Problem: \n",
            "- Name: unknown\n",
            "  Lower bound: 16480452.8998405\n",
            "  Upper bound: 16480452.8998405\n",
            "  Number of objectives: 1\n",
            "  Number of constraints: 61\n",
            "  Number of variables: 73\n",
            "  Number of nonzeros: 97\n",
            "  Sense: minimize\n",
            "# ----------------------------------------------------------\n",
            "#   Solver Information\n",
            "# ----------------------------------------------------------\n",
            "Solver: \n",
            "- Status: ok\n",
            "  Termination condition: optimal\n",
            "  Statistics: \n",
            "    Branch and bound: \n",
            "      Number of bounded subproblems: 0\n",
            "      Number of created subproblems: 0\n",
            "  Error rc: 0\n",
            "  Time: 0.037454843521118164\n",
            "# ----------------------------------------------------------\n",
            "#   Solution Information\n",
            "# ----------------------------------------------------------\n",
            "Solution: \n",
            "- number of solutions: 0\n",
            "  number of solutions displayed: 0\n"
          ]
        }
      ]
    },
    {
      "cell_type": "code",
      "execution_count": 88,
      "metadata": {
        "id": "Cl2HNVehuJoH",
        "colab": {
          "base_uri": "https://localhost:8080/"
        },
        "outputId": "bcc0ec5d-36c7-4b60-9d89-bf73b68aca4a"
      },
      "outputs": [
        {
          "output_type": "execute_result",
          "data": {
            "text/plain": [
              "16480452"
            ]
          },
          "metadata": {},
          "execution_count": 88
        }
      ],
      "source": [
        "# Print the value of the objective function\n",
        "int(mod4_ca.value())"
      ]
    },
    {
      "cell_type": "markdown",
      "source": [
        "Obtained the total cost of application processing as 16.48 M$ after optimization for Best case scenario."
      ],
      "metadata": {
        "id": "trcvEpp5SCig"
      }
    },
    {
      "cell_type": "markdown",
      "metadata": {
        "id": "cNcuI6U4uJoH"
      },
      "source": [
        "**`Checkpoint 3:`** The company has to spend around 16.5 m$ in total for the application approval process if the staffs are working with the maximum availability."
      ]
    },
    {
      "cell_type": "code",
      "execution_count": 89,
      "metadata": {
        "id": "hKBM3hJhuJoI",
        "colab": {
          "base_uri": "https://localhost:8080/"
        },
        "outputId": "8863fd3b-0adb-4618-84f6-0f90f0537fe1"
      },
      "outputs": [
        {
          "output_type": "stream",
          "name": "stdout",
          "text": [
            "[['A', 'Jan', 146, 0.0, 5240, 0.81, 727777.78], ['A', 'Feb', 143, 0.0, 4878, 0.76, 717352.94], ['A', 'Mar', 186, 0.0, 5942, 0.75, 928437.5], ['A', 'Apr', 68, 0.0, 2297, 0.8, 337794.12], ['A', 'May', 59, 0.0, 1992, 0.78, 292941.18], ['A', 'Jun', 71, 0.0, 2275, 0.73, 355468.75], ['A', 'Jul', 178, 0.0, 5334, 0.68, 889000.0], ['A', 'Aug', 99, 0.0, 3371, 0.76, 495735.29], ['A', 'Sep', 104, 0.0, 3759, 0.81, 522083.33], ['A', 'Oct', 110, 0.0, 3529, 0.73, 551406.25], ['A', 'Nov', 143, 0.0, 4284, 0.68, 714000.0], ['A', 'Dec', 185, 0.0, 5183, 0.65, 925535.71], ['B', 'Jan', 137, 0.0, 4927, 0.81, 627280.09], ['B', 'Feb', 77, 0.0, 2628, 0.76, 354264.71], ['B', 'Mar', 93, 0.0, 2974, 0.75, 425963.54], ['B', 'Apr', 69, 0.0, 2338, 0.8, 315171.57], ['B', 'May', 118, 0.0, 4020, 0.78, 541911.76], ['B', 'Jun', 98, 0.0, 3147, 0.73, 450742.19], ['B', 'Jul', 0, 4271.0, 4271, 0.68, 640650.0], ['B', 'Aug', 77, 0.0, 2620, 0.76, 353186.27], ['B', 'Sep', 125, 0.0, 4517, 0.81, 575081.02], ['B', 'Oct', 130, 0.0, 4155, 0.73, 595117.19], ['B', 'Nov', 0, 3137.0, 3137, 0.68, 470550.0], ['B', 'Dec', 0, 4227.0, 4227, 0.65, 634050.0], ['C', 'Jan', 32, 0.0, 1162, 0.81, 142560.19], ['C', 'Feb', 58, 0.0, 1967, 0.76, 255517.16], ['C', 'Mar', 59, 0.0, 1898, 0.75, 261963.54], ['C', 'Apr', 66, 0.0, 2261, 0.8, 293708.33], ['C', 'May', 60, 0.0, 2030, 0.78, 263700.98], ['C', 'Jun', 51, 0.0, 1642, 0.73, 226630.21], ['C', 'Jul', 83, 0.0, 2489, 0.68, 366436.11], ['C', 'Aug', 73, 0.0, 2496, 0.76, 324235.29], ['C', 'Sep', 26, 0.0, 922, 0.81, 113115.74], ['C', 'Oct', 76, 0.0, 2421, 0.73, 334148.44], ['C', 'Nov', 32, 0.0, 963, 0.68, 141775.0], ['C', 'Dec', 71, 0.0, 1998, 0.65, 315160.71]]\n"
          ]
        }
      ],
      "source": [
        "# Creating dataframe for the results\n",
        "Output4 = []\n",
        "for s in BLocation_ca:\n",
        "    for m in Month_ca:\n",
        "        \n",
        "       \n",
        "        staff4= round(mod4_ca.k[s,m].value)\n",
        "        \n",
        "        \n",
        "        outsource4=mod4_ca.l[s,m].value\n",
        "        \n",
        "        demand= Demand_ca[s,m]\n",
        "        \n",
        "        staff_avl= StaffAvP_ca[s,m]\n",
        "        \n",
        "        Total_monthly_cost4= round(mod4_ca.k[s,m].value*FTE_MonthSal_ca[s,m]+mod4_ca.l[s,m].value*UnitOutSource_ca[s,m],2)\n",
        "        \n",
        "        Output4.append([s,m,staff4,outsource4,demand,staff_avl,Total_monthly_cost4])\n",
        "        \n",
        "print(Output4)"
      ]
    },
    {
      "cell_type": "code",
      "source": [
        "Output4_ca = pd.DataFrame(Output4,columns=['State', 'Month','Number of Staffs','Number of Outsource','Demand','Staff Availability','Total Monthly Cost'])"
      ],
      "metadata": {
        "id": "SBz3vZJx2mmH"
      },
      "execution_count": 90,
      "outputs": []
    },
    {
      "cell_type": "code",
      "source": [
        "# Output data for the Best Scenario\n",
        "Output4_ca"
      ],
      "metadata": {
        "colab": {
          "base_uri": "https://localhost:8080/",
          "height": 1000
        },
        "id": "KYBCrrfQ2mdK",
        "outputId": "673b478c-a6e6-42b3-db25-c8eb535f75a0"
      },
      "execution_count": 91,
      "outputs": [
        {
          "output_type": "execute_result",
          "data": {
            "text/plain": [
              "   State Month  Number of Staffs  Number of Outsource  Demand  \\\n",
              "0      A   Jan               146                  0.0    5240   \n",
              "1      A   Feb               143                  0.0    4878   \n",
              "2      A   Mar               186                  0.0    5942   \n",
              "3      A   Apr                68                  0.0    2297   \n",
              "4      A   May                59                  0.0    1992   \n",
              "5      A   Jun                71                  0.0    2275   \n",
              "6      A   Jul               178                  0.0    5334   \n",
              "7      A   Aug                99                  0.0    3371   \n",
              "8      A   Sep               104                  0.0    3759   \n",
              "9      A   Oct               110                  0.0    3529   \n",
              "10     A   Nov               143                  0.0    4284   \n",
              "11     A   Dec               185                  0.0    5183   \n",
              "12     B   Jan               137                  0.0    4927   \n",
              "13     B   Feb                77                  0.0    2628   \n",
              "14     B   Mar                93                  0.0    2974   \n",
              "15     B   Apr                69                  0.0    2338   \n",
              "16     B   May               118                  0.0    4020   \n",
              "17     B   Jun                98                  0.0    3147   \n",
              "18     B   Jul                 0               4271.0    4271   \n",
              "19     B   Aug                77                  0.0    2620   \n",
              "20     B   Sep               125                  0.0    4517   \n",
              "21     B   Oct               130                  0.0    4155   \n",
              "22     B   Nov                 0               3137.0    3137   \n",
              "23     B   Dec                 0               4227.0    4227   \n",
              "24     C   Jan                32                  0.0    1162   \n",
              "25     C   Feb                58                  0.0    1967   \n",
              "26     C   Mar                59                  0.0    1898   \n",
              "27     C   Apr                66                  0.0    2261   \n",
              "28     C   May                60                  0.0    2030   \n",
              "29     C   Jun                51                  0.0    1642   \n",
              "30     C   Jul                83                  0.0    2489   \n",
              "31     C   Aug                73                  0.0    2496   \n",
              "32     C   Sep                26                  0.0     922   \n",
              "33     C   Oct                76                  0.0    2421   \n",
              "34     C   Nov                32                  0.0     963   \n",
              "35     C   Dec                71                  0.0    1998   \n",
              "\n",
              "    Staff Availability  Total Monthly Cost  \n",
              "0                 0.81           727777.78  \n",
              "1                 0.76           717352.94  \n",
              "2                 0.75           928437.50  \n",
              "3                 0.80           337794.12  \n",
              "4                 0.78           292941.18  \n",
              "5                 0.73           355468.75  \n",
              "6                 0.68           889000.00  \n",
              "7                 0.76           495735.29  \n",
              "8                 0.81           522083.33  \n",
              "9                 0.73           551406.25  \n",
              "10                0.68           714000.00  \n",
              "11                0.65           925535.71  \n",
              "12                0.81           627280.09  \n",
              "13                0.76           354264.71  \n",
              "14                0.75           425963.54  \n",
              "15                0.80           315171.57  \n",
              "16                0.78           541911.76  \n",
              "17                0.73           450742.19  \n",
              "18                0.68           640650.00  \n",
              "19                0.76           353186.27  \n",
              "20                0.81           575081.02  \n",
              "21                0.73           595117.19  \n",
              "22                0.68           470550.00  \n",
              "23                0.65           634050.00  \n",
              "24                0.81           142560.19  \n",
              "25                0.76           255517.16  \n",
              "26                0.75           261963.54  \n",
              "27                0.80           293708.33  \n",
              "28                0.78           263700.98  \n",
              "29                0.73           226630.21  \n",
              "30                0.68           366436.11  \n",
              "31                0.76           324235.29  \n",
              "32                0.81           113115.74  \n",
              "33                0.73           334148.44  \n",
              "34                0.68           141775.00  \n",
              "35                0.65           315160.71  "
            ],
            "text/html": [
              "\n",
              "  <div id=\"df-90c946a8-7235-4300-8f81-9ae04d759432\">\n",
              "    <div class=\"colab-df-container\">\n",
              "      <div>\n",
              "<style scoped>\n",
              "    .dataframe tbody tr th:only-of-type {\n",
              "        vertical-align: middle;\n",
              "    }\n",
              "\n",
              "    .dataframe tbody tr th {\n",
              "        vertical-align: top;\n",
              "    }\n",
              "\n",
              "    .dataframe thead th {\n",
              "        text-align: right;\n",
              "    }\n",
              "</style>\n",
              "<table border=\"1\" class=\"dataframe\">\n",
              "  <thead>\n",
              "    <tr style=\"text-align: right;\">\n",
              "      <th></th>\n",
              "      <th>State</th>\n",
              "      <th>Month</th>\n",
              "      <th>Number of Staffs</th>\n",
              "      <th>Number of Outsource</th>\n",
              "      <th>Demand</th>\n",
              "      <th>Staff Availability</th>\n",
              "      <th>Total Monthly Cost</th>\n",
              "    </tr>\n",
              "  </thead>\n",
              "  <tbody>\n",
              "    <tr>\n",
              "      <th>0</th>\n",
              "      <td>A</td>\n",
              "      <td>Jan</td>\n",
              "      <td>146</td>\n",
              "      <td>0.0</td>\n",
              "      <td>5240</td>\n",
              "      <td>0.81</td>\n",
              "      <td>727777.78</td>\n",
              "    </tr>\n",
              "    <tr>\n",
              "      <th>1</th>\n",
              "      <td>A</td>\n",
              "      <td>Feb</td>\n",
              "      <td>143</td>\n",
              "      <td>0.0</td>\n",
              "      <td>4878</td>\n",
              "      <td>0.76</td>\n",
              "      <td>717352.94</td>\n",
              "    </tr>\n",
              "    <tr>\n",
              "      <th>2</th>\n",
              "      <td>A</td>\n",
              "      <td>Mar</td>\n",
              "      <td>186</td>\n",
              "      <td>0.0</td>\n",
              "      <td>5942</td>\n",
              "      <td>0.75</td>\n",
              "      <td>928437.50</td>\n",
              "    </tr>\n",
              "    <tr>\n",
              "      <th>3</th>\n",
              "      <td>A</td>\n",
              "      <td>Apr</td>\n",
              "      <td>68</td>\n",
              "      <td>0.0</td>\n",
              "      <td>2297</td>\n",
              "      <td>0.80</td>\n",
              "      <td>337794.12</td>\n",
              "    </tr>\n",
              "    <tr>\n",
              "      <th>4</th>\n",
              "      <td>A</td>\n",
              "      <td>May</td>\n",
              "      <td>59</td>\n",
              "      <td>0.0</td>\n",
              "      <td>1992</td>\n",
              "      <td>0.78</td>\n",
              "      <td>292941.18</td>\n",
              "    </tr>\n",
              "    <tr>\n",
              "      <th>5</th>\n",
              "      <td>A</td>\n",
              "      <td>Jun</td>\n",
              "      <td>71</td>\n",
              "      <td>0.0</td>\n",
              "      <td>2275</td>\n",
              "      <td>0.73</td>\n",
              "      <td>355468.75</td>\n",
              "    </tr>\n",
              "    <tr>\n",
              "      <th>6</th>\n",
              "      <td>A</td>\n",
              "      <td>Jul</td>\n",
              "      <td>178</td>\n",
              "      <td>0.0</td>\n",
              "      <td>5334</td>\n",
              "      <td>0.68</td>\n",
              "      <td>889000.00</td>\n",
              "    </tr>\n",
              "    <tr>\n",
              "      <th>7</th>\n",
              "      <td>A</td>\n",
              "      <td>Aug</td>\n",
              "      <td>99</td>\n",
              "      <td>0.0</td>\n",
              "      <td>3371</td>\n",
              "      <td>0.76</td>\n",
              "      <td>495735.29</td>\n",
              "    </tr>\n",
              "    <tr>\n",
              "      <th>8</th>\n",
              "      <td>A</td>\n",
              "      <td>Sep</td>\n",
              "      <td>104</td>\n",
              "      <td>0.0</td>\n",
              "      <td>3759</td>\n",
              "      <td>0.81</td>\n",
              "      <td>522083.33</td>\n",
              "    </tr>\n",
              "    <tr>\n",
              "      <th>9</th>\n",
              "      <td>A</td>\n",
              "      <td>Oct</td>\n",
              "      <td>110</td>\n",
              "      <td>0.0</td>\n",
              "      <td>3529</td>\n",
              "      <td>0.73</td>\n",
              "      <td>551406.25</td>\n",
              "    </tr>\n",
              "    <tr>\n",
              "      <th>10</th>\n",
              "      <td>A</td>\n",
              "      <td>Nov</td>\n",
              "      <td>143</td>\n",
              "      <td>0.0</td>\n",
              "      <td>4284</td>\n",
              "      <td>0.68</td>\n",
              "      <td>714000.00</td>\n",
              "    </tr>\n",
              "    <tr>\n",
              "      <th>11</th>\n",
              "      <td>A</td>\n",
              "      <td>Dec</td>\n",
              "      <td>185</td>\n",
              "      <td>0.0</td>\n",
              "      <td>5183</td>\n",
              "      <td>0.65</td>\n",
              "      <td>925535.71</td>\n",
              "    </tr>\n",
              "    <tr>\n",
              "      <th>12</th>\n",
              "      <td>B</td>\n",
              "      <td>Jan</td>\n",
              "      <td>137</td>\n",
              "      <td>0.0</td>\n",
              "      <td>4927</td>\n",
              "      <td>0.81</td>\n",
              "      <td>627280.09</td>\n",
              "    </tr>\n",
              "    <tr>\n",
              "      <th>13</th>\n",
              "      <td>B</td>\n",
              "      <td>Feb</td>\n",
              "      <td>77</td>\n",
              "      <td>0.0</td>\n",
              "      <td>2628</td>\n",
              "      <td>0.76</td>\n",
              "      <td>354264.71</td>\n",
              "    </tr>\n",
              "    <tr>\n",
              "      <th>14</th>\n",
              "      <td>B</td>\n",
              "      <td>Mar</td>\n",
              "      <td>93</td>\n",
              "      <td>0.0</td>\n",
              "      <td>2974</td>\n",
              "      <td>0.75</td>\n",
              "      <td>425963.54</td>\n",
              "    </tr>\n",
              "    <tr>\n",
              "      <th>15</th>\n",
              "      <td>B</td>\n",
              "      <td>Apr</td>\n",
              "      <td>69</td>\n",
              "      <td>0.0</td>\n",
              "      <td>2338</td>\n",
              "      <td>0.80</td>\n",
              "      <td>315171.57</td>\n",
              "    </tr>\n",
              "    <tr>\n",
              "      <th>16</th>\n",
              "      <td>B</td>\n",
              "      <td>May</td>\n",
              "      <td>118</td>\n",
              "      <td>0.0</td>\n",
              "      <td>4020</td>\n",
              "      <td>0.78</td>\n",
              "      <td>541911.76</td>\n",
              "    </tr>\n",
              "    <tr>\n",
              "      <th>17</th>\n",
              "      <td>B</td>\n",
              "      <td>Jun</td>\n",
              "      <td>98</td>\n",
              "      <td>0.0</td>\n",
              "      <td>3147</td>\n",
              "      <td>0.73</td>\n",
              "      <td>450742.19</td>\n",
              "    </tr>\n",
              "    <tr>\n",
              "      <th>18</th>\n",
              "      <td>B</td>\n",
              "      <td>Jul</td>\n",
              "      <td>0</td>\n",
              "      <td>4271.0</td>\n",
              "      <td>4271</td>\n",
              "      <td>0.68</td>\n",
              "      <td>640650.00</td>\n",
              "    </tr>\n",
              "    <tr>\n",
              "      <th>19</th>\n",
              "      <td>B</td>\n",
              "      <td>Aug</td>\n",
              "      <td>77</td>\n",
              "      <td>0.0</td>\n",
              "      <td>2620</td>\n",
              "      <td>0.76</td>\n",
              "      <td>353186.27</td>\n",
              "    </tr>\n",
              "    <tr>\n",
              "      <th>20</th>\n",
              "      <td>B</td>\n",
              "      <td>Sep</td>\n",
              "      <td>125</td>\n",
              "      <td>0.0</td>\n",
              "      <td>4517</td>\n",
              "      <td>0.81</td>\n",
              "      <td>575081.02</td>\n",
              "    </tr>\n",
              "    <tr>\n",
              "      <th>21</th>\n",
              "      <td>B</td>\n",
              "      <td>Oct</td>\n",
              "      <td>130</td>\n",
              "      <td>0.0</td>\n",
              "      <td>4155</td>\n",
              "      <td>0.73</td>\n",
              "      <td>595117.19</td>\n",
              "    </tr>\n",
              "    <tr>\n",
              "      <th>22</th>\n",
              "      <td>B</td>\n",
              "      <td>Nov</td>\n",
              "      <td>0</td>\n",
              "      <td>3137.0</td>\n",
              "      <td>3137</td>\n",
              "      <td>0.68</td>\n",
              "      <td>470550.00</td>\n",
              "    </tr>\n",
              "    <tr>\n",
              "      <th>23</th>\n",
              "      <td>B</td>\n",
              "      <td>Dec</td>\n",
              "      <td>0</td>\n",
              "      <td>4227.0</td>\n",
              "      <td>4227</td>\n",
              "      <td>0.65</td>\n",
              "      <td>634050.00</td>\n",
              "    </tr>\n",
              "    <tr>\n",
              "      <th>24</th>\n",
              "      <td>C</td>\n",
              "      <td>Jan</td>\n",
              "      <td>32</td>\n",
              "      <td>0.0</td>\n",
              "      <td>1162</td>\n",
              "      <td>0.81</td>\n",
              "      <td>142560.19</td>\n",
              "    </tr>\n",
              "    <tr>\n",
              "      <th>25</th>\n",
              "      <td>C</td>\n",
              "      <td>Feb</td>\n",
              "      <td>58</td>\n",
              "      <td>0.0</td>\n",
              "      <td>1967</td>\n",
              "      <td>0.76</td>\n",
              "      <td>255517.16</td>\n",
              "    </tr>\n",
              "    <tr>\n",
              "      <th>26</th>\n",
              "      <td>C</td>\n",
              "      <td>Mar</td>\n",
              "      <td>59</td>\n",
              "      <td>0.0</td>\n",
              "      <td>1898</td>\n",
              "      <td>0.75</td>\n",
              "      <td>261963.54</td>\n",
              "    </tr>\n",
              "    <tr>\n",
              "      <th>27</th>\n",
              "      <td>C</td>\n",
              "      <td>Apr</td>\n",
              "      <td>66</td>\n",
              "      <td>0.0</td>\n",
              "      <td>2261</td>\n",
              "      <td>0.80</td>\n",
              "      <td>293708.33</td>\n",
              "    </tr>\n",
              "    <tr>\n",
              "      <th>28</th>\n",
              "      <td>C</td>\n",
              "      <td>May</td>\n",
              "      <td>60</td>\n",
              "      <td>0.0</td>\n",
              "      <td>2030</td>\n",
              "      <td>0.78</td>\n",
              "      <td>263700.98</td>\n",
              "    </tr>\n",
              "    <tr>\n",
              "      <th>29</th>\n",
              "      <td>C</td>\n",
              "      <td>Jun</td>\n",
              "      <td>51</td>\n",
              "      <td>0.0</td>\n",
              "      <td>1642</td>\n",
              "      <td>0.73</td>\n",
              "      <td>226630.21</td>\n",
              "    </tr>\n",
              "    <tr>\n",
              "      <th>30</th>\n",
              "      <td>C</td>\n",
              "      <td>Jul</td>\n",
              "      <td>83</td>\n",
              "      <td>0.0</td>\n",
              "      <td>2489</td>\n",
              "      <td>0.68</td>\n",
              "      <td>366436.11</td>\n",
              "    </tr>\n",
              "    <tr>\n",
              "      <th>31</th>\n",
              "      <td>C</td>\n",
              "      <td>Aug</td>\n",
              "      <td>73</td>\n",
              "      <td>0.0</td>\n",
              "      <td>2496</td>\n",
              "      <td>0.76</td>\n",
              "      <td>324235.29</td>\n",
              "    </tr>\n",
              "    <tr>\n",
              "      <th>32</th>\n",
              "      <td>C</td>\n",
              "      <td>Sep</td>\n",
              "      <td>26</td>\n",
              "      <td>0.0</td>\n",
              "      <td>922</td>\n",
              "      <td>0.81</td>\n",
              "      <td>113115.74</td>\n",
              "    </tr>\n",
              "    <tr>\n",
              "      <th>33</th>\n",
              "      <td>C</td>\n",
              "      <td>Oct</td>\n",
              "      <td>76</td>\n",
              "      <td>0.0</td>\n",
              "      <td>2421</td>\n",
              "      <td>0.73</td>\n",
              "      <td>334148.44</td>\n",
              "    </tr>\n",
              "    <tr>\n",
              "      <th>34</th>\n",
              "      <td>C</td>\n",
              "      <td>Nov</td>\n",
              "      <td>32</td>\n",
              "      <td>0.0</td>\n",
              "      <td>963</td>\n",
              "      <td>0.68</td>\n",
              "      <td>141775.00</td>\n",
              "    </tr>\n",
              "    <tr>\n",
              "      <th>35</th>\n",
              "      <td>C</td>\n",
              "      <td>Dec</td>\n",
              "      <td>71</td>\n",
              "      <td>0.0</td>\n",
              "      <td>1998</td>\n",
              "      <td>0.65</td>\n",
              "      <td>315160.71</td>\n",
              "    </tr>\n",
              "  </tbody>\n",
              "</table>\n",
              "</div>\n",
              "      <button class=\"colab-df-convert\" onclick=\"convertToInteractive('df-90c946a8-7235-4300-8f81-9ae04d759432')\"\n",
              "              title=\"Convert this dataframe to an interactive table.\"\n",
              "              style=\"display:none;\">\n",
              "        \n",
              "  <svg xmlns=\"http://www.w3.org/2000/svg\" height=\"24px\"viewBox=\"0 0 24 24\"\n",
              "       width=\"24px\">\n",
              "    <path d=\"M0 0h24v24H0V0z\" fill=\"none\"/>\n",
              "    <path d=\"M18.56 5.44l.94 2.06.94-2.06 2.06-.94-2.06-.94-.94-2.06-.94 2.06-2.06.94zm-11 1L8.5 8.5l.94-2.06 2.06-.94-2.06-.94L8.5 2.5l-.94 2.06-2.06.94zm10 10l.94 2.06.94-2.06 2.06-.94-2.06-.94-.94-2.06-.94 2.06-2.06.94z\"/><path d=\"M17.41 7.96l-1.37-1.37c-.4-.4-.92-.59-1.43-.59-.52 0-1.04.2-1.43.59L10.3 9.45l-7.72 7.72c-.78.78-.78 2.05 0 2.83L4 21.41c.39.39.9.59 1.41.59.51 0 1.02-.2 1.41-.59l7.78-7.78 2.81-2.81c.8-.78.8-2.07 0-2.86zM5.41 20L4 18.59l7.72-7.72 1.47 1.35L5.41 20z\"/>\n",
              "  </svg>\n",
              "      </button>\n",
              "      \n",
              "  <style>\n",
              "    .colab-df-container {\n",
              "      display:flex;\n",
              "      flex-wrap:wrap;\n",
              "      gap: 12px;\n",
              "    }\n",
              "\n",
              "    .colab-df-convert {\n",
              "      background-color: #E8F0FE;\n",
              "      border: none;\n",
              "      border-radius: 50%;\n",
              "      cursor: pointer;\n",
              "      display: none;\n",
              "      fill: #1967D2;\n",
              "      height: 32px;\n",
              "      padding: 0 0 0 0;\n",
              "      width: 32px;\n",
              "    }\n",
              "\n",
              "    .colab-df-convert:hover {\n",
              "      background-color: #E2EBFA;\n",
              "      box-shadow: 0px 1px 2px rgba(60, 64, 67, 0.3), 0px 1px 3px 1px rgba(60, 64, 67, 0.15);\n",
              "      fill: #174EA6;\n",
              "    }\n",
              "\n",
              "    [theme=dark] .colab-df-convert {\n",
              "      background-color: #3B4455;\n",
              "      fill: #D2E3FC;\n",
              "    }\n",
              "\n",
              "    [theme=dark] .colab-df-convert:hover {\n",
              "      background-color: #434B5C;\n",
              "      box-shadow: 0px 1px 3px 1px rgba(0, 0, 0, 0.15);\n",
              "      filter: drop-shadow(0px 1px 2px rgba(0, 0, 0, 0.3));\n",
              "      fill: #FFFFFF;\n",
              "    }\n",
              "  </style>\n",
              "\n",
              "      <script>\n",
              "        const buttonEl =\n",
              "          document.querySelector('#df-90c946a8-7235-4300-8f81-9ae04d759432 button.colab-df-convert');\n",
              "        buttonEl.style.display =\n",
              "          google.colab.kernel.accessAllowed ? 'block' : 'none';\n",
              "\n",
              "        async function convertToInteractive(key) {\n",
              "          const element = document.querySelector('#df-90c946a8-7235-4300-8f81-9ae04d759432');\n",
              "          const dataTable =\n",
              "            await google.colab.kernel.invokeFunction('convertToInteractive',\n",
              "                                                     [key], {});\n",
              "          if (!dataTable) return;\n",
              "\n",
              "          const docLinkHtml = 'Like what you see? Visit the ' +\n",
              "            '<a target=\"_blank\" href=https://colab.research.google.com/notebooks/data_table.ipynb>data table notebook</a>'\n",
              "            + ' to learn more about interactive tables.';\n",
              "          element.innerHTML = '';\n",
              "          dataTable['output_type'] = 'display_data';\n",
              "          await google.colab.output.renderOutput(dataTable, element);\n",
              "          const docLink = document.createElement('div');\n",
              "          docLink.innerHTML = docLinkHtml;\n",
              "          element.appendChild(docLink);\n",
              "        }\n",
              "      </script>\n",
              "    </div>\n",
              "  </div>\n",
              "  "
            ]
          },
          "metadata": {},
          "execution_count": 91
        }
      ]
    },
    {
      "cell_type": "code",
      "source": [
        "# Writing the results in to an Excel sheet\n",
        "book = pd.DataFrame(Output4_ca)\n",
        "book.to_excel(\"Business_Staff_Outsourcing_Output_Best_from_Python.xlsx\")  "
      ],
      "metadata": {
        "id": "EpNkIOVBUXKK"
      },
      "execution_count": 94,
      "outputs": []
    },
    {
      "cell_type": "code",
      "source": [
        "# Calculating sum of outsourced\n",
        "sum_outsourced_ca = Output4_ca['Number of Outsource'].sum()\n",
        "sum_outsourced_ca"
      ],
      "metadata": {
        "colab": {
          "base_uri": "https://localhost:8080/"
        },
        "id": "GiWw-eJg2mP5",
        "outputId": "b8ac5803-5439-485b-921a-03bf654479eb"
      },
      "execution_count": 95,
      "outputs": [
        {
          "output_type": "execute_result",
          "data": {
            "text/plain": [
              "11635.0"
            ]
          },
          "metadata": {},
          "execution_count": 95
        }
      ]
    },
    {
      "cell_type": "code",
      "source": [
        "# Calculating sum of demand\n",
        "total_demand_ca = Output4_ca['Demand'].sum()\n",
        "total_demand_ca"
      ],
      "metadata": {
        "colab": {
          "base_uri": "https://localhost:8080/"
        },
        "id": "Cu7_J4qa2vAf",
        "outputId": "b9037cdf-9002-42ab-b5f9-c20868631033"
      },
      "execution_count": 96,
      "outputs": [
        {
          "output_type": "execute_result",
          "data": {
            "text/plain": [
              "113294"
            ]
          },
          "metadata": {},
          "execution_count": 96
        }
      ]
    },
    {
      "cell_type": "code",
      "source": [
        "# Total number of staff for the year for Best Scenario\n",
        "Output4_ca['Number of Staffs'].sum()"
      ],
      "metadata": {
        "colab": {
          "base_uri": "https://localhost:8080/"
        },
        "id": "xLCgsVF02uzy",
        "outputId": "c1a2046f-86b6-4ca4-b40f-3a46c79e6bbe"
      },
      "execution_count": 98,
      "outputs": [
        {
          "output_type": "execute_result",
          "data": {
            "text/plain": [
              "3103"
            ]
          },
          "metadata": {},
          "execution_count": 98
        }
      ]
    },
    {
      "cell_type": "markdown",
      "source": [
        "Optimum number of staff for each month and region can be seen in the dataframe output. The Total optimum staff for Worst Scenario in year 2021 in 3103."
      ],
      "metadata": {
        "id": "o1ZiULCcVav2"
      }
    },
    {
      "cell_type": "markdown",
      "metadata": {
        "id": "e-9MWQk_uJoI"
      },
      "source": [
        "#### 3.2.2 Percentage of outsourced applications"
      ]
    },
    {
      "cell_type": "code",
      "execution_count": 99,
      "metadata": {
        "id": "I4e5aE3FuJoJ",
        "colab": {
          "base_uri": "https://localhost:8080/"
        },
        "outputId": "92bbcb20-5415-48de-c352-3c1c99188b9e"
      },
      "outputs": [
        {
          "output_type": "execute_result",
          "data": {
            "text/plain": [
              "10.26974067470475"
            ]
          },
          "metadata": {},
          "execution_count": 99
        }
      ],
      "source": [
        "# write your code here\n",
        "perc_outsource_ca = sum_outsourced_ca/(total_demand_ca) * 100\n",
        "perc_outsource_ca"
      ]
    },
    {
      "cell_type": "markdown",
      "source": [
        "Percentage of outsourced applications for Best Scnenario - 10.27%"
      ],
      "metadata": {
        "id": "ZYdKlnL_VfPy"
      }
    },
    {
      "cell_type": "markdown",
      "metadata": {
        "id": "UTJNXYoVuJoJ"
      },
      "source": [
        "#### 3.2.3 Average cost per application"
      ]
    },
    {
      "cell_type": "code",
      "execution_count": 100,
      "metadata": {
        "id": "QoBVfQiAuJoK",
        "colab": {
          "base_uri": "https://localhost:8080/"
        },
        "outputId": "ccabc431-be9e-4c71-d644-0ba84c5516f6"
      },
      "outputs": [
        {
          "output_type": "execute_result",
          "data": {
            "text/plain": [
              "457790.35805555555"
            ]
          },
          "metadata": {},
          "execution_count": 100
        }
      ],
      "source": [
        "# write your code here\n",
        "\n",
        "#average of monthly cost\n",
        "avg_total_cost2_ca = Output4_ca['Total Monthly Cost'].mean()\n",
        "avg_total_cost2_ca"
      ]
    },
    {
      "cell_type": "code",
      "source": [
        "# Calculating average of demand\n",
        "avg_demand2_ca = Output4_ca['Demand'].mean()\n",
        "avg_demand2_ca"
      ],
      "metadata": {
        "colab": {
          "base_uri": "https://localhost:8080/"
        },
        "id": "C8Z82MGQ28b0",
        "outputId": "e4941d89-91f0-4214-a652-2a7512400711"
      },
      "execution_count": 101,
      "outputs": [
        {
          "output_type": "execute_result",
          "data": {
            "text/plain": [
              "3147.0555555555557"
            ]
          },
          "metadata": {},
          "execution_count": 101
        }
      ]
    },
    {
      "cell_type": "code",
      "source": [
        "# Calculating average of cost per application\n",
        "avg_cost_per_app2_ca= avg_total_cost2_ca/avg_demand2_ca\n",
        "avg_cost_per_app2_ca"
      ],
      "metadata": {
        "colab": {
          "base_uri": "https://localhost:8080/"
        },
        "id": "jEJburHX28Yw",
        "outputId": "3b29a38c-dfdc-4490-8a3c-234311e814c3"
      },
      "execution_count": 102,
      "outputs": [
        {
          "output_type": "execute_result",
          "data": {
            "text/plain": [
              "145.46624613836568"
            ]
          },
          "metadata": {},
          "execution_count": 102
        }
      ]
    },
    {
      "cell_type": "markdown",
      "source": [
        "Average cost per application for Best Scenario is 145.5$"
      ],
      "metadata": {
        "id": "kO2q3aexVqbj"
      }
    },
    {
      "cell_type": "markdown",
      "metadata": {
        "id": "6rJjC5lZuJoK"
      },
      "source": [
        "# Question 4\n",
        "\n",
        "#### Creating Visualisations"
      ]
    },
    {
      "cell_type": "markdown",
      "metadata": {
        "id": "LSsDgukluJoK"
      },
      "source": [
        "Create the following visualisations using your preferred method (i.e. Python, PowerPoint, Power BI, etc.) and add it to your report. \n",
        "\n",
        "Use the solution of Q2 to create a stacked column chart that shows the percentage of applications processed by the staff and by the vendor for each month (%staff processed applications+ %vendor processed applications should add up to 100%). \n",
        "Create a graph to show how the cost per application increases with respect to any change in the parameters in your analysis.\n",
        "Hint: Use the cost per application that you calculate in Questions 2 and 3 (i.e., the best case, and the worst case). "
      ]
    },
    {
      "cell_type": "markdown",
      "metadata": {
        "id": "epMGbeQNuJoL"
      },
      "source": [
        "**Note:** You can create the charts in Python or some other visualisation tools and make it a part of your final report directly."
      ]
    },
    {
      "cell_type": "code",
      "execution_count": 103,
      "metadata": {
        "id": "cDzzirTsuJoM"
      },
      "outputs": [],
      "source": [
        "# Creating the required fields in the dataframe\n",
        "Output_ca[\"Percent Staff Appl\"]=Output_ca[\"Staff Applications\"]*100/Output_ca[\"Demand\"]\n",
        "Output_ca['Cost_per_appl_best'] = Output4_ca['Total Monthly Cost']/Output4_ca['Demand']\n",
        "Output_ca['Cost_per_appl_worst'] = Output3A_ca['Total Monthly Cost']/Output3A_ca['Demand']"
      ]
    },
    {
      "cell_type": "code",
      "source": [
        "Output_ca.head()"
      ],
      "metadata": {
        "colab": {
          "base_uri": "https://localhost:8080/",
          "height": 285
        },
        "id": "sool_qUm3KKo",
        "outputId": "2c4ba697-9a3c-4c66-a340-ce7517af34a9"
      },
      "execution_count": 104,
      "outputs": [
        {
          "output_type": "execute_result",
          "data": {
            "text/plain": [
              "  State Month  Number of Staffs  Number of Outsource  Total Monthly Cost  \\\n",
              "0     A   Jan        161.728395                  0.0       808641.975309   \n",
              "1     A   Feb        160.460526                  0.0       802302.631579   \n",
              "2     A   Mar        198.066667                  0.0       990333.333333   \n",
              "3     A   Apr         71.781250                  0.0       358906.250000   \n",
              "4     A   May         63.846154                  0.0       319230.769231   \n",
              "\n",
              "   Staff Applications  Demand  Per Application Cost  Staff Cost  \\\n",
              "0              5240.0    5240                 305.0      5000.0   \n",
              "1              4878.0    4878                 305.0      5000.0   \n",
              "2              5942.0    5942                 305.0      5000.0   \n",
              "3              2297.0    2297                 305.0      5000.0   \n",
              "4              1992.0    1992                 305.0      5000.0   \n",
              "\n",
              "   Outsource cost  Percent Staff Appl  Cost_per_appl_best  Cost_per_appl_worst  \n",
              "0             180               100.0          138.888889           178.571429  \n",
              "1             180               100.0          147.058823           188.615385  \n",
              "2             180               100.0          156.250000           178.571429  \n",
              "3             180               100.0          147.058825           166.666665  \n",
              "4             180               100.0          147.058825           178.571431  "
            ],
            "text/html": [
              "\n",
              "  <div id=\"df-ea123b3c-d2d8-4b4c-b6cd-944ccbfd9c2d\">\n",
              "    <div class=\"colab-df-container\">\n",
              "      <div>\n",
              "<style scoped>\n",
              "    .dataframe tbody tr th:only-of-type {\n",
              "        vertical-align: middle;\n",
              "    }\n",
              "\n",
              "    .dataframe tbody tr th {\n",
              "        vertical-align: top;\n",
              "    }\n",
              "\n",
              "    .dataframe thead th {\n",
              "        text-align: right;\n",
              "    }\n",
              "</style>\n",
              "<table border=\"1\" class=\"dataframe\">\n",
              "  <thead>\n",
              "    <tr style=\"text-align: right;\">\n",
              "      <th></th>\n",
              "      <th>State</th>\n",
              "      <th>Month</th>\n",
              "      <th>Number of Staffs</th>\n",
              "      <th>Number of Outsource</th>\n",
              "      <th>Total Monthly Cost</th>\n",
              "      <th>Staff Applications</th>\n",
              "      <th>Demand</th>\n",
              "      <th>Per Application Cost</th>\n",
              "      <th>Staff Cost</th>\n",
              "      <th>Outsource cost</th>\n",
              "      <th>Percent Staff Appl</th>\n",
              "      <th>Cost_per_appl_best</th>\n",
              "      <th>Cost_per_appl_worst</th>\n",
              "    </tr>\n",
              "  </thead>\n",
              "  <tbody>\n",
              "    <tr>\n",
              "      <th>0</th>\n",
              "      <td>A</td>\n",
              "      <td>Jan</td>\n",
              "      <td>161.728395</td>\n",
              "      <td>0.0</td>\n",
              "      <td>808641.975309</td>\n",
              "      <td>5240.0</td>\n",
              "      <td>5240</td>\n",
              "      <td>305.0</td>\n",
              "      <td>5000.0</td>\n",
              "      <td>180</td>\n",
              "      <td>100.0</td>\n",
              "      <td>138.888889</td>\n",
              "      <td>178.571429</td>\n",
              "    </tr>\n",
              "    <tr>\n",
              "      <th>1</th>\n",
              "      <td>A</td>\n",
              "      <td>Feb</td>\n",
              "      <td>160.460526</td>\n",
              "      <td>0.0</td>\n",
              "      <td>802302.631579</td>\n",
              "      <td>4878.0</td>\n",
              "      <td>4878</td>\n",
              "      <td>305.0</td>\n",
              "      <td>5000.0</td>\n",
              "      <td>180</td>\n",
              "      <td>100.0</td>\n",
              "      <td>147.058823</td>\n",
              "      <td>188.615385</td>\n",
              "    </tr>\n",
              "    <tr>\n",
              "      <th>2</th>\n",
              "      <td>A</td>\n",
              "      <td>Mar</td>\n",
              "      <td>198.066667</td>\n",
              "      <td>0.0</td>\n",
              "      <td>990333.333333</td>\n",
              "      <td>5942.0</td>\n",
              "      <td>5942</td>\n",
              "      <td>305.0</td>\n",
              "      <td>5000.0</td>\n",
              "      <td>180</td>\n",
              "      <td>100.0</td>\n",
              "      <td>156.250000</td>\n",
              "      <td>178.571429</td>\n",
              "    </tr>\n",
              "    <tr>\n",
              "      <th>3</th>\n",
              "      <td>A</td>\n",
              "      <td>Apr</td>\n",
              "      <td>71.781250</td>\n",
              "      <td>0.0</td>\n",
              "      <td>358906.250000</td>\n",
              "      <td>2297.0</td>\n",
              "      <td>2297</td>\n",
              "      <td>305.0</td>\n",
              "      <td>5000.0</td>\n",
              "      <td>180</td>\n",
              "      <td>100.0</td>\n",
              "      <td>147.058825</td>\n",
              "      <td>166.666665</td>\n",
              "    </tr>\n",
              "    <tr>\n",
              "      <th>4</th>\n",
              "      <td>A</td>\n",
              "      <td>May</td>\n",
              "      <td>63.846154</td>\n",
              "      <td>0.0</td>\n",
              "      <td>319230.769231</td>\n",
              "      <td>1992.0</td>\n",
              "      <td>1992</td>\n",
              "      <td>305.0</td>\n",
              "      <td>5000.0</td>\n",
              "      <td>180</td>\n",
              "      <td>100.0</td>\n",
              "      <td>147.058825</td>\n",
              "      <td>178.571431</td>\n",
              "    </tr>\n",
              "  </tbody>\n",
              "</table>\n",
              "</div>\n",
              "      <button class=\"colab-df-convert\" onclick=\"convertToInteractive('df-ea123b3c-d2d8-4b4c-b6cd-944ccbfd9c2d')\"\n",
              "              title=\"Convert this dataframe to an interactive table.\"\n",
              "              style=\"display:none;\">\n",
              "        \n",
              "  <svg xmlns=\"http://www.w3.org/2000/svg\" height=\"24px\"viewBox=\"0 0 24 24\"\n",
              "       width=\"24px\">\n",
              "    <path d=\"M0 0h24v24H0V0z\" fill=\"none\"/>\n",
              "    <path d=\"M18.56 5.44l.94 2.06.94-2.06 2.06-.94-2.06-.94-.94-2.06-.94 2.06-2.06.94zm-11 1L8.5 8.5l.94-2.06 2.06-.94-2.06-.94L8.5 2.5l-.94 2.06-2.06.94zm10 10l.94 2.06.94-2.06 2.06-.94-2.06-.94-.94-2.06-.94 2.06-2.06.94z\"/><path d=\"M17.41 7.96l-1.37-1.37c-.4-.4-.92-.59-1.43-.59-.52 0-1.04.2-1.43.59L10.3 9.45l-7.72 7.72c-.78.78-.78 2.05 0 2.83L4 21.41c.39.39.9.59 1.41.59.51 0 1.02-.2 1.41-.59l7.78-7.78 2.81-2.81c.8-.78.8-2.07 0-2.86zM5.41 20L4 18.59l7.72-7.72 1.47 1.35L5.41 20z\"/>\n",
              "  </svg>\n",
              "      </button>\n",
              "      \n",
              "  <style>\n",
              "    .colab-df-container {\n",
              "      display:flex;\n",
              "      flex-wrap:wrap;\n",
              "      gap: 12px;\n",
              "    }\n",
              "\n",
              "    .colab-df-convert {\n",
              "      background-color: #E8F0FE;\n",
              "      border: none;\n",
              "      border-radius: 50%;\n",
              "      cursor: pointer;\n",
              "      display: none;\n",
              "      fill: #1967D2;\n",
              "      height: 32px;\n",
              "      padding: 0 0 0 0;\n",
              "      width: 32px;\n",
              "    }\n",
              "\n",
              "    .colab-df-convert:hover {\n",
              "      background-color: #E2EBFA;\n",
              "      box-shadow: 0px 1px 2px rgba(60, 64, 67, 0.3), 0px 1px 3px 1px rgba(60, 64, 67, 0.15);\n",
              "      fill: #174EA6;\n",
              "    }\n",
              "\n",
              "    [theme=dark] .colab-df-convert {\n",
              "      background-color: #3B4455;\n",
              "      fill: #D2E3FC;\n",
              "    }\n",
              "\n",
              "    [theme=dark] .colab-df-convert:hover {\n",
              "      background-color: #434B5C;\n",
              "      box-shadow: 0px 1px 3px 1px rgba(0, 0, 0, 0.15);\n",
              "      filter: drop-shadow(0px 1px 2px rgba(0, 0, 0, 0.3));\n",
              "      fill: #FFFFFF;\n",
              "    }\n",
              "  </style>\n",
              "\n",
              "      <script>\n",
              "        const buttonEl =\n",
              "          document.querySelector('#df-ea123b3c-d2d8-4b4c-b6cd-944ccbfd9c2d button.colab-df-convert');\n",
              "        buttonEl.style.display =\n",
              "          google.colab.kernel.accessAllowed ? 'block' : 'none';\n",
              "\n",
              "        async function convertToInteractive(key) {\n",
              "          const element = document.querySelector('#df-ea123b3c-d2d8-4b4c-b6cd-944ccbfd9c2d');\n",
              "          const dataTable =\n",
              "            await google.colab.kernel.invokeFunction('convertToInteractive',\n",
              "                                                     [key], {});\n",
              "          if (!dataTable) return;\n",
              "\n",
              "          const docLinkHtml = 'Like what you see? Visit the ' +\n",
              "            '<a target=\"_blank\" href=https://colab.research.google.com/notebooks/data_table.ipynb>data table notebook</a>'\n",
              "            + ' to learn more about interactive tables.';\n",
              "          element.innerHTML = '';\n",
              "          dataTable['output_type'] = 'display_data';\n",
              "          await google.colab.output.renderOutput(dataTable, element);\n",
              "          const docLink = document.createElement('div');\n",
              "          docLink.innerHTML = docLinkHtml;\n",
              "          element.appendChild(docLink);\n",
              "        }\n",
              "      </script>\n",
              "    </div>\n",
              "  </div>\n",
              "  "
            ]
          },
          "metadata": {},
          "execution_count": 104
        }
      ]
    },
    {
      "cell_type": "code",
      "source": [
        "Output_ca[\"Percent Outsource Appl\"]=Output_ca[\"Number of Outsource\"]*100/Output_ca[\"Demand\"]"
      ],
      "metadata": {
        "id": "oGfUt0LQ3KHr"
      },
      "execution_count": 105,
      "outputs": []
    },
    {
      "cell_type": "code",
      "source": [
        "Output_ca.head(10)"
      ],
      "metadata": {
        "colab": {
          "base_uri": "https://localhost:8080/",
          "height": 462
        },
        "id": "FaT4DHyv3J8E",
        "outputId": "a8858ced-1454-4b8d-cea4-78e2f2f2799d"
      },
      "execution_count": 106,
      "outputs": [
        {
          "output_type": "execute_result",
          "data": {
            "text/plain": [
              "  State Month  Number of Staffs  Number of Outsource  Total Monthly Cost  \\\n",
              "0     A   Jan        161.728395                  0.0       808641.975309   \n",
              "1     A   Feb        160.460526                  0.0       802302.631579   \n",
              "2     A   Mar        198.066667                  0.0       990333.333333   \n",
              "3     A   Apr         71.781250                  0.0       358906.250000   \n",
              "4     A   May         63.846154                  0.0       319230.769231   \n",
              "5     A   Jun         77.910959                  0.0       389554.794521   \n",
              "6     A   Jul        137.272059               1600.2       974396.294118   \n",
              "7     A   Aug        110.888158                  0.0       554440.789474   \n",
              "8     A   Sep        116.018519                  0.0       580092.592593   \n",
              "9     A   Oct        120.856164                  0.0       604280.821918   \n",
              "\n",
              "   Staff Applications  Demand  Per Application Cost  Staff Cost  \\\n",
              "0              5240.0    5240                 305.0      5000.0   \n",
              "1              4878.0    4878                 305.0      5000.0   \n",
              "2              5942.0    5942                 305.0      5000.0   \n",
              "3              2297.0    2297                 305.0      5000.0   \n",
              "4              1992.0    1992                 305.0      5000.0   \n",
              "5              2275.0    2275                 305.0      5000.0   \n",
              "6              3733.8    5334                 305.0      5000.0   \n",
              "7              3371.0    3371                 305.0      5000.0   \n",
              "8              3759.0    3759                 305.0      5000.0   \n",
              "9              3529.0    3529                 305.0      5000.0   \n",
              "\n",
              "   Outsource cost  Percent Staff Appl  Cost_per_appl_best  \\\n",
              "0             180               100.0          138.888889   \n",
              "1             180               100.0          147.058823   \n",
              "2             180               100.0          156.250000   \n",
              "3             180               100.0          147.058825   \n",
              "4             180               100.0          147.058825   \n",
              "5             180               100.0          156.250000   \n",
              "6             180                70.0          166.666667   \n",
              "7             180               100.0          147.058822   \n",
              "8             180               100.0          138.888888   \n",
              "9             180               100.0          156.250000   \n",
              "\n",
              "   Cost_per_appl_worst  Percent Outsource Appl  \n",
              "0           178.571429                     0.0  \n",
              "1           188.615385                     0.0  \n",
              "2           178.571429                     0.0  \n",
              "3           166.666665                     0.0  \n",
              "4           178.571431                     0.0  \n",
              "5           188.615385                     0.0  \n",
              "6           199.833333                    30.0  \n",
              "7           188.615384                     0.0  \n",
              "8           178.571429                     0.0  \n",
              "9           188.615384                     0.0  "
            ],
            "text/html": [
              "\n",
              "  <div id=\"df-00d427cd-2bc7-49d6-ae02-3f6a13013163\">\n",
              "    <div class=\"colab-df-container\">\n",
              "      <div>\n",
              "<style scoped>\n",
              "    .dataframe tbody tr th:only-of-type {\n",
              "        vertical-align: middle;\n",
              "    }\n",
              "\n",
              "    .dataframe tbody tr th {\n",
              "        vertical-align: top;\n",
              "    }\n",
              "\n",
              "    .dataframe thead th {\n",
              "        text-align: right;\n",
              "    }\n",
              "</style>\n",
              "<table border=\"1\" class=\"dataframe\">\n",
              "  <thead>\n",
              "    <tr style=\"text-align: right;\">\n",
              "      <th></th>\n",
              "      <th>State</th>\n",
              "      <th>Month</th>\n",
              "      <th>Number of Staffs</th>\n",
              "      <th>Number of Outsource</th>\n",
              "      <th>Total Monthly Cost</th>\n",
              "      <th>Staff Applications</th>\n",
              "      <th>Demand</th>\n",
              "      <th>Per Application Cost</th>\n",
              "      <th>Staff Cost</th>\n",
              "      <th>Outsource cost</th>\n",
              "      <th>Percent Staff Appl</th>\n",
              "      <th>Cost_per_appl_best</th>\n",
              "      <th>Cost_per_appl_worst</th>\n",
              "      <th>Percent Outsource Appl</th>\n",
              "    </tr>\n",
              "  </thead>\n",
              "  <tbody>\n",
              "    <tr>\n",
              "      <th>0</th>\n",
              "      <td>A</td>\n",
              "      <td>Jan</td>\n",
              "      <td>161.728395</td>\n",
              "      <td>0.0</td>\n",
              "      <td>808641.975309</td>\n",
              "      <td>5240.0</td>\n",
              "      <td>5240</td>\n",
              "      <td>305.0</td>\n",
              "      <td>5000.0</td>\n",
              "      <td>180</td>\n",
              "      <td>100.0</td>\n",
              "      <td>138.888889</td>\n",
              "      <td>178.571429</td>\n",
              "      <td>0.0</td>\n",
              "    </tr>\n",
              "    <tr>\n",
              "      <th>1</th>\n",
              "      <td>A</td>\n",
              "      <td>Feb</td>\n",
              "      <td>160.460526</td>\n",
              "      <td>0.0</td>\n",
              "      <td>802302.631579</td>\n",
              "      <td>4878.0</td>\n",
              "      <td>4878</td>\n",
              "      <td>305.0</td>\n",
              "      <td>5000.0</td>\n",
              "      <td>180</td>\n",
              "      <td>100.0</td>\n",
              "      <td>147.058823</td>\n",
              "      <td>188.615385</td>\n",
              "      <td>0.0</td>\n",
              "    </tr>\n",
              "    <tr>\n",
              "      <th>2</th>\n",
              "      <td>A</td>\n",
              "      <td>Mar</td>\n",
              "      <td>198.066667</td>\n",
              "      <td>0.0</td>\n",
              "      <td>990333.333333</td>\n",
              "      <td>5942.0</td>\n",
              "      <td>5942</td>\n",
              "      <td>305.0</td>\n",
              "      <td>5000.0</td>\n",
              "      <td>180</td>\n",
              "      <td>100.0</td>\n",
              "      <td>156.250000</td>\n",
              "      <td>178.571429</td>\n",
              "      <td>0.0</td>\n",
              "    </tr>\n",
              "    <tr>\n",
              "      <th>3</th>\n",
              "      <td>A</td>\n",
              "      <td>Apr</td>\n",
              "      <td>71.781250</td>\n",
              "      <td>0.0</td>\n",
              "      <td>358906.250000</td>\n",
              "      <td>2297.0</td>\n",
              "      <td>2297</td>\n",
              "      <td>305.0</td>\n",
              "      <td>5000.0</td>\n",
              "      <td>180</td>\n",
              "      <td>100.0</td>\n",
              "      <td>147.058825</td>\n",
              "      <td>166.666665</td>\n",
              "      <td>0.0</td>\n",
              "    </tr>\n",
              "    <tr>\n",
              "      <th>4</th>\n",
              "      <td>A</td>\n",
              "      <td>May</td>\n",
              "      <td>63.846154</td>\n",
              "      <td>0.0</td>\n",
              "      <td>319230.769231</td>\n",
              "      <td>1992.0</td>\n",
              "      <td>1992</td>\n",
              "      <td>305.0</td>\n",
              "      <td>5000.0</td>\n",
              "      <td>180</td>\n",
              "      <td>100.0</td>\n",
              "      <td>147.058825</td>\n",
              "      <td>178.571431</td>\n",
              "      <td>0.0</td>\n",
              "    </tr>\n",
              "    <tr>\n",
              "      <th>5</th>\n",
              "      <td>A</td>\n",
              "      <td>Jun</td>\n",
              "      <td>77.910959</td>\n",
              "      <td>0.0</td>\n",
              "      <td>389554.794521</td>\n",
              "      <td>2275.0</td>\n",
              "      <td>2275</td>\n",
              "      <td>305.0</td>\n",
              "      <td>5000.0</td>\n",
              "      <td>180</td>\n",
              "      <td>100.0</td>\n",
              "      <td>156.250000</td>\n",
              "      <td>188.615385</td>\n",
              "      <td>0.0</td>\n",
              "    </tr>\n",
              "    <tr>\n",
              "      <th>6</th>\n",
              "      <td>A</td>\n",
              "      <td>Jul</td>\n",
              "      <td>137.272059</td>\n",
              "      <td>1600.2</td>\n",
              "      <td>974396.294118</td>\n",
              "      <td>3733.8</td>\n",
              "      <td>5334</td>\n",
              "      <td>305.0</td>\n",
              "      <td>5000.0</td>\n",
              "      <td>180</td>\n",
              "      <td>70.0</td>\n",
              "      <td>166.666667</td>\n",
              "      <td>199.833333</td>\n",
              "      <td>30.0</td>\n",
              "    </tr>\n",
              "    <tr>\n",
              "      <th>7</th>\n",
              "      <td>A</td>\n",
              "      <td>Aug</td>\n",
              "      <td>110.888158</td>\n",
              "      <td>0.0</td>\n",
              "      <td>554440.789474</td>\n",
              "      <td>3371.0</td>\n",
              "      <td>3371</td>\n",
              "      <td>305.0</td>\n",
              "      <td>5000.0</td>\n",
              "      <td>180</td>\n",
              "      <td>100.0</td>\n",
              "      <td>147.058822</td>\n",
              "      <td>188.615384</td>\n",
              "      <td>0.0</td>\n",
              "    </tr>\n",
              "    <tr>\n",
              "      <th>8</th>\n",
              "      <td>A</td>\n",
              "      <td>Sep</td>\n",
              "      <td>116.018519</td>\n",
              "      <td>0.0</td>\n",
              "      <td>580092.592593</td>\n",
              "      <td>3759.0</td>\n",
              "      <td>3759</td>\n",
              "      <td>305.0</td>\n",
              "      <td>5000.0</td>\n",
              "      <td>180</td>\n",
              "      <td>100.0</td>\n",
              "      <td>138.888888</td>\n",
              "      <td>178.571429</td>\n",
              "      <td>0.0</td>\n",
              "    </tr>\n",
              "    <tr>\n",
              "      <th>9</th>\n",
              "      <td>A</td>\n",
              "      <td>Oct</td>\n",
              "      <td>120.856164</td>\n",
              "      <td>0.0</td>\n",
              "      <td>604280.821918</td>\n",
              "      <td>3529.0</td>\n",
              "      <td>3529</td>\n",
              "      <td>305.0</td>\n",
              "      <td>5000.0</td>\n",
              "      <td>180</td>\n",
              "      <td>100.0</td>\n",
              "      <td>156.250000</td>\n",
              "      <td>188.615384</td>\n",
              "      <td>0.0</td>\n",
              "    </tr>\n",
              "  </tbody>\n",
              "</table>\n",
              "</div>\n",
              "      <button class=\"colab-df-convert\" onclick=\"convertToInteractive('df-00d427cd-2bc7-49d6-ae02-3f6a13013163')\"\n",
              "              title=\"Convert this dataframe to an interactive table.\"\n",
              "              style=\"display:none;\">\n",
              "        \n",
              "  <svg xmlns=\"http://www.w3.org/2000/svg\" height=\"24px\"viewBox=\"0 0 24 24\"\n",
              "       width=\"24px\">\n",
              "    <path d=\"M0 0h24v24H0V0z\" fill=\"none\"/>\n",
              "    <path d=\"M18.56 5.44l.94 2.06.94-2.06 2.06-.94-2.06-.94-.94-2.06-.94 2.06-2.06.94zm-11 1L8.5 8.5l.94-2.06 2.06-.94-2.06-.94L8.5 2.5l-.94 2.06-2.06.94zm10 10l.94 2.06.94-2.06 2.06-.94-2.06-.94-.94-2.06-.94 2.06-2.06.94z\"/><path d=\"M17.41 7.96l-1.37-1.37c-.4-.4-.92-.59-1.43-.59-.52 0-1.04.2-1.43.59L10.3 9.45l-7.72 7.72c-.78.78-.78 2.05 0 2.83L4 21.41c.39.39.9.59 1.41.59.51 0 1.02-.2 1.41-.59l7.78-7.78 2.81-2.81c.8-.78.8-2.07 0-2.86zM5.41 20L4 18.59l7.72-7.72 1.47 1.35L5.41 20z\"/>\n",
              "  </svg>\n",
              "      </button>\n",
              "      \n",
              "  <style>\n",
              "    .colab-df-container {\n",
              "      display:flex;\n",
              "      flex-wrap:wrap;\n",
              "      gap: 12px;\n",
              "    }\n",
              "\n",
              "    .colab-df-convert {\n",
              "      background-color: #E8F0FE;\n",
              "      border: none;\n",
              "      border-radius: 50%;\n",
              "      cursor: pointer;\n",
              "      display: none;\n",
              "      fill: #1967D2;\n",
              "      height: 32px;\n",
              "      padding: 0 0 0 0;\n",
              "      width: 32px;\n",
              "    }\n",
              "\n",
              "    .colab-df-convert:hover {\n",
              "      background-color: #E2EBFA;\n",
              "      box-shadow: 0px 1px 2px rgba(60, 64, 67, 0.3), 0px 1px 3px 1px rgba(60, 64, 67, 0.15);\n",
              "      fill: #174EA6;\n",
              "    }\n",
              "\n",
              "    [theme=dark] .colab-df-convert {\n",
              "      background-color: #3B4455;\n",
              "      fill: #D2E3FC;\n",
              "    }\n",
              "\n",
              "    [theme=dark] .colab-df-convert:hover {\n",
              "      background-color: #434B5C;\n",
              "      box-shadow: 0px 1px 3px 1px rgba(0, 0, 0, 0.15);\n",
              "      filter: drop-shadow(0px 1px 2px rgba(0, 0, 0, 0.3));\n",
              "      fill: #FFFFFF;\n",
              "    }\n",
              "  </style>\n",
              "\n",
              "      <script>\n",
              "        const buttonEl =\n",
              "          document.querySelector('#df-00d427cd-2bc7-49d6-ae02-3f6a13013163 button.colab-df-convert');\n",
              "        buttonEl.style.display =\n",
              "          google.colab.kernel.accessAllowed ? 'block' : 'none';\n",
              "\n",
              "        async function convertToInteractive(key) {\n",
              "          const element = document.querySelector('#df-00d427cd-2bc7-49d6-ae02-3f6a13013163');\n",
              "          const dataTable =\n",
              "            await google.colab.kernel.invokeFunction('convertToInteractive',\n",
              "                                                     [key], {});\n",
              "          if (!dataTable) return;\n",
              "\n",
              "          const docLinkHtml = 'Like what you see? Visit the ' +\n",
              "            '<a target=\"_blank\" href=https://colab.research.google.com/notebooks/data_table.ipynb>data table notebook</a>'\n",
              "            + ' to learn more about interactive tables.';\n",
              "          element.innerHTML = '';\n",
              "          dataTable['output_type'] = 'display_data';\n",
              "          await google.colab.output.renderOutput(dataTable, element);\n",
              "          const docLink = document.createElement('div');\n",
              "          docLink.innerHTML = docLinkHtml;\n",
              "          element.appendChild(docLink);\n",
              "        }\n",
              "      </script>\n",
              "    </div>\n",
              "  </div>\n",
              "  "
            ]
          },
          "metadata": {},
          "execution_count": 106
        }
      ]
    },
    {
      "cell_type": "code",
      "source": [
        "#Creating a dataframe for visualization\n",
        "\n",
        "# Aggregating the parameters across all the states for each month\n",
        "\n",
        "Output_chart = Output_ca.groupby('Month').agg({'Demand': ['sum'],'Staff Applications': ['sum'],'Number of Outsource': ['sum']})\n",
        "\n",
        "Output_chart = Output_chart.reset_index()\n",
        "\n",
        "Output_chart"
      ],
      "metadata": {
        "colab": {
          "base_uri": "https://localhost:8080/",
          "height": 457
        },
        "id": "Ticm82TDcAfb",
        "outputId": "efba4ce6-b4ef-4640-d3f7-53e4cde6ed8a"
      },
      "execution_count": 121,
      "outputs": [
        {
          "output_type": "execute_result",
          "data": {
            "text/plain": [
              "   Month Demand Staff Applications Number of Outsource\n",
              "            sum                sum                 sum\n",
              "0    Apr   6896             6896.0                 0.0\n",
              "1    Aug   8487             7439.0              1048.0\n",
              "2    Dec  11408             6164.3              5243.7\n",
              "3    Feb   9473             8421.8              1051.2\n",
              "4    Jan  11329            11329.0                 0.0\n",
              "5    Jul  12094             6296.4              5797.6\n",
              "6    Jun   7064             5805.2              1258.8\n",
              "7    Mar  10814             9624.4              1189.6\n",
              "8    May   8042             8042.0                 0.0\n",
              "9    Nov   8384             4881.0              3503.0\n",
              "10   Oct  10105             8443.0              1662.0\n",
              "11   Sep   9198             9198.0                 0.0"
            ],
            "text/html": [
              "\n",
              "  <div id=\"df-d79e92f2-9058-410c-af64-96140d5cc7fa\">\n",
              "    <div class=\"colab-df-container\">\n",
              "      <div>\n",
              "<style scoped>\n",
              "    .dataframe tbody tr th:only-of-type {\n",
              "        vertical-align: middle;\n",
              "    }\n",
              "\n",
              "    .dataframe tbody tr th {\n",
              "        vertical-align: top;\n",
              "    }\n",
              "\n",
              "    .dataframe thead tr th {\n",
              "        text-align: left;\n",
              "    }\n",
              "</style>\n",
              "<table border=\"1\" class=\"dataframe\">\n",
              "  <thead>\n",
              "    <tr>\n",
              "      <th></th>\n",
              "      <th>Month</th>\n",
              "      <th>Demand</th>\n",
              "      <th>Staff Applications</th>\n",
              "      <th>Number of Outsource</th>\n",
              "    </tr>\n",
              "    <tr>\n",
              "      <th></th>\n",
              "      <th></th>\n",
              "      <th>sum</th>\n",
              "      <th>sum</th>\n",
              "      <th>sum</th>\n",
              "    </tr>\n",
              "  </thead>\n",
              "  <tbody>\n",
              "    <tr>\n",
              "      <th>0</th>\n",
              "      <td>Apr</td>\n",
              "      <td>6896</td>\n",
              "      <td>6896.0</td>\n",
              "      <td>0.0</td>\n",
              "    </tr>\n",
              "    <tr>\n",
              "      <th>1</th>\n",
              "      <td>Aug</td>\n",
              "      <td>8487</td>\n",
              "      <td>7439.0</td>\n",
              "      <td>1048.0</td>\n",
              "    </tr>\n",
              "    <tr>\n",
              "      <th>2</th>\n",
              "      <td>Dec</td>\n",
              "      <td>11408</td>\n",
              "      <td>6164.3</td>\n",
              "      <td>5243.7</td>\n",
              "    </tr>\n",
              "    <tr>\n",
              "      <th>3</th>\n",
              "      <td>Feb</td>\n",
              "      <td>9473</td>\n",
              "      <td>8421.8</td>\n",
              "      <td>1051.2</td>\n",
              "    </tr>\n",
              "    <tr>\n",
              "      <th>4</th>\n",
              "      <td>Jan</td>\n",
              "      <td>11329</td>\n",
              "      <td>11329.0</td>\n",
              "      <td>0.0</td>\n",
              "    </tr>\n",
              "    <tr>\n",
              "      <th>5</th>\n",
              "      <td>Jul</td>\n",
              "      <td>12094</td>\n",
              "      <td>6296.4</td>\n",
              "      <td>5797.6</td>\n",
              "    </tr>\n",
              "    <tr>\n",
              "      <th>6</th>\n",
              "      <td>Jun</td>\n",
              "      <td>7064</td>\n",
              "      <td>5805.2</td>\n",
              "      <td>1258.8</td>\n",
              "    </tr>\n",
              "    <tr>\n",
              "      <th>7</th>\n",
              "      <td>Mar</td>\n",
              "      <td>10814</td>\n",
              "      <td>9624.4</td>\n",
              "      <td>1189.6</td>\n",
              "    </tr>\n",
              "    <tr>\n",
              "      <th>8</th>\n",
              "      <td>May</td>\n",
              "      <td>8042</td>\n",
              "      <td>8042.0</td>\n",
              "      <td>0.0</td>\n",
              "    </tr>\n",
              "    <tr>\n",
              "      <th>9</th>\n",
              "      <td>Nov</td>\n",
              "      <td>8384</td>\n",
              "      <td>4881.0</td>\n",
              "      <td>3503.0</td>\n",
              "    </tr>\n",
              "    <tr>\n",
              "      <th>10</th>\n",
              "      <td>Oct</td>\n",
              "      <td>10105</td>\n",
              "      <td>8443.0</td>\n",
              "      <td>1662.0</td>\n",
              "    </tr>\n",
              "    <tr>\n",
              "      <th>11</th>\n",
              "      <td>Sep</td>\n",
              "      <td>9198</td>\n",
              "      <td>9198.0</td>\n",
              "      <td>0.0</td>\n",
              "    </tr>\n",
              "  </tbody>\n",
              "</table>\n",
              "</div>\n",
              "      <button class=\"colab-df-convert\" onclick=\"convertToInteractive('df-d79e92f2-9058-410c-af64-96140d5cc7fa')\"\n",
              "              title=\"Convert this dataframe to an interactive table.\"\n",
              "              style=\"display:none;\">\n",
              "        \n",
              "  <svg xmlns=\"http://www.w3.org/2000/svg\" height=\"24px\"viewBox=\"0 0 24 24\"\n",
              "       width=\"24px\">\n",
              "    <path d=\"M0 0h24v24H0V0z\" fill=\"none\"/>\n",
              "    <path d=\"M18.56 5.44l.94 2.06.94-2.06 2.06-.94-2.06-.94-.94-2.06-.94 2.06-2.06.94zm-11 1L8.5 8.5l.94-2.06 2.06-.94-2.06-.94L8.5 2.5l-.94 2.06-2.06.94zm10 10l.94 2.06.94-2.06 2.06-.94-2.06-.94-.94-2.06-.94 2.06-2.06.94z\"/><path d=\"M17.41 7.96l-1.37-1.37c-.4-.4-.92-.59-1.43-.59-.52 0-1.04.2-1.43.59L10.3 9.45l-7.72 7.72c-.78.78-.78 2.05 0 2.83L4 21.41c.39.39.9.59 1.41.59.51 0 1.02-.2 1.41-.59l7.78-7.78 2.81-2.81c.8-.78.8-2.07 0-2.86zM5.41 20L4 18.59l7.72-7.72 1.47 1.35L5.41 20z\"/>\n",
              "  </svg>\n",
              "      </button>\n",
              "      \n",
              "  <style>\n",
              "    .colab-df-container {\n",
              "      display:flex;\n",
              "      flex-wrap:wrap;\n",
              "      gap: 12px;\n",
              "    }\n",
              "\n",
              "    .colab-df-convert {\n",
              "      background-color: #E8F0FE;\n",
              "      border: none;\n",
              "      border-radius: 50%;\n",
              "      cursor: pointer;\n",
              "      display: none;\n",
              "      fill: #1967D2;\n",
              "      height: 32px;\n",
              "      padding: 0 0 0 0;\n",
              "      width: 32px;\n",
              "    }\n",
              "\n",
              "    .colab-df-convert:hover {\n",
              "      background-color: #E2EBFA;\n",
              "      box-shadow: 0px 1px 2px rgba(60, 64, 67, 0.3), 0px 1px 3px 1px rgba(60, 64, 67, 0.15);\n",
              "      fill: #174EA6;\n",
              "    }\n",
              "\n",
              "    [theme=dark] .colab-df-convert {\n",
              "      background-color: #3B4455;\n",
              "      fill: #D2E3FC;\n",
              "    }\n",
              "\n",
              "    [theme=dark] .colab-df-convert:hover {\n",
              "      background-color: #434B5C;\n",
              "      box-shadow: 0px 1px 3px 1px rgba(0, 0, 0, 0.15);\n",
              "      filter: drop-shadow(0px 1px 2px rgba(0, 0, 0, 0.3));\n",
              "      fill: #FFFFFF;\n",
              "    }\n",
              "  </style>\n",
              "\n",
              "      <script>\n",
              "        const buttonEl =\n",
              "          document.querySelector('#df-d79e92f2-9058-410c-af64-96140d5cc7fa button.colab-df-convert');\n",
              "        buttonEl.style.display =\n",
              "          google.colab.kernel.accessAllowed ? 'block' : 'none';\n",
              "\n",
              "        async function convertToInteractive(key) {\n",
              "          const element = document.querySelector('#df-d79e92f2-9058-410c-af64-96140d5cc7fa');\n",
              "          const dataTable =\n",
              "            await google.colab.kernel.invokeFunction('convertToInteractive',\n",
              "                                                     [key], {});\n",
              "          if (!dataTable) return;\n",
              "\n",
              "          const docLinkHtml = 'Like what you see? Visit the ' +\n",
              "            '<a target=\"_blank\" href=https://colab.research.google.com/notebooks/data_table.ipynb>data table notebook</a>'\n",
              "            + ' to learn more about interactive tables.';\n",
              "          element.innerHTML = '';\n",
              "          dataTable['output_type'] = 'display_data';\n",
              "          await google.colab.output.renderOutput(dataTable, element);\n",
              "          const docLink = document.createElement('div');\n",
              "          docLink.innerHTML = docLinkHtml;\n",
              "          element.appendChild(docLink);\n",
              "        }\n",
              "      </script>\n",
              "    </div>\n",
              "  </div>\n",
              "  "
            ]
          },
          "metadata": {},
          "execution_count": 121
        }
      ]
    },
    {
      "cell_type": "code",
      "source": [
        "Output_chart[\"Percent Staff Appl\"]=Output_chart[\"Staff Applications\"]*100/Output_chart[\"Demand\"]\n",
        "Output_chart[\"Percent Outsource Appl\"]=Output_chart[\"Number of Outsource\"]*100/Output_chart[\"Demand\"]"
      ],
      "metadata": {
        "id": "T-YaAzlRcyrt"
      },
      "execution_count": 122,
      "outputs": []
    },
    {
      "cell_type": "code",
      "source": [
        "Output_chart"
      ],
      "metadata": {
        "colab": {
          "base_uri": "https://localhost:8080/",
          "height": 457
        },
        "id": "d9WsByZAdV9T",
        "outputId": "d1ecc2e6-fe70-470d-a72f-2fb8deee48d1"
      },
      "execution_count": 123,
      "outputs": [
        {
          "output_type": "execute_result",
          "data": {
            "text/plain": [
              "   Month Demand Staff Applications Number of Outsource Percent Staff Appl  \\\n",
              "            sum                sum                 sum                      \n",
              "0    Apr   6896             6896.0                 0.0         100.000000   \n",
              "1    Aug   8487             7439.0              1048.0          87.651703   \n",
              "2    Dec  11408             6164.3              5243.7          54.034888   \n",
              "3    Feb   9473             8421.8              1051.2          88.903199   \n",
              "4    Jan  11329            11329.0                 0.0         100.000000   \n",
              "5    Jul  12094             6296.4              5797.6          52.062180   \n",
              "6    Jun   7064             5805.2              1258.8          82.180068   \n",
              "7    Mar  10814             9624.4              1189.6          88.999445   \n",
              "8    May   8042             8042.0                 0.0         100.000000   \n",
              "9    Nov   8384             4881.0              3503.0          58.218034   \n",
              "10   Oct  10105             8443.0              1662.0          83.552697   \n",
              "11   Sep   9198             9198.0                 0.0         100.000000   \n",
              "\n",
              "   Percent Outsource Appl  \n",
              "                           \n",
              "0                0.000000  \n",
              "1               12.348297  \n",
              "2               45.965112  \n",
              "3               11.096801  \n",
              "4                0.000000  \n",
              "5               47.937820  \n",
              "6               17.819932  \n",
              "7               11.000555  \n",
              "8                0.000000  \n",
              "9               41.781966  \n",
              "10              16.447303  \n",
              "11               0.000000  "
            ],
            "text/html": [
              "\n",
              "  <div id=\"df-b7cb217b-1086-471f-b831-ecc870c77d6f\">\n",
              "    <div class=\"colab-df-container\">\n",
              "      <div>\n",
              "<style scoped>\n",
              "    .dataframe tbody tr th:only-of-type {\n",
              "        vertical-align: middle;\n",
              "    }\n",
              "\n",
              "    .dataframe tbody tr th {\n",
              "        vertical-align: top;\n",
              "    }\n",
              "\n",
              "    .dataframe thead tr th {\n",
              "        text-align: left;\n",
              "    }\n",
              "</style>\n",
              "<table border=\"1\" class=\"dataframe\">\n",
              "  <thead>\n",
              "    <tr>\n",
              "      <th></th>\n",
              "      <th>Month</th>\n",
              "      <th>Demand</th>\n",
              "      <th>Staff Applications</th>\n",
              "      <th>Number of Outsource</th>\n",
              "      <th>Percent Staff Appl</th>\n",
              "      <th>Percent Outsource Appl</th>\n",
              "    </tr>\n",
              "    <tr>\n",
              "      <th></th>\n",
              "      <th></th>\n",
              "      <th>sum</th>\n",
              "      <th>sum</th>\n",
              "      <th>sum</th>\n",
              "      <th></th>\n",
              "      <th></th>\n",
              "    </tr>\n",
              "  </thead>\n",
              "  <tbody>\n",
              "    <tr>\n",
              "      <th>0</th>\n",
              "      <td>Apr</td>\n",
              "      <td>6896</td>\n",
              "      <td>6896.0</td>\n",
              "      <td>0.0</td>\n",
              "      <td>100.000000</td>\n",
              "      <td>0.000000</td>\n",
              "    </tr>\n",
              "    <tr>\n",
              "      <th>1</th>\n",
              "      <td>Aug</td>\n",
              "      <td>8487</td>\n",
              "      <td>7439.0</td>\n",
              "      <td>1048.0</td>\n",
              "      <td>87.651703</td>\n",
              "      <td>12.348297</td>\n",
              "    </tr>\n",
              "    <tr>\n",
              "      <th>2</th>\n",
              "      <td>Dec</td>\n",
              "      <td>11408</td>\n",
              "      <td>6164.3</td>\n",
              "      <td>5243.7</td>\n",
              "      <td>54.034888</td>\n",
              "      <td>45.965112</td>\n",
              "    </tr>\n",
              "    <tr>\n",
              "      <th>3</th>\n",
              "      <td>Feb</td>\n",
              "      <td>9473</td>\n",
              "      <td>8421.8</td>\n",
              "      <td>1051.2</td>\n",
              "      <td>88.903199</td>\n",
              "      <td>11.096801</td>\n",
              "    </tr>\n",
              "    <tr>\n",
              "      <th>4</th>\n",
              "      <td>Jan</td>\n",
              "      <td>11329</td>\n",
              "      <td>11329.0</td>\n",
              "      <td>0.0</td>\n",
              "      <td>100.000000</td>\n",
              "      <td>0.000000</td>\n",
              "    </tr>\n",
              "    <tr>\n",
              "      <th>5</th>\n",
              "      <td>Jul</td>\n",
              "      <td>12094</td>\n",
              "      <td>6296.4</td>\n",
              "      <td>5797.6</td>\n",
              "      <td>52.062180</td>\n",
              "      <td>47.937820</td>\n",
              "    </tr>\n",
              "    <tr>\n",
              "      <th>6</th>\n",
              "      <td>Jun</td>\n",
              "      <td>7064</td>\n",
              "      <td>5805.2</td>\n",
              "      <td>1258.8</td>\n",
              "      <td>82.180068</td>\n",
              "      <td>17.819932</td>\n",
              "    </tr>\n",
              "    <tr>\n",
              "      <th>7</th>\n",
              "      <td>Mar</td>\n",
              "      <td>10814</td>\n",
              "      <td>9624.4</td>\n",
              "      <td>1189.6</td>\n",
              "      <td>88.999445</td>\n",
              "      <td>11.000555</td>\n",
              "    </tr>\n",
              "    <tr>\n",
              "      <th>8</th>\n",
              "      <td>May</td>\n",
              "      <td>8042</td>\n",
              "      <td>8042.0</td>\n",
              "      <td>0.0</td>\n",
              "      <td>100.000000</td>\n",
              "      <td>0.000000</td>\n",
              "    </tr>\n",
              "    <tr>\n",
              "      <th>9</th>\n",
              "      <td>Nov</td>\n",
              "      <td>8384</td>\n",
              "      <td>4881.0</td>\n",
              "      <td>3503.0</td>\n",
              "      <td>58.218034</td>\n",
              "      <td>41.781966</td>\n",
              "    </tr>\n",
              "    <tr>\n",
              "      <th>10</th>\n",
              "      <td>Oct</td>\n",
              "      <td>10105</td>\n",
              "      <td>8443.0</td>\n",
              "      <td>1662.0</td>\n",
              "      <td>83.552697</td>\n",
              "      <td>16.447303</td>\n",
              "    </tr>\n",
              "    <tr>\n",
              "      <th>11</th>\n",
              "      <td>Sep</td>\n",
              "      <td>9198</td>\n",
              "      <td>9198.0</td>\n",
              "      <td>0.0</td>\n",
              "      <td>100.000000</td>\n",
              "      <td>0.000000</td>\n",
              "    </tr>\n",
              "  </tbody>\n",
              "</table>\n",
              "</div>\n",
              "      <button class=\"colab-df-convert\" onclick=\"convertToInteractive('df-b7cb217b-1086-471f-b831-ecc870c77d6f')\"\n",
              "              title=\"Convert this dataframe to an interactive table.\"\n",
              "              style=\"display:none;\">\n",
              "        \n",
              "  <svg xmlns=\"http://www.w3.org/2000/svg\" height=\"24px\"viewBox=\"0 0 24 24\"\n",
              "       width=\"24px\">\n",
              "    <path d=\"M0 0h24v24H0V0z\" fill=\"none\"/>\n",
              "    <path d=\"M18.56 5.44l.94 2.06.94-2.06 2.06-.94-2.06-.94-.94-2.06-.94 2.06-2.06.94zm-11 1L8.5 8.5l.94-2.06 2.06-.94-2.06-.94L8.5 2.5l-.94 2.06-2.06.94zm10 10l.94 2.06.94-2.06 2.06-.94-2.06-.94-.94-2.06-.94 2.06-2.06.94z\"/><path d=\"M17.41 7.96l-1.37-1.37c-.4-.4-.92-.59-1.43-.59-.52 0-1.04.2-1.43.59L10.3 9.45l-7.72 7.72c-.78.78-.78 2.05 0 2.83L4 21.41c.39.39.9.59 1.41.59.51 0 1.02-.2 1.41-.59l7.78-7.78 2.81-2.81c.8-.78.8-2.07 0-2.86zM5.41 20L4 18.59l7.72-7.72 1.47 1.35L5.41 20z\"/>\n",
              "  </svg>\n",
              "      </button>\n",
              "      \n",
              "  <style>\n",
              "    .colab-df-container {\n",
              "      display:flex;\n",
              "      flex-wrap:wrap;\n",
              "      gap: 12px;\n",
              "    }\n",
              "\n",
              "    .colab-df-convert {\n",
              "      background-color: #E8F0FE;\n",
              "      border: none;\n",
              "      border-radius: 50%;\n",
              "      cursor: pointer;\n",
              "      display: none;\n",
              "      fill: #1967D2;\n",
              "      height: 32px;\n",
              "      padding: 0 0 0 0;\n",
              "      width: 32px;\n",
              "    }\n",
              "\n",
              "    .colab-df-convert:hover {\n",
              "      background-color: #E2EBFA;\n",
              "      box-shadow: 0px 1px 2px rgba(60, 64, 67, 0.3), 0px 1px 3px 1px rgba(60, 64, 67, 0.15);\n",
              "      fill: #174EA6;\n",
              "    }\n",
              "\n",
              "    [theme=dark] .colab-df-convert {\n",
              "      background-color: #3B4455;\n",
              "      fill: #D2E3FC;\n",
              "    }\n",
              "\n",
              "    [theme=dark] .colab-df-convert:hover {\n",
              "      background-color: #434B5C;\n",
              "      box-shadow: 0px 1px 3px 1px rgba(0, 0, 0, 0.15);\n",
              "      filter: drop-shadow(0px 1px 2px rgba(0, 0, 0, 0.3));\n",
              "      fill: #FFFFFF;\n",
              "    }\n",
              "  </style>\n",
              "\n",
              "      <script>\n",
              "        const buttonEl =\n",
              "          document.querySelector('#df-b7cb217b-1086-471f-b831-ecc870c77d6f button.colab-df-convert');\n",
              "        buttonEl.style.display =\n",
              "          google.colab.kernel.accessAllowed ? 'block' : 'none';\n",
              "\n",
              "        async function convertToInteractive(key) {\n",
              "          const element = document.querySelector('#df-b7cb217b-1086-471f-b831-ecc870c77d6f');\n",
              "          const dataTable =\n",
              "            await google.colab.kernel.invokeFunction('convertToInteractive',\n",
              "                                                     [key], {});\n",
              "          if (!dataTable) return;\n",
              "\n",
              "          const docLinkHtml = 'Like what you see? Visit the ' +\n",
              "            '<a target=\"_blank\" href=https://colab.research.google.com/notebooks/data_table.ipynb>data table notebook</a>'\n",
              "            + ' to learn more about interactive tables.';\n",
              "          element.innerHTML = '';\n",
              "          dataTable['output_type'] = 'display_data';\n",
              "          await google.colab.output.renderOutput(dataTable, element);\n",
              "          const docLink = document.createElement('div');\n",
              "          docLink.innerHTML = docLinkHtml;\n",
              "          element.appendChild(docLink);\n",
              "        }\n",
              "      </script>\n",
              "    </div>\n",
              "  </div>\n",
              "  "
            ]
          },
          "metadata": {},
          "execution_count": 123
        }
      ]
    },
    {
      "cell_type": "code",
      "source": [
        "# Writing the results in to an Excel sheet\n",
        "book = pd.DataFrame(Output_ca)\n",
        "book.to_excel(\"Business_Staff_Outsourcing_Output_Visualization.xlsx\")  "
      ],
      "metadata": {
        "id": "Lsu9_DIpV_VD"
      },
      "execution_count": 107,
      "outputs": []
    },
    {
      "cell_type": "markdown",
      "source": [
        "#### Create a stacked column chart that shows the percentage of applications processed by the staff and by the vendor for each month (%staff processed applications+ %vendor processed applications should add up to 100%)."
      ],
      "metadata": {
        "id": "2VStla3D3aQP"
      }
    },
    {
      "cell_type": "code",
      "source": [
        "#Staff processing per month\n",
        "import matplotlib.pyplot as plt\n",
        "plt.barh(Output_chart[\"Month\"], Output_chart[\"Percent Staff Appl\"])"
      ],
      "metadata": {
        "colab": {
          "base_uri": "https://localhost:8080/",
          "height": 282
        },
        "id": "f9mVDwSi3J4z",
        "outputId": "931166cf-04be-4a74-d639-56a7472ae077"
      },
      "execution_count": 124,
      "outputs": [
        {
          "output_type": "execute_result",
          "data": {
            "text/plain": [
              "<BarContainer object of 12 artists>"
            ]
          },
          "metadata": {},
          "execution_count": 124
        },
        {
          "output_type": "display_data",
          "data": {
            "text/plain": [
              "<Figure size 432x288 with 1 Axes>"
            ],
            "image/png": "[encoded data removed]"
          },
          "metadata": {
            "needs_background": "light"
          }
        }
      ]
    },
    {
      "cell_type": "code",
      "source": [
        "# Applications processed by only outsourced staff per month\n",
        "plt.barh(Output_chart[\"Month\"], Output_chart[\"Percent Outsource Appl\"])"
      ],
      "metadata": {
        "colab": {
          "base_uri": "https://localhost:8080/",
          "height": 282
        },
        "id": "3urDpBOi3JsO",
        "outputId": "e8c35efe-6d77-4260-fee2-09eaf50021ea"
      },
      "execution_count": 125,
      "outputs": [
        {
          "output_type": "execute_result",
          "data": {
            "text/plain": [
              "<BarContainer object of 12 artists>"
            ]
          },
          "metadata": {},
          "execution_count": 125
        },
        {
          "output_type": "display_data",
          "data": {
            "text/plain": [
              "<Figure size 432x288 with 1 Axes>"
            ],
            "image/png": "[encoded data removed]"
          },
          "metadata": {
            "needs_background": "light"
          }
        }
      ]
    },
    {
      "cell_type": "code",
      "source": [
        "import matplotlib.pyplot as plt\n",
        "\n",
        "\n",
        "figsize=(15, 16)\n",
        "plt.bar(Output_chart[\"Month\"], Output_chart[\"Percent Staff Appl\"], color=\"#56a7b3\")\n",
        "\n",
        "plt.bar(Output_chart[\"Month\"], Output_chart[\"Percent Outsource Appl\"], bottom=Output_chart[\"Percent Staff Appl\"], color=\"#00AF06\")\n",
        "\n",
        "plt.xlabel('Month Range', fontsize=12)  \n",
        "plt.ylabel('Percentage of FTE Vs Vendors', fontsize=12)\n",
        "\n",
        "plt.show()"
      ],
      "metadata": {
        "colab": {
          "base_uri": "https://localhost:8080/",
          "height": 286
        },
        "id": "LZqKRvl43j8H",
        "outputId": "fcd7ec45-a75d-4fec-e862-f4b62e74be2b"
      },
      "execution_count": 126,
      "outputs": [
        {
          "output_type": "display_data",
          "data": {
            "text/plain": [
              "<Figure size 432x288 with 1 Axes>"
            ],
            "image/png": "[encoded data removed]"
          },
          "metadata": {
            "needs_background": "light"
          }
        }
      ]
    },
    {
      "cell_type": "markdown",
      "source": [
        "### The above stacked chart clearly shows the %tage of applications processed by the Staff/Vendors per month.\n",
        "\n",
        "#### Observations:\n",
        "\n",
        "#### 1. Blue color shows applications processed by FTE\n",
        "#### 2. Green color shows applications processed by Vendor\n",
        "#### 3. Month like Jan, April, May,Sep --> 100% applications processed by FTE\n"
      ],
      "metadata": {
        "id": "cHKXb6-G3p9P"
      }
    },
    {
      "cell_type": "markdown",
      "source": [
        "#### Create a graph to show how the cost per application increases with respect to any change in the parameters in your analysis. Hint: Use the cost per application that you calculate in Questions 2 and 3 (i.e., the best case, and the worst case)."
      ],
      "metadata": {
        "id": "4SyHXlVg3xhk"
      }
    },
    {
      "cell_type": "code",
      "source": [
        "plt.plot(Output_ca['Demand'],Output_ca['Per Application Cost'])\n",
        "plt.title('Cost per application with respect to demand', fontsize=20)\n",
        "plt.xlabel('Demand', fontsize=18)\n",
        "plt.ylabel('Per Application Cost', fontsize=18)\n",
        "plt.grid(True)\n",
        "plt.show()"
      ],
      "metadata": {
        "colab": {
          "base_uri": "https://localhost:8080/",
          "height": 308
        },
        "id": "Eou5WCGK31-H",
        "outputId": "9a01f379-4343-42c3-bea2-8b1cbc037e3b"
      },
      "execution_count": 127,
      "outputs": [
        {
          "output_type": "display_data",
          "data": {
            "text/plain": [
              "<Figure size 432x288 with 1 Axes>"
            ],
            "image/png": "[encoded data removed]"
          },
          "metadata": {
            "needs_background": "light"
          }
        }
      ]
    },
    {
      "cell_type": "markdown",
      "source": [
        "#### The above graph is between demand and Cost per Application ( whether FTE/vendor any one processes it)\n",
        "Also, There is no impact of any change in parameters.\n",
        "#### Graph is always increasing in nature\n"
      ],
      "metadata": {
        "id": "qPgIMeyH376l"
      }
    },
    {
      "cell_type": "code",
      "source": [
        "figsize=(20,20)\n",
        "Output_ca.plot('Demand',['Cost_per_appl_worst','Cost_per_appl_best'], kind='hist')"
      ],
      "metadata": {
        "colab": {
          "base_uri": "https://localhost:8080/",
          "height": 282
        },
        "id": "fBGd79lI39qe",
        "outputId": "d3a7f34b-e542-4626-8c5f-f611f2ac3416"
      },
      "execution_count": 128,
      "outputs": [
        {
          "output_type": "execute_result",
          "data": {
            "text/plain": [
              "<matplotlib.axes._subplots.AxesSubplot at 0x7fa9e3a33d50>"
            ]
          },
          "metadata": {},
          "execution_count": 128
        },
        {
          "output_type": "display_data",
          "data": {
            "text/plain": [
              "<Figure size 432x288 with 1 Axes>"
            ],
            "image/png": "[encoded data removed]"
          },
          "metadata": {
            "needs_background": "light"
          }
        }
      ]
    },
    {
      "cell_type": "code",
      "source": [
        "figsize=(20,20)\n",
        "Output_ca.plot('Demand',['Cost_per_appl_worst','Cost_per_appl_best'], kind='box')"
      ],
      "metadata": {
        "colab": {
          "base_uri": "https://localhost:8080/",
          "height": 283
        },
        "id": "LrgVCQKg4B4-",
        "outputId": "657d1b74-2ec8-436c-dcbd-6139b17dca8f"
      },
      "execution_count": 129,
      "outputs": [
        {
          "output_type": "execute_result",
          "data": {
            "text/plain": [
              "<matplotlib.axes._subplots.AxesSubplot at 0x7fa9e2eb7d10>"
            ]
          },
          "metadata": {},
          "execution_count": 129
        },
        {
          "output_type": "display_data",
          "data": {
            "text/plain": [
              "<Figure size 432x288 with 1 Axes>"
            ],
            "image/png": "[encoded data removed]"
          },
          "metadata": {
            "needs_background": "light"
          }
        }
      ]
    },
    {
      "cell_type": "code",
      "source": [
        "figsize=(60,50)\n",
        "Output_ca.plot('Demand',['Cost_per_appl_worst','Cost_per_appl_best'], kind='barh')"
      ],
      "metadata": {
        "colab": {
          "base_uri": "https://localhost:8080/",
          "height": 283
        },
        "id": "-UZFqA284EQe",
        "outputId": "098940b5-b4af-4c43-f50e-e53751e7d8b1"
      },
      "execution_count": 130,
      "outputs": [
        {
          "output_type": "execute_result",
          "data": {
            "text/plain": [
              "<matplotlib.axes._subplots.AxesSubplot at 0x7fa9e2f6ad50>"
            ]
          },
          "metadata": {},
          "execution_count": 130
        },
        {
          "output_type": "display_data",
          "data": {
            "text/plain": [
              "<Figure size 432x288 with 1 Axes>"
            ],
            "image/png": "[encoded data removed]"
          },
          "metadata": {
            "needs_background": "light"
          }
        }
      ]
    },
    {
      "cell_type": "code",
      "source": [
        "figsize=(20,20)\n",
        "Output_ca.plot('Demand',['Per Application Cost','Cost_per_appl_worst','Cost_per_appl_best'], kind='line')"
      ],
      "metadata": {
        "colab": {
          "base_uri": "https://localhost:8080/",
          "height": 296
        },
        "id": "sdHwzKs74GiH",
        "outputId": "71b3934e-7f51-4f30-8627-16ddde04f1ff"
      },
      "execution_count": 131,
      "outputs": [
        {
          "output_type": "execute_result",
          "data": {
            "text/plain": [
              "<matplotlib.axes._subplots.AxesSubplot at 0x7fa9e2d148d0>"
            ]
          },
          "metadata": {},
          "execution_count": 131
        },
        {
          "output_type": "display_data",
          "data": {
            "text/plain": [
              "<Figure size 432x288 with 1 Axes>"
            ],
            "image/png": "[encoded data removed]"
          },
          "metadata": {
            "needs_background": "light"
          }
        }
      ]
    },
    {
      "cell_type": "markdown",
      "source": [
        "#### The above graph shows the different, best and worst case per application as per Q2.\n",
        "\n",
        "#### Cost per application for worst scenario is represented by orange color.\n",
        "\n",
        "#### Cost per application for best scenario is represented by green color."
      ],
      "metadata": {
        "id": "qZp-3rG04kV8"
      }
    }
  ],
  "metadata": {
    "kernelspec": {
      "display_name": "Python 3",
      "language": "python",
      "name": "python3"
    },
    "language_info": {
      "codemirror_mode": {
        "name": "ipython",
        "version": 3
      },
      "file_extension": ".py",
      "mimetype": "text/x-python",
      "name": "python",
      "nbconvert_exporter": "python",
      "pygments_lexer": "ipython3",
      "version": "3.7.4"
    },
    "colab": {
      "provenance": [],
      "collapsed_sections": [
        "mF1FcXyPuJn1"
      ]
    }
  },
  "nbformat": 4,
  "nbformat_minor": 0
}